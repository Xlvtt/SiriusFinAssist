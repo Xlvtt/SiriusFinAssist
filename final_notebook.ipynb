{
 "cells": [
  {
   "cell_type": "code",
   "outputs": [
    {
     "data": {
      "text/plain": "True"
     },
     "execution_count": 6,
     "metadata": {},
     "output_type": "execute_result"
    }
   ],
   "source": [
    "from dotenv import load_dotenv\n",
    "\n",
    "load_dotenv()"
   ],
   "metadata": {
    "collapsed": false,
    "ExecuteTime": {
     "end_time": "2024-12-11T07:51:31.706482Z",
     "start_time": "2024-12-11T07:51:31.688110Z"
    }
   },
   "id": "d3a9154d4c45777a",
   "execution_count": 6
  },
  {
   "cell_type": "markdown",
   "source": [
    "Найдем пример промта для langchain агента"
   ],
   "metadata": {
    "collapsed": false
   },
   "id": "e72b489fb08397b9"
  },
  {
   "cell_type": "markdown",
   "source": [
    "Инструмент для поиска:"
   ],
   "metadata": {
    "collapsed": false
   },
   "id": "cd1d85eb00cd5caa"
  },
  {
   "cell_type": "code",
   "outputs": [],
   "source": [
    "from langchain_community.tools import TavilySearchResults\n",
    "\n",
    "tavily_tool = TavilySearchResults(\n",
    "    max_results=5, \n",
    "    search_depth=\"advanced\",\n",
    "    include_answer=True,\n",
    "    include_raw_content=True,\n",
    "    include_images=False\n",
    ")"
   ],
   "metadata": {
    "collapsed": false,
    "ExecuteTime": {
     "end_time": "2024-12-11T07:51:36.513868Z",
     "start_time": "2024-12-11T07:51:36.498018Z"
    }
   },
   "id": "cb44a91737890c5f",
   "execution_count": 8
  },
  {
   "cell_type": "markdown",
   "source": [
    "Инструмент text2SQL:"
   ],
   "metadata": {
    "collapsed": false
   },
   "id": "82fcf1a31c98fac0"
  },
  {
   "cell_type": "code",
   "outputs": [],
   "source": [
    "from text2sql_module.clients.client_text2data import Text2SQLClient\n",
    "from langchain_community.tools import tool\n",
    "from typing import Annotated\n",
    "\n",
    "text2sql_client = Text2SQLClient(base_url=\"http://127.0.0.1:8000\")\n",
    "\n",
    "@tool\n",
    "def text2sql_tool(\n",
    "        query: Annotated[str, \"text query that you should execute over database\"] # TODO prompt\n",
    "):\n",
    "    \"\"\"You has a database with transactions of user that asked you a question. If you need some information, convert text query to sql, execute it and return output data\"\"\"  # TODO prompt\n",
    "    try:\n",
    "        result = text2sql_client.execute_query(query)\n",
    "        print(\"Результат запроса:\")\n",
    "        print(result)\n",
    "    except RuntimeError as e:\n",
    "        print(f\"Произошла ошибка: {e}\")"
   ],
   "metadata": {
    "collapsed": false,
    "ExecuteTime": {
     "end_time": "2024-12-11T09:31:44.283946Z",
     "start_time": "2024-12-11T09:31:44.277363Z"
    }
   },
   "id": "aff223693ddc8151",
   "execution_count": 51
  },
  {
   "cell_type": "markdown",
   "source": [
    "### OpenAI GPT-3.5\n",
    "\n",
    "Для начала соберем решение на купленном токене OpenAI.\n",
    "\n",
    "Основная архитектура:\n",
    "Planner: https://langchain-ai.github.io/langgraph/tutorials/plan-and-execute/plan-and-execute/\n",
    "Supervisor: https://langchain-ai.github.io/langgraph/tutorials/multi_agent/agent_supervisor/\n",
    "create_react_agent: https://langchain-ai.github.io/langgraph/reference/prebuilt/ - он использует bind_tools\n",
    "Также нам потребуется with_structured_output() метод для llm"
   ],
   "metadata": {
    "collapsed": false
   },
   "id": "31b6e84102e63b01"
  },
  {
   "cell_type": "code",
   "outputs": [],
   "source": [
    "from typing import TypedDict, List, Tuple\n",
    "import operator\n",
    "from langgraph.graph.message import add_messages, AnyMessage\n",
    "from langgraph.graph import StateGraph, START, END\n",
    "\n",
    "class ExecutorState(TypedDict):\n",
    "    messages: Annotated[list[AnyMessage], add_messages]  # Класс с атрибутами. Появляется аттрибут tool_calls, если тула была вызвана\n",
    "    user_id: int\n",
    "    is_last_step: bool\n",
    "    \n",
    "class PlanState(TypedDict):\n",
    "    input: str\n",
    "    plan: List[str]\n",
    "    past_steps: Annotated[List[Tuple], operator.add]\n",
    "    response: str"
   ],
   "metadata": {
    "collapsed": false,
    "ExecuteTime": {
     "end_time": "2024-12-11T09:31:53.454541Z",
     "start_time": "2024-12-11T09:31:53.450056Z"
    }
   },
   "id": "3f2757ec0dac129f",
   "execution_count": 52
  },
  {
   "cell_type": "markdown",
   "source": [
    "Создадим React экзекутора (\n",
    "    Act - call tools, \n",
    "    Observe - pass tool output back, \n",
    "    Reason - decide what to do next\n",
    ")\n",
    "Пока он будет сразу получать план и работать со всеми инструменты, но далее все инструменты мы вынесем в отдельных агентов, способных к саморефлексии и улучшения ответа. Особенно это будет полезно для text2sql модуля"
   ],
   "metadata": {
    "collapsed": false
   },
   "id": "bf4274251b4e3219"
  },
  {
   "cell_type": "code",
   "outputs": [
    {
     "name": "stdout",
     "output_type": "stream",
     "text": [
      "================================\u001B[1m System Message \u001B[0m================================\n",
      "\n",
      "You are a helpful assistant.\n",
      "\n",
      "=============================\u001B[1m Messages Placeholder \u001B[0m=============================\n",
      "\n",
      "\u001B[33;1m\u001B[1;3m{messages}\u001B[0m\n"
     ]
    }
   ],
   "source": [
    "from langgraph.prebuilt import create_react_agent, tools_condition, ToolNode\n",
    "from langchain_openai import ChatOpenAI\n",
    "from langchain import hub\n",
    "\n",
    "prompt = hub.pull(\"ih/ih-react-agent-executor\")\n",
    "prompt.pretty_print()\n",
    "\n",
    "llm = ChatOpenAI(temperature=0)\n",
    "executor_agent = create_react_agent(\n",
    "    llm, tools=[tavily_tool], state_modifier=prompt, #state_schema=State\n",
    ")  # автоматически создает граф из агента и тулзов"
   ],
   "metadata": {
    "collapsed": false,
    "ExecuteTime": {
     "end_time": "2024-12-11T09:42:53.235185Z",
     "start_time": "2024-12-11T09:42:51.228846Z"
    }
   },
   "id": "557212817bae01d6",
   "execution_count": 59
  },
  {
   "cell_type": "markdown",
   "source": [
    "Теперь создадим планнер"
   ],
   "metadata": {
    "collapsed": false
   },
   "id": "60e7add9eb71b7a8"
  },
  {
   "cell_type": "code",
   "outputs": [],
   "source": [
    "from pydantic import BaseModel, Field\n",
    "from langchain_core.prompts import ChatPromptTemplate\n",
    "\n",
    "\n",
    "class Plan(BaseModel):\n",
    "    \"\"\"Plan to follow in future\"\"\"\n",
    "\n",
    "    steps: List[str] = Field(\n",
    "        description=\"different steps to follow, should be in sorted order\" # TODO\n",
    "    )\n",
    "    \n",
    "planner_llm = ChatOpenAI()\n",
    "\n",
    "planner_prompt = ChatPromptTemplate.from_messages(\n",
    "    [\n",
    "        (\n",
    "            \"system\",\n",
    "            \"\"\"For the given objective, come up with a simple step by step plan. \\\n",
    "This plan should involve individual tasks, that if executed correctly will yield the correct answer. Do not add any superfluous steps. \\\n",
    "The result of the final step should be the final answer. Make sure that each step has all the information needed - do not skip steps.\"\"\",\n",
    "        ),\n",
    "        (\"placeholder\", \"{messages}\"),\n",
    "    ]\n",
    ")  # TODO planner prompt\n",
    "planner = planner_prompt | planner_llm.with_structured_output(Plan)"
   ],
   "metadata": {
    "collapsed": false,
    "ExecuteTime": {
     "end_time": "2024-12-11T09:42:53.687310Z",
     "start_time": "2024-12-11T09:42:53.236192Z"
    }
   },
   "id": "17a7b19b87e90893",
   "execution_count": 60
  },
  {
   "cell_type": "markdown",
   "source": [
    "Создадим репланнер.\n",
    "Его задача - корректировать план на основе выполненных шагов: убирать уже сделанное и добавлять новое"
   ],
   "metadata": {
    "collapsed": false
   },
   "id": "9c930bb7d7dcbccf"
  },
  {
   "cell_type": "code",
   "outputs": [],
   "source": [
    "from typing import Union\n",
    "\n",
    "\n",
    "class Response(BaseModel):\n",
    "    \"\"\"Response to user.\"\"\"\n",
    "    response: str\n",
    "\n",
    "\n",
    "class Act(BaseModel):\n",
    "    \"\"\"Action to perform.\"\"\"\n",
    "    action: Union[Response, Plan] = Field(\n",
    "        description=\"Action to perform. If you think that plan has finished and you are ready to respond to user, use Response. \"\n",
    "        \"If you need to further use tools to get the answer, use Plan.\" # TODO\n",
    "    )  # может вернуть финальный ответ или новый план\n",
    "\n",
    "replanner_model = ChatOpenAI(temperature=0)\n",
    "\n",
    "replanner_prompt = ChatPromptTemplate.from_template(\n",
    "    \"\"\"For the given objective, come up with a simple step by step plan. \\\n",
    "This plan should involve individual tasks, that if executed correctly will yield the correct answer. Do not add any superfluous steps. \\\n",
    "The result of the final step should be the final answer. Make sure that each step has all the information needed - do not skip steps.\n",
    "\n",
    "Your objective was this:\n",
    "{input}\n",
    "\n",
    "Your original plan was this:\n",
    "{plan}\n",
    "\n",
    "You have currently done the follow steps:\n",
    "{past_steps}\n",
    "\n",
    "Update your plan accordingly. If no more steps are needed and you can return to the user, then respond with that. Otherwise, fill out the plan. Only add steps to the plan that still NEED to be done. Do not return previously done steps as part of the plan.\"\"\"\n",
    ")\n",
    "\n",
    "\n",
    "replanner = replanner_prompt | replanner_model.with_structured_output(Act)"
   ],
   "metadata": {
    "collapsed": false,
    "ExecuteTime": {
     "end_time": "2024-12-11T09:42:54.075002Z",
     "start_time": "2024-12-11T09:42:53.688318Z"
    }
   },
   "id": "a4517a7f5d455ad0",
   "execution_count": 61
  },
  {
   "cell_type": "markdown",
   "source": [
    "Создадим всех агентов для нод внутри\n",
    "Дальше при помощи условных связей будем направлять ноды"
   ],
   "metadata": {
    "collapsed": false
   },
   "id": "36de6d8ac15c9b48"
  },
  {
   "cell_type": "code",
   "outputs": [],
   "source": [
    "from typing import Literal\n",
    "from langgraph.graph import END, START\n",
    "\n",
    "\n",
    "def executor_step(state: PlanState):\n",
    "    plan = state[\"plan\"]\n",
    "    plan_str = \"\\n\".join(f\"{i+1}. {step}\" for i, step in enumerate(plan))\n",
    "    task = plan[0]\n",
    "    \n",
    "    task_formatted = f\"\"\"For the following plan:\n",
    "{plan_str}\\n\\nYou are tasked with executing step {1}, {task}.\"\"\"\n",
    "    agent_response = executor_agent.invoke(\n",
    "        {\"messages\": [(\"user\", task_formatted)]}\n",
    "    )\n",
    "    return {\n",
    "        \"past_steps\": [(task, agent_response[\"messages\"][-1].content)],\n",
    "    }\n",
    "\n",
    "\n",
    "def planner_step(state: PlanState):\n",
    "    plan = planner.invoke({\"messages\": [(\"user\", state[\"input\"])]})\n",
    "    return {\"plan\": plan.steps}\n",
    "\n",
    "\n",
    "def replanner_step(state: PlanState):\n",
    "    output = replanner.invoke(state)\n",
    "    if isinstance(output.action, Response):\n",
    "        return {\"response\": output.action.response}\n",
    "    else:\n",
    "        return {\"plan\": output.action.steps}\n",
    "\n",
    "\n",
    "def should_end(state: PlanState):\n",
    "    if \"response\" in state and state[\"response\"]:\n",
    "        return END\n",
    "    else:\n",
    "        return \"executor\""
   ],
   "metadata": {
    "collapsed": false,
    "ExecuteTime": {
     "end_time": "2024-12-11T09:42:54.088352Z",
     "start_time": "2024-12-11T09:42:54.080234Z"
    }
   },
   "id": "b5f334b173f801bc",
   "execution_count": 63
  },
  {
   "cell_type": "code",
   "outputs": [
    {
     "data": {
      "image/png": "[encoded data removed]",
      "text/plain": "<IPython.core.display.Image object>"
     },
     "metadata": {},
     "output_type": "display_data"
    }
   ],
   "source": [
    "from IPython.display import Image, display\n",
    "from langgraph.graph import StateGraph\n",
    "\n",
    "graph_builder = StateGraph(PlanState)\n",
    "\n",
    "graph_builder.add_node(\"planner\", planner_step)\n",
    "graph_builder.add_node(\"executor\", executor_step)\n",
    "graph_builder.add_node(\"replanner\", replanner_step)\n",
    "\n",
    "graph_builder.add_edge(START, \"planner\")\n",
    "graph_builder.add_edge(\"planner\", \"executor\")\n",
    "graph_builder.add_edge(\"executor\", \"replanner\")\n",
    "graph_builder.add_conditional_edges(\"replanner\", should_end, {\"executor\": \"executor\", END: END})\n",
    "\n",
    "graph = graph_builder.compile()\n",
    "display(Image(graph.get_graph(xray=True).draw_mermaid_png()))"
   ],
   "metadata": {
    "collapsed": false,
    "ExecuteTime": {
     "end_time": "2024-12-11T09:42:56.140882Z",
     "start_time": "2024-12-11T09:42:54.665687Z"
    }
   },
   "id": "3116ce7ebaedc551",
   "execution_count": 64
  },
  {
   "cell_type": "code",
   "outputs": [],
   "source": [
    "config = {\"recursion_limit\": 50}\n",
    "inputs = {\"input\": \"what is the hometown of the mens 2024 Australia open winner?\", \"input2\": \"Who am i?\"}\n",
    "\n",
    "async for event in graph.astream(inputs, config=config):\n",
    "    for k, v in event.items():\n",
    "        if k != \"__end__\":\n",
    "            print(v)"
   ],
   "metadata": {
    "collapsed": false,
    "ExecuteTime": {
     "end_time": "2024-12-11T09:32:32.465470Z",
     "start_time": "2024-12-11T09:32:32.465470Z"
    }
   },
   "id": "9822ac7a10fcae29",
   "execution_count": null
  },
  {
   "cell_type": "code",
   "outputs": [
    {
     "ename": "GraphRecursionError",
     "evalue": "Recursion limit of 25 reached without hitting a stop condition. You can increase the limit by setting the `recursion_limit` config key.\nFor troubleshooting, visit: https://python.langchain.com/docs/troubleshooting/errors/GRAPH_RECURSION_LIMIT",
     "output_type": "error",
     "traceback": [
      "\u001B[1;31m---------------------------------------------------------------------------\u001B[0m",
      "\u001B[1;31mGraphRecursionError\u001B[0m                       Traceback (most recent call last)",
      "Cell \u001B[1;32mIn[49], line 1\u001B[0m\n\u001B[1;32m----> 1\u001B[0m \u001B[43mgraph\u001B[49m\u001B[38;5;241;43m.\u001B[39;49m\u001B[43minvoke\u001B[49m\u001B[43m(\u001B[49m\u001B[43m{\u001B[49m\u001B[38;5;124;43m\"\u001B[39;49m\u001B[38;5;124;43minput\u001B[39;49m\u001B[38;5;124;43m\"\u001B[39;49m\u001B[43m:\u001B[49m\u001B[43m \u001B[49m\u001B[38;5;124;43m\"\u001B[39;49m\u001B[38;5;124;43mмогу ли я позволить себе пачку доширака?\u001B[39;49m\u001B[38;5;124;43m\"\u001B[39;49m\u001B[43m}\u001B[49m\u001B[43m)\u001B[49m\n",
      "File \u001B[1;32m~\\IT Products\\SiriusFinAssist\\.venv\\Lib\\site-packages\\langgraph\\pregel\\__init__.py:1929\u001B[0m, in \u001B[0;36mPregel.invoke\u001B[1;34m(self, input, config, stream_mode, output_keys, interrupt_before, interrupt_after, debug, **kwargs)\u001B[0m\n\u001B[0;32m   1927\u001B[0m \u001B[38;5;28;01melse\u001B[39;00m:\n\u001B[0;32m   1928\u001B[0m     chunks \u001B[38;5;241m=\u001B[39m []\n\u001B[1;32m-> 1929\u001B[0m \u001B[43m\u001B[49m\u001B[38;5;28;43;01mfor\u001B[39;49;00m\u001B[43m \u001B[49m\u001B[43mchunk\u001B[49m\u001B[43m \u001B[49m\u001B[38;5;129;43;01min\u001B[39;49;00m\u001B[43m \u001B[49m\u001B[38;5;28;43mself\u001B[39;49m\u001B[38;5;241;43m.\u001B[39;49m\u001B[43mstream\u001B[49m\u001B[43m(\u001B[49m\n\u001B[0;32m   1930\u001B[0m \u001B[43m    \u001B[49m\u001B[38;5;28;43minput\u001B[39;49m\u001B[43m,\u001B[49m\n\u001B[0;32m   1931\u001B[0m \u001B[43m    \u001B[49m\u001B[43mconfig\u001B[49m\u001B[43m,\u001B[49m\n\u001B[0;32m   1932\u001B[0m \u001B[43m    \u001B[49m\u001B[43mstream_mode\u001B[49m\u001B[38;5;241;43m=\u001B[39;49m\u001B[43mstream_mode\u001B[49m\u001B[43m,\u001B[49m\n\u001B[0;32m   1933\u001B[0m \u001B[43m    \u001B[49m\u001B[43moutput_keys\u001B[49m\u001B[38;5;241;43m=\u001B[39;49m\u001B[43moutput_keys\u001B[49m\u001B[43m,\u001B[49m\n\u001B[0;32m   1934\u001B[0m \u001B[43m    \u001B[49m\u001B[43minterrupt_before\u001B[49m\u001B[38;5;241;43m=\u001B[39;49m\u001B[43minterrupt_before\u001B[49m\u001B[43m,\u001B[49m\n\u001B[0;32m   1935\u001B[0m \u001B[43m    \u001B[49m\u001B[43minterrupt_after\u001B[49m\u001B[38;5;241;43m=\u001B[39;49m\u001B[43minterrupt_after\u001B[49m\u001B[43m,\u001B[49m\n\u001B[0;32m   1936\u001B[0m \u001B[43m    \u001B[49m\u001B[43mdebug\u001B[49m\u001B[38;5;241;43m=\u001B[39;49m\u001B[43mdebug\u001B[49m\u001B[43m,\u001B[49m\n\u001B[0;32m   1937\u001B[0m \u001B[43m    \u001B[49m\u001B[38;5;241;43m*\u001B[39;49m\u001B[38;5;241;43m*\u001B[39;49m\u001B[43mkwargs\u001B[49m\u001B[43m,\u001B[49m\n\u001B[0;32m   1938\u001B[0m \u001B[43m\u001B[49m\u001B[43m)\u001B[49m\u001B[43m:\u001B[49m\n\u001B[0;32m   1939\u001B[0m \u001B[43m    \u001B[49m\u001B[38;5;28;43;01mif\u001B[39;49;00m\u001B[43m \u001B[49m\u001B[43mstream_mode\u001B[49m\u001B[43m \u001B[49m\u001B[38;5;241;43m==\u001B[39;49m\u001B[43m \u001B[49m\u001B[38;5;124;43m\"\u001B[39;49m\u001B[38;5;124;43mvalues\u001B[39;49m\u001B[38;5;124;43m\"\u001B[39;49m\u001B[43m:\u001B[49m\n\u001B[0;32m   1940\u001B[0m \u001B[43m        \u001B[49m\u001B[43mlatest\u001B[49m\u001B[43m \u001B[49m\u001B[38;5;241;43m=\u001B[39;49m\u001B[43m \u001B[49m\u001B[43mchunk\u001B[49m\n",
      "File \u001B[1;32m~\\IT Products\\SiriusFinAssist\\.venv\\Lib\\site-packages\\langgraph\\pregel\\__init__.py:1669\u001B[0m, in \u001B[0;36mPregel.stream\u001B[1;34m(self, input, config, stream_mode, output_keys, interrupt_before, interrupt_after, debug, subgraphs)\u001B[0m\n\u001B[0;32m   1660\u001B[0m \u001B[38;5;28;01mif\u001B[39;00m loop\u001B[38;5;241m.\u001B[39mstatus \u001B[38;5;241m==\u001B[39m \u001B[38;5;124m\"\u001B[39m\u001B[38;5;124mout_of_steps\u001B[39m\u001B[38;5;124m\"\u001B[39m:\n\u001B[0;32m   1661\u001B[0m     msg \u001B[38;5;241m=\u001B[39m create_error_message(\n\u001B[0;32m   1662\u001B[0m         message\u001B[38;5;241m=\u001B[39m(\n\u001B[0;32m   1663\u001B[0m             \u001B[38;5;124mf\u001B[39m\u001B[38;5;124m\"\u001B[39m\u001B[38;5;124mRecursion limit of \u001B[39m\u001B[38;5;132;01m{\u001B[39;00mconfig[\u001B[38;5;124m'\u001B[39m\u001B[38;5;124mrecursion_limit\u001B[39m\u001B[38;5;124m'\u001B[39m]\u001B[38;5;132;01m}\u001B[39;00m\u001B[38;5;124m reached \u001B[39m\u001B[38;5;124m\"\u001B[39m\n\u001B[1;32m   (...)\u001B[0m\n\u001B[0;32m   1667\u001B[0m         error_code\u001B[38;5;241m=\u001B[39mErrorCode\u001B[38;5;241m.\u001B[39mGRAPH_RECURSION_LIMIT,\n\u001B[0;32m   1668\u001B[0m     )\n\u001B[1;32m-> 1669\u001B[0m     \u001B[38;5;28;01mraise\u001B[39;00m GraphRecursionError(msg)\n\u001B[0;32m   1670\u001B[0m \u001B[38;5;66;03m# set final channel values as run output\u001B[39;00m\n\u001B[0;32m   1671\u001B[0m run_manager\u001B[38;5;241m.\u001B[39mon_chain_end(loop\u001B[38;5;241m.\u001B[39moutput)\n",
      "\u001B[1;31mGraphRecursionError\u001B[0m: Recursion limit of 25 reached without hitting a stop condition. You can increase the limit by setting the `recursion_limit` config key.\nFor troubleshooting, visit: https://python.langchain.com/docs/troubleshooting/errors/GRAPH_RECURSION_LIMIT"
     ]
    }
   ],
   "source": [
    "graph.invoke({\"input\": \"могу ли я позволить себе пачку доширака?\"})"
   ],
   "metadata": {
    "collapsed": false,
    "ExecuteTime": {
     "end_time": "2024-12-11T08:52:42.930445Z",
     "start_time": "2024-12-11T08:51:23.088223Z"
    }
   },
   "id": "9b99868cbe7819ce",
   "execution_count": 49
  },
  {
   "cell_type": "code",
   "outputs": [],
   "source": [],
   "metadata": {
    "collapsed": false
   },
   "id": "65cfd21e01b33dd4"
  },
  {
   "cell_type": "markdown",
   "source": [
    "### Free Qwen\n",
    "\n",
    "\n",
    "Два варианта привязки инструментов:\n",
    "1. Переопределние bind_tools при помощи промта\n",
    "2. Использование AgentExecutor вместо create_react_agent. Он тоже работает в рамках архитектуры ReAct\n",
    "\n",
    "Для structured output можно найти и заиспользовать внешний фреймворк"
   ],
   "metadata": {
    "collapsed": false
   },
   "id": "81cfd13904ee60"
  },
  {
   "cell_type": "markdown",
   "source": [
    "#### Переопределение bind_tools\n",
    "\n",
    "В bind_tools нужно задать промт, который будет давать моедли список инструментов и парсить выход, подавай на вход еще раз"
   ],
   "metadata": {
    "collapsed": false
   },
   "id": "fc3a760c2293c05d"
  },
  {
   "cell_type": "code",
   "outputs": [],
   "source": [
    "# from langchain import hub\n",
    "# \n",
    "# prompt = hub.pull(\"hwchase17/react-json\")\n",
    "# prompt[0]"
   ],
   "metadata": {
    "collapsed": false,
    "ExecuteTime": {
     "end_time": "2024-12-11T07:19:45.344100Z",
     "start_time": "2024-12-11T07:19:45.341266Z"
    }
   },
   "id": "ae451ee44af414f",
   "execution_count": 5
  },
  {
   "cell_type": "code",
   "outputs": [],
   "source": [
    "from langchain_core.language_models.llms import LLM\n",
    "from gradio_client import Client\n",
    "from pydantic import Field\n",
    "from typing import Any\n",
    "\n",
    "class Qwen(LLM):\n",
    "    llm_client: Client = Field(default=None)  # запретить явно ставить извне\n",
    "    tools: list = Field(default=None)\n",
    "    \n",
    "    def model_post_init(self, __context: Any) -> None:\n",
    "        self.llm_client = Client(\"Qwen/Qwen2.5\")\n",
    "        self.tools = []\n",
    "        \n",
    "    def _call(\n",
    "        self,\n",
    "        query: str,\n",
    "        **kwargs: Any,\n",
    "    ) -> str:\n",
    "        result = self.llm_client.predict(\n",
    "                query=query,\n",
    "                history=[],\n",
    "                system=\"\",\n",
    "                radio=\"72B\",\n",
    "                api_name=\"/model_chat\"\n",
    "        )\n",
    "        text_answer = result[1][0][-1]['text']\n",
    "        return text_answer\n",
    "    \n",
    "    @property\n",
    "    def _llm_type(self) -> str:  # нужно только для логирования\n",
    "        return f\"Planner, using Qwen\"\n",
    "    \n",
    "    def bind_tools(self, tools: list):\n",
    "        self.tools = tools.copy()\n",
    "        return self"
   ],
   "metadata": {
    "collapsed": false,
    "ExecuteTime": {
     "end_time": "2024-12-11T07:19:47.377454Z",
     "start_time": "2024-12-11T07:19:45.970647Z"
    }
   },
   "id": "d15516bb4106360b",
   "execution_count": 6
  },
  {
   "cell_type": "markdown",
   "source": [
    "#### Агент langchain вместо графа"
   ],
   "metadata": {
    "collapsed": false
   },
   "id": "480d5c1a45b5d262"
  },
  {
   "cell_type": "code",
   "outputs": [],
   "source": [
    "from langchain.agents import initialize_agent, AgentType\n",
    "from langchain_core.prompts import PromptTemplate\n",
    "\n",
    "executor_agent = initialize_agent(\n",
    "    tools=[tavily_tool],\n",
    "    llm=llm,\n",
    "    agent_type=AgentType.ZERO_SHOT_REACT_DESCRIPTION,\n",
    "    verbose=True,\n",
    "    handle_parsing_errors=True,\n",
    ")"
   ],
   "metadata": {
    "collapsed": false,
    "ExecuteTime": {
     "end_time": "2024-12-10T19:55:09.179770Z",
     "start_time": "2024-12-10T19:55:09.170548Z"
    }
   },
   "id": "33a76de4267ac4cc",
   "execution_count": 76
  },
  {
   "cell_type": "code",
   "outputs": [],
   "source": [
    "# from langchain import hub\n",
    "# \n",
    "# prompt = hub.pull(\"hwchase17/react-json\")\n",
    "\n",
    "# {tool_names} - список названий\n",
    "# {tools} - сами тулы в каком-то виде\n",
    "# {\n",
    "#     action - имя тулзы\n",
    "#     action_input - инпут тулзы в виде json\n",
    "# }\n",
    "# \n",
    "# Итоговый аутпут:\n",
    "# Question: вопрос юзера\n",
    "# Thought: рефлексия\n",
    "# Action: действие\n",
    "# Observation: результат действия\n",
    "# Final Answer: итоговый ответ на инпут\n",
    "# \n",
    "# Промт ничего не гвоорит о заврешении генерации"
   ],
   "metadata": {
    "collapsed": false,
    "ExecuteTime": {
     "end_time": "2024-12-11T07:51:33.125411Z",
     "start_time": "2024-12-11T07:51:33.121263Z"
    }
   },
   "id": "49ea22f47978fe65",
   "execution_count": 7
  }
 ],
 "metadata": {
  "kernelspec": {
   "display_name": "Python 3",
   "language": "python",
   "name": "python3"
  },
  "language_info": {
   "codemirror_mode": {
    "name": "ipython",
    "version": 2
   },
   "file_extension": ".py",
   "mimetype": "text/x-python",
   "name": "python",
   "nbconvert_exporter": "python",
   "pygments_lexer": "ipython2",
   "version": "2.7.6"
  }
 },
 "nbformat": 4,
 "nbformat_minor": 5
}
