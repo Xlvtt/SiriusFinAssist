{
 "cells": [
  {
   "cell_type": "code",
   "execution_count": 32,
   "id": "initial_id",
   "metadata": {
    "collapsed": true,
    "ExecuteTime": {
     "end_time": "2024-12-14T08:42:12.445773Z",
     "start_time": "2024-12-14T08:42:08.649115Z"
    }
   },
   "outputs": [],
   "source": [
    "import os\n",
    "\n",
    "import pandas as pd\n",
    "\n",
    "golds = pd.read_excel('sql_golds.xlsx')\n",
    "valid_data = golds[[\"question\", \"answer\"]].rename(columns={\"answer\": \"gold_answers\", \"question\": \"questions\"})"
   ]
  },
  {
   "cell_type": "markdown",
   "source": [
    "Оффлайн оценка на собранных данных. Мы все же назначли людей покопаться в них."
   ],
   "metadata": {
    "collapsed": false
   },
   "id": "b828b1fac744dfea"
  },
  {
   "cell_type": "code",
   "outputs": [
    {
     "name": "stdout",
     "output_type": "stream",
     "text": [
      "Loaded as API: https://qwen-qwen2-5.hf.space ✔\n"
     ]
    }
   ],
   "source": [
    "from gradio_client import Client\n",
    "\n",
    "class Qwen:\n",
    "    def __init__(self, system_prompt: str):\n",
    "        self.client = Client(\"Qwen/Qwen2.5\")\n",
    "        self.system_prompt = system_prompt\n",
    "\n",
    "    def invoke(self, input_text: str):\n",
    "        result = self.client.predict(\n",
    "            query=input_text,\n",
    "            history=[],\n",
    "            system=self.system_prompt,\n",
    "            radio=\"72B\",\n",
    "            api_name=\"/model_chat\"\n",
    "        )[1][0][-1]['text']\n",
    "        return result\n",
    "\n",
    "\n",
    "assistant = Qwen(\"You are helpful finance assistant. You know some information about user: his average income is 100 000 rubs na dhe loves pony\")"
   ],
   "metadata": {
    "collapsed": false,
    "ExecuteTime": {
     "end_time": "2024-12-13T20:19:20.519210Z",
     "start_time": "2024-12-13T20:19:15.369618Z"
    }
   },
   "id": "90ad5b5ca2bf7b94",
   "execution_count": 5
  },
  {
   "cell_type": "code",
   "outputs": [],
   "source": [
    "from typing import Iterable\n",
    "from tqdm import tqdm\n",
    "from pathlib import Path\n",
    "\n",
    "def get_answers(model, questions: Iterable[str]):\n",
    "    return [model.invoke(q) for q in tqdm(questions, desc=\"Making predictions\")]\n",
    "        \n",
    "valid_base_path = Path(\"valid_set_base.csv\")\n",
    "if not valid_base_path.exists():\n",
    "    valid_data[\"answers\"] = get_answers(assistant, valid_data[\"questions\"])\n",
    "    valid_data.to_csv(\"valid_set_base.csv\", index=False)\n",
    "else:\n",
    "    valid_data = pd.read_csv(valid_base_path)"
   ],
   "metadata": {
    "collapsed": false,
    "ExecuteTime": {
     "end_time": "2024-12-14T08:43:13.900807Z",
     "start_time": "2024-12-14T08:43:13.880903Z"
    }
   },
   "id": "fc0da0e32a5e5cd2",
   "execution_count": 33
  },
  {
   "cell_type": "markdown",
   "source": [
    "#### Классические оценки"
   ],
   "metadata": {
    "collapsed": false
   },
   "id": "7db5ebbf23b59ed"
  },
  {
   "cell_type": "markdown",
   "source": [
    "Далее сможем сравнивать с оценкой качества решения без каких-либо данных."
   ],
   "metadata": {
    "collapsed": false
   },
   "id": "427dd83dbc9689bd"
  },
  {
   "cell_type": "markdown",
   "source": [
    "Метрики на голдах без модификаций:\n",
    "1. BERTScore\n",
    "2. BLEU\n",
    "3. ROGUE"
   ],
   "metadata": {
    "collapsed": false
   },
   "id": "9fab5c9cb5079033"
  },
  {
   "cell_type": "code",
   "outputs": [],
   "source": [
    "import evaluate\n",
    "\n",
    "bertscore = evaluate.load(\"bertscore\")\n",
    "bleu = evaluate.load(\"bleu\")"
   ],
   "metadata": {
    "collapsed": false,
    "ExecuteTime": {
     "end_time": "2024-12-13T20:19:46.902582Z",
     "start_time": "2024-12-13T20:19:21.191350Z"
    }
   },
   "id": "4af890cd63443bfd",
   "execution_count": 7
  },
  {
   "cell_type": "code",
   "outputs": [],
   "source": [
    "from rouge_score import rouge_scorer\n",
    "\n",
    "rogue = rouge_scorer.RougeScorer(\n",
    "    ['rouge1', 'rouge2', 'rougeL'], \n",
    "    use_stemmer=True\n",
    ")"
   ],
   "metadata": {
    "collapsed": false,
    "ExecuteTime": {
     "end_time": "2024-12-13T20:19:47.451708Z",
     "start_time": "2024-12-13T20:19:46.903743Z"
    }
   },
   "id": "7e445e36c6ede702",
   "execution_count": 8
  },
  {
   "cell_type": "code",
   "outputs": [],
   "source": [
    "predictions = valid_data[\"answers\"]\n",
    "references = valid_data[\"gold_answers\"]"
   ],
   "metadata": {
    "collapsed": false,
    "ExecuteTime": {
     "end_time": "2024-12-13T19:46:50.536756Z",
     "start_time": "2024-12-13T19:46:50.533517Z"
    }
   },
   "id": "14787d0298ed8a1f",
   "execution_count": 21
  },
  {
   "cell_type": "code",
   "outputs": [
    {
     "ename": "KeyboardInterrupt",
     "evalue": "",
     "output_type": "error",
     "traceback": [
      "\u001B[1;31m---------------------------------------------------------------------------\u001B[0m",
      "\u001B[1;31mTimeoutError\u001B[0m                              Traceback (most recent call last)",
      "File \u001B[1;32m~\\IT Products\\SiriusFinAssist\\.venv\\Lib\\site-packages\\urllib3\\util\\connection.py:73\u001B[0m, in \u001B[0;36mcreate_connection\u001B[1;34m(address, timeout, source_address, socket_options)\u001B[0m\n\u001B[0;32m     72\u001B[0m     sock\u001B[38;5;241m.\u001B[39mbind(source_address)\n\u001B[1;32m---> 73\u001B[0m \u001B[43msock\u001B[49m\u001B[38;5;241;43m.\u001B[39;49m\u001B[43mconnect\u001B[49m\u001B[43m(\u001B[49m\u001B[43msa\u001B[49m\u001B[43m)\u001B[49m\n\u001B[0;32m     74\u001B[0m \u001B[38;5;66;03m# Break explicitly a reference cycle\u001B[39;00m\n",
      "\u001B[1;31mTimeoutError\u001B[0m: timed out",
      "\nDuring handling of the above exception, another exception occurred:\n",
      "\u001B[1;31mKeyboardInterrupt\u001B[0m                         Traceback (most recent call last)",
      "Cell \u001B[1;32mIn[22], line 1\u001B[0m\n\u001B[1;32m----> 1\u001B[0m \u001B[43mbertscore\u001B[49m\u001B[38;5;241;43m.\u001B[39;49m\u001B[43mcompute\u001B[49m\u001B[43m(\u001B[49m\u001B[43mpredictions\u001B[49m\u001B[38;5;241;43m=\u001B[39;49m\u001B[43mpredictions\u001B[49m\u001B[43m[\u001B[49m\u001B[43m:\u001B[49m\u001B[38;5;241;43m2\u001B[39;49m\u001B[43m]\u001B[49m\u001B[43m,\u001B[49m\u001B[43m \u001B[49m\u001B[43mreferences\u001B[49m\u001B[38;5;241;43m=\u001B[39;49m\u001B[43mreferences\u001B[49m\u001B[43m[\u001B[49m\u001B[43m:\u001B[49m\u001B[38;5;241;43m2\u001B[39;49m\u001B[43m]\u001B[49m\u001B[43m,\u001B[49m\u001B[43m \u001B[49m\u001B[43mlang\u001B[49m\u001B[38;5;241;43m=\u001B[39;49m\u001B[38;5;124;43m\"\u001B[39;49m\u001B[38;5;124;43mru\u001B[39;49m\u001B[38;5;124;43m\"\u001B[39;49m\u001B[43m)\u001B[49m\n",
      "File \u001B[1;32m~\\IT Products\\SiriusFinAssist\\.venv\\Lib\\site-packages\\evaluate\\module.py:467\u001B[0m, in \u001B[0;36mEvaluationModule.compute\u001B[1;34m(self, predictions, references, **kwargs)\u001B[0m\n\u001B[0;32m    465\u001B[0m inputs \u001B[38;5;241m=\u001B[39m {input_name: \u001B[38;5;28mself\u001B[39m\u001B[38;5;241m.\u001B[39mdata[input_name] \u001B[38;5;28;01mfor\u001B[39;00m input_name \u001B[38;5;129;01min\u001B[39;00m \u001B[38;5;28mself\u001B[39m\u001B[38;5;241m.\u001B[39m_feature_names()}\n\u001B[0;32m    466\u001B[0m \u001B[38;5;28;01mwith\u001B[39;00m temp_seed(\u001B[38;5;28mself\u001B[39m\u001B[38;5;241m.\u001B[39mseed):\n\u001B[1;32m--> 467\u001B[0m     output \u001B[38;5;241m=\u001B[39m \u001B[38;5;28;43mself\u001B[39;49m\u001B[38;5;241;43m.\u001B[39;49m\u001B[43m_compute\u001B[49m\u001B[43m(\u001B[49m\u001B[38;5;241;43m*\u001B[39;49m\u001B[38;5;241;43m*\u001B[39;49m\u001B[43minputs\u001B[49m\u001B[43m,\u001B[49m\u001B[43m \u001B[49m\u001B[38;5;241;43m*\u001B[39;49m\u001B[38;5;241;43m*\u001B[39;49m\u001B[43mcompute_kwargs\u001B[49m\u001B[43m)\u001B[49m\n\u001B[0;32m    469\u001B[0m \u001B[38;5;28;01mif\u001B[39;00m \u001B[38;5;28mself\u001B[39m\u001B[38;5;241m.\u001B[39mbuf_writer \u001B[38;5;129;01mis\u001B[39;00m \u001B[38;5;129;01mnot\u001B[39;00m \u001B[38;5;28;01mNone\u001B[39;00m:\n\u001B[0;32m    470\u001B[0m     \u001B[38;5;28mself\u001B[39m\u001B[38;5;241m.\u001B[39mbuf_writer \u001B[38;5;241m=\u001B[39m \u001B[38;5;28;01mNone\u001B[39;00m\n",
      "File \u001B[1;32m~\\.cache\\huggingface\\modules\\evaluate_modules\\metrics\\evaluate-metric--bertscore\\cf4907b18f8f741f202232c0f8009a3bd49ff98802c245abcb6ea51a37a8c05b\\bertscore.py:189\u001B[0m, in \u001B[0;36mBERTScore._compute\u001B[1;34m(self, predictions, references, lang, model_type, num_layers, verbose, idf, device, batch_size, nthreads, all_layers, rescale_with_baseline, baseline_path, use_fast_tokenizer)\u001B[0m\n\u001B[0;32m    187\u001B[0m \u001B[38;5;28;01mwith\u001B[39;00m filter_logging_context():\n\u001B[0;32m    188\u001B[0m     \u001B[38;5;28;01mif\u001B[39;00m \u001B[38;5;129;01mnot\u001B[39;00m \u001B[38;5;28mhasattr\u001B[39m(\u001B[38;5;28mself\u001B[39m, \u001B[38;5;124m\"\u001B[39m\u001B[38;5;124mcached_bertscorer\u001B[39m\u001B[38;5;124m\"\u001B[39m) \u001B[38;5;129;01mor\u001B[39;00m \u001B[38;5;28mself\u001B[39m\u001B[38;5;241m.\u001B[39mcached_bertscorer\u001B[38;5;241m.\u001B[39mhash \u001B[38;5;241m!=\u001B[39m hashcode:\n\u001B[1;32m--> 189\u001B[0m         \u001B[38;5;28mself\u001B[39m\u001B[38;5;241m.\u001B[39mcached_bertscorer \u001B[38;5;241m=\u001B[39m \u001B[43mscorer\u001B[49m\u001B[43m(\u001B[49m\n\u001B[0;32m    190\u001B[0m \u001B[43m            \u001B[49m\u001B[43mmodel_type\u001B[49m\u001B[38;5;241;43m=\u001B[39;49m\u001B[43mmodel_type\u001B[49m\u001B[43m,\u001B[49m\n\u001B[0;32m    191\u001B[0m \u001B[43m            \u001B[49m\u001B[43mnum_layers\u001B[49m\u001B[38;5;241;43m=\u001B[39;49m\u001B[43mnum_layers\u001B[49m\u001B[43m,\u001B[49m\n\u001B[0;32m    192\u001B[0m \u001B[43m            \u001B[49m\u001B[43mbatch_size\u001B[49m\u001B[38;5;241;43m=\u001B[39;49m\u001B[43mbatch_size\u001B[49m\u001B[43m,\u001B[49m\n\u001B[0;32m    193\u001B[0m \u001B[43m            \u001B[49m\u001B[43mnthreads\u001B[49m\u001B[38;5;241;43m=\u001B[39;49m\u001B[43mnthreads\u001B[49m\u001B[43m,\u001B[49m\n\u001B[0;32m    194\u001B[0m \u001B[43m            \u001B[49m\u001B[43mall_layers\u001B[49m\u001B[38;5;241;43m=\u001B[39;49m\u001B[43mall_layers\u001B[49m\u001B[43m,\u001B[49m\n\u001B[0;32m    195\u001B[0m \u001B[43m            \u001B[49m\u001B[43midf\u001B[49m\u001B[38;5;241;43m=\u001B[39;49m\u001B[43midf\u001B[49m\u001B[43m,\u001B[49m\n\u001B[0;32m    196\u001B[0m \u001B[43m            \u001B[49m\u001B[43midf_sents\u001B[49m\u001B[38;5;241;43m=\u001B[39;49m\u001B[43midf_sents\u001B[49m\u001B[43m,\u001B[49m\n\u001B[0;32m    197\u001B[0m \u001B[43m            \u001B[49m\u001B[43mdevice\u001B[49m\u001B[38;5;241;43m=\u001B[39;49m\u001B[43mdevice\u001B[49m\u001B[43m,\u001B[49m\n\u001B[0;32m    198\u001B[0m \u001B[43m            \u001B[49m\u001B[43mlang\u001B[49m\u001B[38;5;241;43m=\u001B[39;49m\u001B[43mlang\u001B[49m\u001B[43m,\u001B[49m\n\u001B[0;32m    199\u001B[0m \u001B[43m            \u001B[49m\u001B[43mrescale_with_baseline\u001B[49m\u001B[38;5;241;43m=\u001B[39;49m\u001B[43mrescale_with_baseline\u001B[49m\u001B[43m,\u001B[49m\n\u001B[0;32m    200\u001B[0m \u001B[43m            \u001B[49m\u001B[43mbaseline_path\u001B[49m\u001B[38;5;241;43m=\u001B[39;49m\u001B[43mbaseline_path\u001B[49m\u001B[43m,\u001B[49m\n\u001B[0;32m    201\u001B[0m \u001B[43m        \u001B[49m\u001B[43m)\u001B[49m\n\u001B[0;32m    203\u001B[0m (P, R, F) \u001B[38;5;241m=\u001B[39m \u001B[38;5;28mself\u001B[39m\u001B[38;5;241m.\u001B[39mcached_bertscorer\u001B[38;5;241m.\u001B[39mscore(\n\u001B[0;32m    204\u001B[0m     cands\u001B[38;5;241m=\u001B[39mpredictions,\n\u001B[0;32m    205\u001B[0m     refs\u001B[38;5;241m=\u001B[39mreferences,\n\u001B[0;32m    206\u001B[0m     verbose\u001B[38;5;241m=\u001B[39mverbose,\n\u001B[0;32m    207\u001B[0m     batch_size\u001B[38;5;241m=\u001B[39mbatch_size,\n\u001B[0;32m    208\u001B[0m )\n\u001B[0;32m    209\u001B[0m output_dict \u001B[38;5;241m=\u001B[39m {\n\u001B[0;32m    210\u001B[0m     \u001B[38;5;124m\"\u001B[39m\u001B[38;5;124mprecision\u001B[39m\u001B[38;5;124m\"\u001B[39m: P\u001B[38;5;241m.\u001B[39mtolist(),\n\u001B[0;32m    211\u001B[0m     \u001B[38;5;124m\"\u001B[39m\u001B[38;5;124mrecall\u001B[39m\u001B[38;5;124m\"\u001B[39m: R\u001B[38;5;241m.\u001B[39mtolist(),\n\u001B[0;32m    212\u001B[0m     \u001B[38;5;124m\"\u001B[39m\u001B[38;5;124mf1\u001B[39m\u001B[38;5;124m\"\u001B[39m: F\u001B[38;5;241m.\u001B[39mtolist(),\n\u001B[0;32m    213\u001B[0m     \u001B[38;5;124m\"\u001B[39m\u001B[38;5;124mhashcode\u001B[39m\u001B[38;5;124m\"\u001B[39m: hashcode,\n\u001B[0;32m    214\u001B[0m }\n",
      "File \u001B[1;32m~\\IT Products\\SiriusFinAssist\\.venv\\Lib\\site-packages\\bert_score\\scorer.py:97\u001B[0m, in \u001B[0;36mBERTScorer.__init__\u001B[1;34m(self, model_type, num_layers, batch_size, nthreads, all_layers, idf, idf_sents, device, lang, rescale_with_baseline, baseline_path, use_fast_tokenizer)\u001B[0m\n\u001B[0;32m     95\u001B[0m \u001B[38;5;66;03m# Building model and tokenizer\u001B[39;00m\n\u001B[0;32m     96\u001B[0m \u001B[38;5;28mself\u001B[39m\u001B[38;5;241m.\u001B[39m_use_fast_tokenizer \u001B[38;5;241m=\u001B[39m use_fast_tokenizer\n\u001B[1;32m---> 97\u001B[0m \u001B[38;5;28mself\u001B[39m\u001B[38;5;241m.\u001B[39m_tokenizer \u001B[38;5;241m=\u001B[39m \u001B[43mget_tokenizer\u001B[49m\u001B[43m(\u001B[49m\u001B[38;5;28;43mself\u001B[39;49m\u001B[38;5;241;43m.\u001B[39;49m\u001B[43mmodel_type\u001B[49m\u001B[43m,\u001B[49m\u001B[43m \u001B[49m\u001B[38;5;28;43mself\u001B[39;49m\u001B[38;5;241;43m.\u001B[39;49m\u001B[43m_use_fast_tokenizer\u001B[49m\u001B[43m)\u001B[49m\n\u001B[0;32m     98\u001B[0m \u001B[38;5;28mself\u001B[39m\u001B[38;5;241m.\u001B[39m_model \u001B[38;5;241m=\u001B[39m get_model(\u001B[38;5;28mself\u001B[39m\u001B[38;5;241m.\u001B[39mmodel_type, \u001B[38;5;28mself\u001B[39m\u001B[38;5;241m.\u001B[39mnum_layers, \u001B[38;5;28mself\u001B[39m\u001B[38;5;241m.\u001B[39mall_layers)\n\u001B[0;32m     99\u001B[0m \u001B[38;5;28mself\u001B[39m\u001B[38;5;241m.\u001B[39m_model\u001B[38;5;241m.\u001B[39mto(\u001B[38;5;28mself\u001B[39m\u001B[38;5;241m.\u001B[39mdevice)\n",
      "File \u001B[1;32m~\\IT Products\\SiriusFinAssist\\.venv\\Lib\\site-packages\\bert_score\\utils.py:329\u001B[0m, in \u001B[0;36mget_tokenizer\u001B[1;34m(model_type, use_fast)\u001B[0m\n\u001B[0;32m    326\u001B[0m     model_type \u001B[38;5;241m=\u001B[39m cache_scibert(model_type)\n\u001B[0;32m    328\u001B[0m \u001B[38;5;28;01mif\u001B[39;00m version\u001B[38;5;241m.\u001B[39mparse(trans_version) \u001B[38;5;241m>\u001B[39m\u001B[38;5;241m=\u001B[39m version\u001B[38;5;241m.\u001B[39mparse(\u001B[38;5;124m\"\u001B[39m\u001B[38;5;124m4.0.0\u001B[39m\u001B[38;5;124m\"\u001B[39m):\n\u001B[1;32m--> 329\u001B[0m     tokenizer \u001B[38;5;241m=\u001B[39m \u001B[43mAutoTokenizer\u001B[49m\u001B[38;5;241;43m.\u001B[39;49m\u001B[43mfrom_pretrained\u001B[49m\u001B[43m(\u001B[49m\u001B[43mmodel_type\u001B[49m\u001B[43m,\u001B[49m\u001B[43m \u001B[49m\u001B[43muse_fast\u001B[49m\u001B[38;5;241;43m=\u001B[39;49m\u001B[43muse_fast\u001B[49m\u001B[43m)\u001B[49m\n\u001B[0;32m    330\u001B[0m \u001B[38;5;28;01melse\u001B[39;00m:\n\u001B[0;32m    331\u001B[0m     \u001B[38;5;28;01massert\u001B[39;00m \u001B[38;5;129;01mnot\u001B[39;00m use_fast, \u001B[38;5;124m\"\u001B[39m\u001B[38;5;124mFast tokenizer is not available for version < 4.0.0\u001B[39m\u001B[38;5;124m\"\u001B[39m\n",
      "File \u001B[1;32m~\\IT Products\\SiriusFinAssist\\.venv\\Lib\\site-packages\\transformers\\models\\auto\\tokenization_auto.py:858\u001B[0m, in \u001B[0;36mAutoTokenizer.from_pretrained\u001B[1;34m(cls, pretrained_model_name_or_path, *inputs, **kwargs)\u001B[0m\n\u001B[0;32m    855\u001B[0m     \u001B[38;5;28;01mreturn\u001B[39;00m tokenizer_class\u001B[38;5;241m.\u001B[39mfrom_pretrained(pretrained_model_name_or_path, \u001B[38;5;241m*\u001B[39minputs, \u001B[38;5;241m*\u001B[39m\u001B[38;5;241m*\u001B[39mkwargs)\n\u001B[0;32m    857\u001B[0m \u001B[38;5;66;03m# Next, let's try to use the tokenizer_config file to get the tokenizer class.\u001B[39;00m\n\u001B[1;32m--> 858\u001B[0m tokenizer_config \u001B[38;5;241m=\u001B[39m \u001B[43mget_tokenizer_config\u001B[49m\u001B[43m(\u001B[49m\u001B[43mpretrained_model_name_or_path\u001B[49m\u001B[43m,\u001B[49m\u001B[43m \u001B[49m\u001B[38;5;241;43m*\u001B[39;49m\u001B[38;5;241;43m*\u001B[39;49m\u001B[43mkwargs\u001B[49m\u001B[43m)\u001B[49m\n\u001B[0;32m    859\u001B[0m \u001B[38;5;28;01mif\u001B[39;00m \u001B[38;5;124m\"\u001B[39m\u001B[38;5;124m_commit_hash\u001B[39m\u001B[38;5;124m\"\u001B[39m \u001B[38;5;129;01min\u001B[39;00m tokenizer_config:\n\u001B[0;32m    860\u001B[0m     kwargs[\u001B[38;5;124m\"\u001B[39m\u001B[38;5;124m_commit_hash\u001B[39m\u001B[38;5;124m\"\u001B[39m] \u001B[38;5;241m=\u001B[39m tokenizer_config[\u001B[38;5;124m\"\u001B[39m\u001B[38;5;124m_commit_hash\u001B[39m\u001B[38;5;124m\"\u001B[39m]\n",
      "File \u001B[1;32m~\\IT Products\\SiriusFinAssist\\.venv\\Lib\\site-packages\\transformers\\models\\auto\\tokenization_auto.py:690\u001B[0m, in \u001B[0;36mget_tokenizer_config\u001B[1;34m(pretrained_model_name_or_path, cache_dir, force_download, resume_download, proxies, token, revision, local_files_only, subfolder, **kwargs)\u001B[0m\n\u001B[0;32m    687\u001B[0m     token \u001B[38;5;241m=\u001B[39m use_auth_token\n\u001B[0;32m    689\u001B[0m commit_hash \u001B[38;5;241m=\u001B[39m kwargs\u001B[38;5;241m.\u001B[39mget(\u001B[38;5;124m\"\u001B[39m\u001B[38;5;124m_commit_hash\u001B[39m\u001B[38;5;124m\"\u001B[39m, \u001B[38;5;28;01mNone\u001B[39;00m)\n\u001B[1;32m--> 690\u001B[0m resolved_config_file \u001B[38;5;241m=\u001B[39m \u001B[43mcached_file\u001B[49m\u001B[43m(\u001B[49m\n\u001B[0;32m    691\u001B[0m \u001B[43m    \u001B[49m\u001B[43mpretrained_model_name_or_path\u001B[49m\u001B[43m,\u001B[49m\n\u001B[0;32m    692\u001B[0m \u001B[43m    \u001B[49m\u001B[43mTOKENIZER_CONFIG_FILE\u001B[49m\u001B[43m,\u001B[49m\n\u001B[0;32m    693\u001B[0m \u001B[43m    \u001B[49m\u001B[43mcache_dir\u001B[49m\u001B[38;5;241;43m=\u001B[39;49m\u001B[43mcache_dir\u001B[49m\u001B[43m,\u001B[49m\n\u001B[0;32m    694\u001B[0m \u001B[43m    \u001B[49m\u001B[43mforce_download\u001B[49m\u001B[38;5;241;43m=\u001B[39;49m\u001B[43mforce_download\u001B[49m\u001B[43m,\u001B[49m\n\u001B[0;32m    695\u001B[0m \u001B[43m    \u001B[49m\u001B[43mresume_download\u001B[49m\u001B[38;5;241;43m=\u001B[39;49m\u001B[43mresume_download\u001B[49m\u001B[43m,\u001B[49m\n\u001B[0;32m    696\u001B[0m \u001B[43m    \u001B[49m\u001B[43mproxies\u001B[49m\u001B[38;5;241;43m=\u001B[39;49m\u001B[43mproxies\u001B[49m\u001B[43m,\u001B[49m\n\u001B[0;32m    697\u001B[0m \u001B[43m    \u001B[49m\u001B[43mtoken\u001B[49m\u001B[38;5;241;43m=\u001B[39;49m\u001B[43mtoken\u001B[49m\u001B[43m,\u001B[49m\n\u001B[0;32m    698\u001B[0m \u001B[43m    \u001B[49m\u001B[43mrevision\u001B[49m\u001B[38;5;241;43m=\u001B[39;49m\u001B[43mrevision\u001B[49m\u001B[43m,\u001B[49m\n\u001B[0;32m    699\u001B[0m \u001B[43m    \u001B[49m\u001B[43mlocal_files_only\u001B[49m\u001B[38;5;241;43m=\u001B[39;49m\u001B[43mlocal_files_only\u001B[49m\u001B[43m,\u001B[49m\n\u001B[0;32m    700\u001B[0m \u001B[43m    \u001B[49m\u001B[43msubfolder\u001B[49m\u001B[38;5;241;43m=\u001B[39;49m\u001B[43msubfolder\u001B[49m\u001B[43m,\u001B[49m\n\u001B[0;32m    701\u001B[0m \u001B[43m    \u001B[49m\u001B[43m_raise_exceptions_for_gated_repo\u001B[49m\u001B[38;5;241;43m=\u001B[39;49m\u001B[38;5;28;43;01mFalse\u001B[39;49;00m\u001B[43m,\u001B[49m\n\u001B[0;32m    702\u001B[0m \u001B[43m    \u001B[49m\u001B[43m_raise_exceptions_for_missing_entries\u001B[49m\u001B[38;5;241;43m=\u001B[39;49m\u001B[38;5;28;43;01mFalse\u001B[39;49;00m\u001B[43m,\u001B[49m\n\u001B[0;32m    703\u001B[0m \u001B[43m    \u001B[49m\u001B[43m_raise_exceptions_for_connection_errors\u001B[49m\u001B[38;5;241;43m=\u001B[39;49m\u001B[38;5;28;43;01mFalse\u001B[39;49;00m\u001B[43m,\u001B[49m\n\u001B[0;32m    704\u001B[0m \u001B[43m    \u001B[49m\u001B[43m_commit_hash\u001B[49m\u001B[38;5;241;43m=\u001B[39;49m\u001B[43mcommit_hash\u001B[49m\u001B[43m,\u001B[49m\n\u001B[0;32m    705\u001B[0m \u001B[43m\u001B[49m\u001B[43m)\u001B[49m\n\u001B[0;32m    706\u001B[0m \u001B[38;5;28;01mif\u001B[39;00m resolved_config_file \u001B[38;5;129;01mis\u001B[39;00m \u001B[38;5;28;01mNone\u001B[39;00m:\n\u001B[0;32m    707\u001B[0m     logger\u001B[38;5;241m.\u001B[39minfo(\u001B[38;5;124m\"\u001B[39m\u001B[38;5;124mCould not locate the tokenizer configuration file, will try to use the model config instead.\u001B[39m\u001B[38;5;124m\"\u001B[39m)\n",
      "File \u001B[1;32m~\\IT Products\\SiriusFinAssist\\.venv\\Lib\\site-packages\\transformers\\utils\\hub.py:403\u001B[0m, in \u001B[0;36mcached_file\u001B[1;34m(path_or_repo_id, filename, cache_dir, force_download, resume_download, proxies, token, revision, local_files_only, subfolder, repo_type, user_agent, _raise_exceptions_for_gated_repo, _raise_exceptions_for_missing_entries, _raise_exceptions_for_connection_errors, _commit_hash, **deprecated_kwargs)\u001B[0m\n\u001B[0;32m    400\u001B[0m user_agent \u001B[38;5;241m=\u001B[39m http_user_agent(user_agent)\n\u001B[0;32m    401\u001B[0m \u001B[38;5;28;01mtry\u001B[39;00m:\n\u001B[0;32m    402\u001B[0m     \u001B[38;5;66;03m# Load from URL or cache if already cached\u001B[39;00m\n\u001B[1;32m--> 403\u001B[0m     resolved_file \u001B[38;5;241m=\u001B[39m \u001B[43mhf_hub_download\u001B[49m\u001B[43m(\u001B[49m\n\u001B[0;32m    404\u001B[0m \u001B[43m        \u001B[49m\u001B[43mpath_or_repo_id\u001B[49m\u001B[43m,\u001B[49m\n\u001B[0;32m    405\u001B[0m \u001B[43m        \u001B[49m\u001B[43mfilename\u001B[49m\u001B[43m,\u001B[49m\n\u001B[0;32m    406\u001B[0m \u001B[43m        \u001B[49m\u001B[43msubfolder\u001B[49m\u001B[38;5;241;43m=\u001B[39;49m\u001B[38;5;28;43;01mNone\u001B[39;49;00m\u001B[43m \u001B[49m\u001B[38;5;28;43;01mif\u001B[39;49;00m\u001B[43m \u001B[49m\u001B[38;5;28;43mlen\u001B[39;49m\u001B[43m(\u001B[49m\u001B[43msubfolder\u001B[49m\u001B[43m)\u001B[49m\u001B[43m \u001B[49m\u001B[38;5;241;43m==\u001B[39;49m\u001B[43m \u001B[49m\u001B[38;5;241;43m0\u001B[39;49m\u001B[43m \u001B[49m\u001B[38;5;28;43;01melse\u001B[39;49;00m\u001B[43m \u001B[49m\u001B[43msubfolder\u001B[49m\u001B[43m,\u001B[49m\n\u001B[0;32m    407\u001B[0m \u001B[43m        \u001B[49m\u001B[43mrepo_type\u001B[49m\u001B[38;5;241;43m=\u001B[39;49m\u001B[43mrepo_type\u001B[49m\u001B[43m,\u001B[49m\n\u001B[0;32m    408\u001B[0m \u001B[43m        \u001B[49m\u001B[43mrevision\u001B[49m\u001B[38;5;241;43m=\u001B[39;49m\u001B[43mrevision\u001B[49m\u001B[43m,\u001B[49m\n\u001B[0;32m    409\u001B[0m \u001B[43m        \u001B[49m\u001B[43mcache_dir\u001B[49m\u001B[38;5;241;43m=\u001B[39;49m\u001B[43mcache_dir\u001B[49m\u001B[43m,\u001B[49m\n\u001B[0;32m    410\u001B[0m \u001B[43m        \u001B[49m\u001B[43muser_agent\u001B[49m\u001B[38;5;241;43m=\u001B[39;49m\u001B[43muser_agent\u001B[49m\u001B[43m,\u001B[49m\n\u001B[0;32m    411\u001B[0m \u001B[43m        \u001B[49m\u001B[43mforce_download\u001B[49m\u001B[38;5;241;43m=\u001B[39;49m\u001B[43mforce_download\u001B[49m\u001B[43m,\u001B[49m\n\u001B[0;32m    412\u001B[0m \u001B[43m        \u001B[49m\u001B[43mproxies\u001B[49m\u001B[38;5;241;43m=\u001B[39;49m\u001B[43mproxies\u001B[49m\u001B[43m,\u001B[49m\n\u001B[0;32m    413\u001B[0m \u001B[43m        \u001B[49m\u001B[43mresume_download\u001B[49m\u001B[38;5;241;43m=\u001B[39;49m\u001B[43mresume_download\u001B[49m\u001B[43m,\u001B[49m\n\u001B[0;32m    414\u001B[0m \u001B[43m        \u001B[49m\u001B[43mtoken\u001B[49m\u001B[38;5;241;43m=\u001B[39;49m\u001B[43mtoken\u001B[49m\u001B[43m,\u001B[49m\n\u001B[0;32m    415\u001B[0m \u001B[43m        \u001B[49m\u001B[43mlocal_files_only\u001B[49m\u001B[38;5;241;43m=\u001B[39;49m\u001B[43mlocal_files_only\u001B[49m\u001B[43m,\u001B[49m\n\u001B[0;32m    416\u001B[0m \u001B[43m    \u001B[49m\u001B[43m)\u001B[49m\n\u001B[0;32m    417\u001B[0m \u001B[38;5;28;01mexcept\u001B[39;00m GatedRepoError \u001B[38;5;28;01mas\u001B[39;00m e:\n\u001B[0;32m    418\u001B[0m     resolved_file \u001B[38;5;241m=\u001B[39m _get_cache_file_to_return(path_or_repo_id, full_filename, cache_dir, revision)\n",
      "File \u001B[1;32m~\\IT Products\\SiriusFinAssist\\.venv\\Lib\\site-packages\\huggingface_hub\\utils\\_validators.py:114\u001B[0m, in \u001B[0;36mvalidate_hf_hub_args.<locals>._inner_fn\u001B[1;34m(*args, **kwargs)\u001B[0m\n\u001B[0;32m    111\u001B[0m \u001B[38;5;28;01mif\u001B[39;00m check_use_auth_token:\n\u001B[0;32m    112\u001B[0m     kwargs \u001B[38;5;241m=\u001B[39m smoothly_deprecate_use_auth_token(fn_name\u001B[38;5;241m=\u001B[39mfn\u001B[38;5;241m.\u001B[39m\u001B[38;5;18m__name__\u001B[39m, has_token\u001B[38;5;241m=\u001B[39mhas_token, kwargs\u001B[38;5;241m=\u001B[39mkwargs)\n\u001B[1;32m--> 114\u001B[0m \u001B[38;5;28;01mreturn\u001B[39;00m \u001B[43mfn\u001B[49m\u001B[43m(\u001B[49m\u001B[38;5;241;43m*\u001B[39;49m\u001B[43margs\u001B[49m\u001B[43m,\u001B[49m\u001B[43m \u001B[49m\u001B[38;5;241;43m*\u001B[39;49m\u001B[38;5;241;43m*\u001B[39;49m\u001B[43mkwargs\u001B[49m\u001B[43m)\u001B[49m\n",
      "File \u001B[1;32m~\\IT Products\\SiriusFinAssist\\.venv\\Lib\\site-packages\\huggingface_hub\\file_download.py:862\u001B[0m, in \u001B[0;36mhf_hub_download\u001B[1;34m(repo_id, filename, subfolder, repo_type, revision, library_name, library_version, cache_dir, local_dir, user_agent, force_download, proxies, etag_timeout, token, local_files_only, headers, endpoint, resume_download, force_filename, local_dir_use_symlinks)\u001B[0m\n\u001B[0;32m    842\u001B[0m     \u001B[38;5;28;01mreturn\u001B[39;00m _hf_hub_download_to_local_dir(\n\u001B[0;32m    843\u001B[0m         \u001B[38;5;66;03m# Destination\u001B[39;00m\n\u001B[0;32m    844\u001B[0m         local_dir\u001B[38;5;241m=\u001B[39mlocal_dir,\n\u001B[1;32m   (...)\u001B[0m\n\u001B[0;32m    859\u001B[0m         local_files_only\u001B[38;5;241m=\u001B[39mlocal_files_only,\n\u001B[0;32m    860\u001B[0m     )\n\u001B[0;32m    861\u001B[0m \u001B[38;5;28;01melse\u001B[39;00m:\n\u001B[1;32m--> 862\u001B[0m     \u001B[38;5;28;01mreturn\u001B[39;00m \u001B[43m_hf_hub_download_to_cache_dir\u001B[49m\u001B[43m(\u001B[49m\n\u001B[0;32m    863\u001B[0m \u001B[43m        \u001B[49m\u001B[38;5;66;43;03m# Destination\u001B[39;49;00m\n\u001B[0;32m    864\u001B[0m \u001B[43m        \u001B[49m\u001B[43mcache_dir\u001B[49m\u001B[38;5;241;43m=\u001B[39;49m\u001B[43mcache_dir\u001B[49m\u001B[43m,\u001B[49m\n\u001B[0;32m    865\u001B[0m \u001B[43m        \u001B[49m\u001B[38;5;66;43;03m# File info\u001B[39;49;00m\n\u001B[0;32m    866\u001B[0m \u001B[43m        \u001B[49m\u001B[43mrepo_id\u001B[49m\u001B[38;5;241;43m=\u001B[39;49m\u001B[43mrepo_id\u001B[49m\u001B[43m,\u001B[49m\n\u001B[0;32m    867\u001B[0m \u001B[43m        \u001B[49m\u001B[43mfilename\u001B[49m\u001B[38;5;241;43m=\u001B[39;49m\u001B[43mfilename\u001B[49m\u001B[43m,\u001B[49m\n\u001B[0;32m    868\u001B[0m \u001B[43m        \u001B[49m\u001B[43mrepo_type\u001B[49m\u001B[38;5;241;43m=\u001B[39;49m\u001B[43mrepo_type\u001B[49m\u001B[43m,\u001B[49m\n\u001B[0;32m    869\u001B[0m \u001B[43m        \u001B[49m\u001B[43mrevision\u001B[49m\u001B[38;5;241;43m=\u001B[39;49m\u001B[43mrevision\u001B[49m\u001B[43m,\u001B[49m\n\u001B[0;32m    870\u001B[0m \u001B[43m        \u001B[49m\u001B[38;5;66;43;03m# HTTP info\u001B[39;49;00m\n\u001B[0;32m    871\u001B[0m \u001B[43m        \u001B[49m\u001B[43mendpoint\u001B[49m\u001B[38;5;241;43m=\u001B[39;49m\u001B[43mendpoint\u001B[49m\u001B[43m,\u001B[49m\n\u001B[0;32m    872\u001B[0m \u001B[43m        \u001B[49m\u001B[43metag_timeout\u001B[49m\u001B[38;5;241;43m=\u001B[39;49m\u001B[43metag_timeout\u001B[49m\u001B[43m,\u001B[49m\n\u001B[0;32m    873\u001B[0m \u001B[43m        \u001B[49m\u001B[43mheaders\u001B[49m\u001B[38;5;241;43m=\u001B[39;49m\u001B[43mheaders\u001B[49m\u001B[43m,\u001B[49m\n\u001B[0;32m    874\u001B[0m \u001B[43m        \u001B[49m\u001B[43mproxies\u001B[49m\u001B[38;5;241;43m=\u001B[39;49m\u001B[43mproxies\u001B[49m\u001B[43m,\u001B[49m\n\u001B[0;32m    875\u001B[0m \u001B[43m        \u001B[49m\u001B[43mtoken\u001B[49m\u001B[38;5;241;43m=\u001B[39;49m\u001B[43mtoken\u001B[49m\u001B[43m,\u001B[49m\n\u001B[0;32m    876\u001B[0m \u001B[43m        \u001B[49m\u001B[38;5;66;43;03m# Additional options\u001B[39;49;00m\n\u001B[0;32m    877\u001B[0m \u001B[43m        \u001B[49m\u001B[43mlocal_files_only\u001B[49m\u001B[38;5;241;43m=\u001B[39;49m\u001B[43mlocal_files_only\u001B[49m\u001B[43m,\u001B[49m\n\u001B[0;32m    878\u001B[0m \u001B[43m        \u001B[49m\u001B[43mforce_download\u001B[49m\u001B[38;5;241;43m=\u001B[39;49m\u001B[43mforce_download\u001B[49m\u001B[43m,\u001B[49m\n\u001B[0;32m    879\u001B[0m \u001B[43m    \u001B[49m\u001B[43m)\u001B[49m\n",
      "File \u001B[1;32m~\\IT Products\\SiriusFinAssist\\.venv\\Lib\\site-packages\\huggingface_hub\\file_download.py:925\u001B[0m, in \u001B[0;36m_hf_hub_download_to_cache_dir\u001B[1;34m(cache_dir, repo_id, filename, repo_type, revision, endpoint, etag_timeout, headers, proxies, token, local_files_only, force_download)\u001B[0m\n\u001B[0;32m    921\u001B[0m         \u001B[38;5;28;01mreturn\u001B[39;00m pointer_path\n\u001B[0;32m    923\u001B[0m \u001B[38;5;66;03m# Try to get metadata (etag, commit_hash, url, size) from the server.\u001B[39;00m\n\u001B[0;32m    924\u001B[0m \u001B[38;5;66;03m# If we can't, a HEAD request error is returned.\u001B[39;00m\n\u001B[1;32m--> 925\u001B[0m (url_to_download, etag, commit_hash, expected_size, head_call_error) \u001B[38;5;241m=\u001B[39m \u001B[43m_get_metadata_or_catch_error\u001B[49m\u001B[43m(\u001B[49m\n\u001B[0;32m    926\u001B[0m \u001B[43m    \u001B[49m\u001B[43mrepo_id\u001B[49m\u001B[38;5;241;43m=\u001B[39;49m\u001B[43mrepo_id\u001B[49m\u001B[43m,\u001B[49m\n\u001B[0;32m    927\u001B[0m \u001B[43m    \u001B[49m\u001B[43mfilename\u001B[49m\u001B[38;5;241;43m=\u001B[39;49m\u001B[43mfilename\u001B[49m\u001B[43m,\u001B[49m\n\u001B[0;32m    928\u001B[0m \u001B[43m    \u001B[49m\u001B[43mrepo_type\u001B[49m\u001B[38;5;241;43m=\u001B[39;49m\u001B[43mrepo_type\u001B[49m\u001B[43m,\u001B[49m\n\u001B[0;32m    929\u001B[0m \u001B[43m    \u001B[49m\u001B[43mrevision\u001B[49m\u001B[38;5;241;43m=\u001B[39;49m\u001B[43mrevision\u001B[49m\u001B[43m,\u001B[49m\n\u001B[0;32m    930\u001B[0m \u001B[43m    \u001B[49m\u001B[43mendpoint\u001B[49m\u001B[38;5;241;43m=\u001B[39;49m\u001B[43mendpoint\u001B[49m\u001B[43m,\u001B[49m\n\u001B[0;32m    931\u001B[0m \u001B[43m    \u001B[49m\u001B[43mproxies\u001B[49m\u001B[38;5;241;43m=\u001B[39;49m\u001B[43mproxies\u001B[49m\u001B[43m,\u001B[49m\n\u001B[0;32m    932\u001B[0m \u001B[43m    \u001B[49m\u001B[43metag_timeout\u001B[49m\u001B[38;5;241;43m=\u001B[39;49m\u001B[43metag_timeout\u001B[49m\u001B[43m,\u001B[49m\n\u001B[0;32m    933\u001B[0m \u001B[43m    \u001B[49m\u001B[43mheaders\u001B[49m\u001B[38;5;241;43m=\u001B[39;49m\u001B[43mheaders\u001B[49m\u001B[43m,\u001B[49m\n\u001B[0;32m    934\u001B[0m \u001B[43m    \u001B[49m\u001B[43mtoken\u001B[49m\u001B[38;5;241;43m=\u001B[39;49m\u001B[43mtoken\u001B[49m\u001B[43m,\u001B[49m\n\u001B[0;32m    935\u001B[0m \u001B[43m    \u001B[49m\u001B[43mlocal_files_only\u001B[49m\u001B[38;5;241;43m=\u001B[39;49m\u001B[43mlocal_files_only\u001B[49m\u001B[43m,\u001B[49m\n\u001B[0;32m    936\u001B[0m \u001B[43m    \u001B[49m\u001B[43mstorage_folder\u001B[49m\u001B[38;5;241;43m=\u001B[39;49m\u001B[43mstorage_folder\u001B[49m\u001B[43m,\u001B[49m\n\u001B[0;32m    937\u001B[0m \u001B[43m    \u001B[49m\u001B[43mrelative_filename\u001B[49m\u001B[38;5;241;43m=\u001B[39;49m\u001B[43mrelative_filename\u001B[49m\u001B[43m,\u001B[49m\n\u001B[0;32m    938\u001B[0m \u001B[43m\u001B[49m\u001B[43m)\u001B[49m\n\u001B[0;32m    940\u001B[0m \u001B[38;5;66;03m# etag can be None for several reasons:\u001B[39;00m\n\u001B[0;32m    941\u001B[0m \u001B[38;5;66;03m# 1. we passed local_files_only.\u001B[39;00m\n\u001B[0;32m    942\u001B[0m \u001B[38;5;66;03m# 2. we don't have a connection\u001B[39;00m\n\u001B[1;32m   (...)\u001B[0m\n\u001B[0;32m    948\u001B[0m \u001B[38;5;66;03m# If the specified revision is a commit hash, look inside \"snapshots\".\u001B[39;00m\n\u001B[0;32m    949\u001B[0m \u001B[38;5;66;03m# If the specified revision is a branch or tag, look inside \"refs\".\u001B[39;00m\n\u001B[0;32m    950\u001B[0m \u001B[38;5;28;01mif\u001B[39;00m head_call_error \u001B[38;5;129;01mis\u001B[39;00m \u001B[38;5;129;01mnot\u001B[39;00m \u001B[38;5;28;01mNone\u001B[39;00m:\n\u001B[0;32m    951\u001B[0m     \u001B[38;5;66;03m# Couldn't make a HEAD call => let's try to find a local file\u001B[39;00m\n",
      "File \u001B[1;32m~\\IT Products\\SiriusFinAssist\\.venv\\Lib\\site-packages\\huggingface_hub\\file_download.py:1376\u001B[0m, in \u001B[0;36m_get_metadata_or_catch_error\u001B[1;34m(repo_id, filename, repo_type, revision, endpoint, proxies, etag_timeout, headers, token, local_files_only, relative_filename, storage_folder)\u001B[0m\n\u001B[0;32m   1374\u001B[0m \u001B[38;5;28;01mtry\u001B[39;00m:\n\u001B[0;32m   1375\u001B[0m     \u001B[38;5;28;01mtry\u001B[39;00m:\n\u001B[1;32m-> 1376\u001B[0m         metadata \u001B[38;5;241m=\u001B[39m \u001B[43mget_hf_file_metadata\u001B[49m\u001B[43m(\u001B[49m\n\u001B[0;32m   1377\u001B[0m \u001B[43m            \u001B[49m\u001B[43murl\u001B[49m\u001B[38;5;241;43m=\u001B[39;49m\u001B[43murl\u001B[49m\u001B[43m,\u001B[49m\u001B[43m \u001B[49m\u001B[43mproxies\u001B[49m\u001B[38;5;241;43m=\u001B[39;49m\u001B[43mproxies\u001B[49m\u001B[43m,\u001B[49m\u001B[43m \u001B[49m\u001B[43mtimeout\u001B[49m\u001B[38;5;241;43m=\u001B[39;49m\u001B[43metag_timeout\u001B[49m\u001B[43m,\u001B[49m\u001B[43m \u001B[49m\u001B[43mheaders\u001B[49m\u001B[38;5;241;43m=\u001B[39;49m\u001B[43mheaders\u001B[49m\u001B[43m,\u001B[49m\u001B[43m \u001B[49m\u001B[43mtoken\u001B[49m\u001B[38;5;241;43m=\u001B[39;49m\u001B[43mtoken\u001B[49m\n\u001B[0;32m   1378\u001B[0m \u001B[43m        \u001B[49m\u001B[43m)\u001B[49m\n\u001B[0;32m   1379\u001B[0m     \u001B[38;5;28;01mexcept\u001B[39;00m EntryNotFoundError \u001B[38;5;28;01mas\u001B[39;00m http_error:\n\u001B[0;32m   1380\u001B[0m         \u001B[38;5;28;01mif\u001B[39;00m storage_folder \u001B[38;5;129;01mis\u001B[39;00m \u001B[38;5;129;01mnot\u001B[39;00m \u001B[38;5;28;01mNone\u001B[39;00m \u001B[38;5;129;01mand\u001B[39;00m relative_filename \u001B[38;5;129;01mis\u001B[39;00m \u001B[38;5;129;01mnot\u001B[39;00m \u001B[38;5;28;01mNone\u001B[39;00m:\n\u001B[0;32m   1381\u001B[0m             \u001B[38;5;66;03m# Cache the non-existence of the file\u001B[39;00m\n",
      "File \u001B[1;32m~\\IT Products\\SiriusFinAssist\\.venv\\Lib\\site-packages\\huggingface_hub\\utils\\_validators.py:114\u001B[0m, in \u001B[0;36mvalidate_hf_hub_args.<locals>._inner_fn\u001B[1;34m(*args, **kwargs)\u001B[0m\n\u001B[0;32m    111\u001B[0m \u001B[38;5;28;01mif\u001B[39;00m check_use_auth_token:\n\u001B[0;32m    112\u001B[0m     kwargs \u001B[38;5;241m=\u001B[39m smoothly_deprecate_use_auth_token(fn_name\u001B[38;5;241m=\u001B[39mfn\u001B[38;5;241m.\u001B[39m\u001B[38;5;18m__name__\u001B[39m, has_token\u001B[38;5;241m=\u001B[39mhas_token, kwargs\u001B[38;5;241m=\u001B[39mkwargs)\n\u001B[1;32m--> 114\u001B[0m \u001B[38;5;28;01mreturn\u001B[39;00m \u001B[43mfn\u001B[49m\u001B[43m(\u001B[49m\u001B[38;5;241;43m*\u001B[39;49m\u001B[43margs\u001B[49m\u001B[43m,\u001B[49m\u001B[43m \u001B[49m\u001B[38;5;241;43m*\u001B[39;49m\u001B[38;5;241;43m*\u001B[39;49m\u001B[43mkwargs\u001B[49m\u001B[43m)\u001B[49m\n",
      "File \u001B[1;32m~\\IT Products\\SiriusFinAssist\\.venv\\Lib\\site-packages\\huggingface_hub\\file_download.py:1296\u001B[0m, in \u001B[0;36mget_hf_file_metadata\u001B[1;34m(url, token, proxies, timeout, library_name, library_version, user_agent, headers)\u001B[0m\n\u001B[0;32m   1293\u001B[0m headers[\u001B[38;5;124m\"\u001B[39m\u001B[38;5;124mAccept-Encoding\u001B[39m\u001B[38;5;124m\"\u001B[39m] \u001B[38;5;241m=\u001B[39m \u001B[38;5;124m\"\u001B[39m\u001B[38;5;124midentity\u001B[39m\u001B[38;5;124m\"\u001B[39m  \u001B[38;5;66;03m# prevent any compression => we want to know the real size of the file\u001B[39;00m\n\u001B[0;32m   1295\u001B[0m \u001B[38;5;66;03m# Retrieve metadata\u001B[39;00m\n\u001B[1;32m-> 1296\u001B[0m r \u001B[38;5;241m=\u001B[39m \u001B[43m_request_wrapper\u001B[49m\u001B[43m(\u001B[49m\n\u001B[0;32m   1297\u001B[0m \u001B[43m    \u001B[49m\u001B[43mmethod\u001B[49m\u001B[38;5;241;43m=\u001B[39;49m\u001B[38;5;124;43m\"\u001B[39;49m\u001B[38;5;124;43mHEAD\u001B[39;49m\u001B[38;5;124;43m\"\u001B[39;49m\u001B[43m,\u001B[49m\n\u001B[0;32m   1298\u001B[0m \u001B[43m    \u001B[49m\u001B[43murl\u001B[49m\u001B[38;5;241;43m=\u001B[39;49m\u001B[43murl\u001B[49m\u001B[43m,\u001B[49m\n\u001B[0;32m   1299\u001B[0m \u001B[43m    \u001B[49m\u001B[43mheaders\u001B[49m\u001B[38;5;241;43m=\u001B[39;49m\u001B[43mheaders\u001B[49m\u001B[43m,\u001B[49m\n\u001B[0;32m   1300\u001B[0m \u001B[43m    \u001B[49m\u001B[43mallow_redirects\u001B[49m\u001B[38;5;241;43m=\u001B[39;49m\u001B[38;5;28;43;01mFalse\u001B[39;49;00m\u001B[43m,\u001B[49m\n\u001B[0;32m   1301\u001B[0m \u001B[43m    \u001B[49m\u001B[43mfollow_relative_redirects\u001B[49m\u001B[38;5;241;43m=\u001B[39;49m\u001B[38;5;28;43;01mTrue\u001B[39;49;00m\u001B[43m,\u001B[49m\n\u001B[0;32m   1302\u001B[0m \u001B[43m    \u001B[49m\u001B[43mproxies\u001B[49m\u001B[38;5;241;43m=\u001B[39;49m\u001B[43mproxies\u001B[49m\u001B[43m,\u001B[49m\n\u001B[0;32m   1303\u001B[0m \u001B[43m    \u001B[49m\u001B[43mtimeout\u001B[49m\u001B[38;5;241;43m=\u001B[39;49m\u001B[43mtimeout\u001B[49m\u001B[43m,\u001B[49m\n\u001B[0;32m   1304\u001B[0m \u001B[43m\u001B[49m\u001B[43m)\u001B[49m\n\u001B[0;32m   1305\u001B[0m hf_raise_for_status(r)\n\u001B[0;32m   1307\u001B[0m \u001B[38;5;66;03m# Return\u001B[39;00m\n",
      "File \u001B[1;32m~\\IT Products\\SiriusFinAssist\\.venv\\Lib\\site-packages\\huggingface_hub\\file_download.py:277\u001B[0m, in \u001B[0;36m_request_wrapper\u001B[1;34m(method, url, follow_relative_redirects, **params)\u001B[0m\n\u001B[0;32m    275\u001B[0m \u001B[38;5;66;03m# Recursively follow relative redirects\u001B[39;00m\n\u001B[0;32m    276\u001B[0m \u001B[38;5;28;01mif\u001B[39;00m follow_relative_redirects:\n\u001B[1;32m--> 277\u001B[0m     response \u001B[38;5;241m=\u001B[39m \u001B[43m_request_wrapper\u001B[49m\u001B[43m(\u001B[49m\n\u001B[0;32m    278\u001B[0m \u001B[43m        \u001B[49m\u001B[43mmethod\u001B[49m\u001B[38;5;241;43m=\u001B[39;49m\u001B[43mmethod\u001B[49m\u001B[43m,\u001B[49m\n\u001B[0;32m    279\u001B[0m \u001B[43m        \u001B[49m\u001B[43murl\u001B[49m\u001B[38;5;241;43m=\u001B[39;49m\u001B[43murl\u001B[49m\u001B[43m,\u001B[49m\n\u001B[0;32m    280\u001B[0m \u001B[43m        \u001B[49m\u001B[43mfollow_relative_redirects\u001B[49m\u001B[38;5;241;43m=\u001B[39;49m\u001B[38;5;28;43;01mFalse\u001B[39;49;00m\u001B[43m,\u001B[49m\n\u001B[0;32m    281\u001B[0m \u001B[43m        \u001B[49m\u001B[38;5;241;43m*\u001B[39;49m\u001B[38;5;241;43m*\u001B[39;49m\u001B[43mparams\u001B[49m\u001B[43m,\u001B[49m\n\u001B[0;32m    282\u001B[0m \u001B[43m    \u001B[49m\u001B[43m)\u001B[49m\n\u001B[0;32m    284\u001B[0m     \u001B[38;5;66;03m# If redirection, we redirect only relative paths.\u001B[39;00m\n\u001B[0;32m    285\u001B[0m     \u001B[38;5;66;03m# This is useful in case of a renamed repository.\u001B[39;00m\n\u001B[0;32m    286\u001B[0m     \u001B[38;5;28;01mif\u001B[39;00m \u001B[38;5;241m300\u001B[39m \u001B[38;5;241m<\u001B[39m\u001B[38;5;241m=\u001B[39m response\u001B[38;5;241m.\u001B[39mstatus_code \u001B[38;5;241m<\u001B[39m\u001B[38;5;241m=\u001B[39m \u001B[38;5;241m399\u001B[39m:\n",
      "File \u001B[1;32m~\\IT Products\\SiriusFinAssist\\.venv\\Lib\\site-packages\\huggingface_hub\\file_download.py:300\u001B[0m, in \u001B[0;36m_request_wrapper\u001B[1;34m(method, url, follow_relative_redirects, **params)\u001B[0m\n\u001B[0;32m    297\u001B[0m     \u001B[38;5;28;01mreturn\u001B[39;00m response\n\u001B[0;32m    299\u001B[0m \u001B[38;5;66;03m# Perform request and return if status_code is not in the retry list.\u001B[39;00m\n\u001B[1;32m--> 300\u001B[0m response \u001B[38;5;241m=\u001B[39m \u001B[43mget_session\u001B[49m\u001B[43m(\u001B[49m\u001B[43m)\u001B[49m\u001B[38;5;241;43m.\u001B[39;49m\u001B[43mrequest\u001B[49m\u001B[43m(\u001B[49m\u001B[43mmethod\u001B[49m\u001B[38;5;241;43m=\u001B[39;49m\u001B[43mmethod\u001B[49m\u001B[43m,\u001B[49m\u001B[43m \u001B[49m\u001B[43murl\u001B[49m\u001B[38;5;241;43m=\u001B[39;49m\u001B[43murl\u001B[49m\u001B[43m,\u001B[49m\u001B[43m \u001B[49m\u001B[38;5;241;43m*\u001B[39;49m\u001B[38;5;241;43m*\u001B[39;49m\u001B[43mparams\u001B[49m\u001B[43m)\u001B[49m\n\u001B[0;32m    301\u001B[0m hf_raise_for_status(response)\n\u001B[0;32m    302\u001B[0m \u001B[38;5;28;01mreturn\u001B[39;00m response\n",
      "File \u001B[1;32m~\\IT Products\\SiriusFinAssist\\.venv\\Lib\\site-packages\\requests\\sessions.py:589\u001B[0m, in \u001B[0;36mSession.request\u001B[1;34m(self, method, url, params, data, headers, cookies, files, auth, timeout, allow_redirects, proxies, hooks, stream, verify, cert, json)\u001B[0m\n\u001B[0;32m    584\u001B[0m send_kwargs \u001B[38;5;241m=\u001B[39m {\n\u001B[0;32m    585\u001B[0m     \u001B[38;5;124m\"\u001B[39m\u001B[38;5;124mtimeout\u001B[39m\u001B[38;5;124m\"\u001B[39m: timeout,\n\u001B[0;32m    586\u001B[0m     \u001B[38;5;124m\"\u001B[39m\u001B[38;5;124mallow_redirects\u001B[39m\u001B[38;5;124m\"\u001B[39m: allow_redirects,\n\u001B[0;32m    587\u001B[0m }\n\u001B[0;32m    588\u001B[0m send_kwargs\u001B[38;5;241m.\u001B[39mupdate(settings)\n\u001B[1;32m--> 589\u001B[0m resp \u001B[38;5;241m=\u001B[39m \u001B[38;5;28;43mself\u001B[39;49m\u001B[38;5;241;43m.\u001B[39;49m\u001B[43msend\u001B[49m\u001B[43m(\u001B[49m\u001B[43mprep\u001B[49m\u001B[43m,\u001B[49m\u001B[43m \u001B[49m\u001B[38;5;241;43m*\u001B[39;49m\u001B[38;5;241;43m*\u001B[39;49m\u001B[43msend_kwargs\u001B[49m\u001B[43m)\u001B[49m\n\u001B[0;32m    591\u001B[0m \u001B[38;5;28;01mreturn\u001B[39;00m resp\n",
      "File \u001B[1;32m~\\IT Products\\SiriusFinAssist\\.venv\\Lib\\site-packages\\requests\\sessions.py:703\u001B[0m, in \u001B[0;36mSession.send\u001B[1;34m(self, request, **kwargs)\u001B[0m\n\u001B[0;32m    700\u001B[0m start \u001B[38;5;241m=\u001B[39m preferred_clock()\n\u001B[0;32m    702\u001B[0m \u001B[38;5;66;03m# Send the request\u001B[39;00m\n\u001B[1;32m--> 703\u001B[0m r \u001B[38;5;241m=\u001B[39m \u001B[43madapter\u001B[49m\u001B[38;5;241;43m.\u001B[39;49m\u001B[43msend\u001B[49m\u001B[43m(\u001B[49m\u001B[43mrequest\u001B[49m\u001B[43m,\u001B[49m\u001B[43m \u001B[49m\u001B[38;5;241;43m*\u001B[39;49m\u001B[38;5;241;43m*\u001B[39;49m\u001B[43mkwargs\u001B[49m\u001B[43m)\u001B[49m\n\u001B[0;32m    705\u001B[0m \u001B[38;5;66;03m# Total elapsed time of the request (approximately)\u001B[39;00m\n\u001B[0;32m    706\u001B[0m elapsed \u001B[38;5;241m=\u001B[39m preferred_clock() \u001B[38;5;241m-\u001B[39m start\n",
      "File \u001B[1;32m~\\IT Products\\SiriusFinAssist\\.venv\\Lib\\site-packages\\huggingface_hub\\utils\\_http.py:93\u001B[0m, in \u001B[0;36mUniqueRequestIdAdapter.send\u001B[1;34m(self, request, *args, **kwargs)\u001B[0m\n\u001B[0;32m     91\u001B[0m \u001B[38;5;250m\u001B[39m\u001B[38;5;124;03m\"\"\"Catch any RequestException to append request id to the error message for debugging.\"\"\"\u001B[39;00m\n\u001B[0;32m     92\u001B[0m \u001B[38;5;28;01mtry\u001B[39;00m:\n\u001B[1;32m---> 93\u001B[0m     \u001B[38;5;28;01mreturn\u001B[39;00m \u001B[38;5;28;43msuper\u001B[39;49m\u001B[43m(\u001B[49m\u001B[43m)\u001B[49m\u001B[38;5;241;43m.\u001B[39;49m\u001B[43msend\u001B[49m\u001B[43m(\u001B[49m\u001B[43mrequest\u001B[49m\u001B[43m,\u001B[49m\u001B[43m \u001B[49m\u001B[38;5;241;43m*\u001B[39;49m\u001B[43margs\u001B[49m\u001B[43m,\u001B[49m\u001B[43m \u001B[49m\u001B[38;5;241;43m*\u001B[39;49m\u001B[38;5;241;43m*\u001B[39;49m\u001B[43mkwargs\u001B[49m\u001B[43m)\u001B[49m\n\u001B[0;32m     94\u001B[0m \u001B[38;5;28;01mexcept\u001B[39;00m requests\u001B[38;5;241m.\u001B[39mRequestException \u001B[38;5;28;01mas\u001B[39;00m e:\n\u001B[0;32m     95\u001B[0m     request_id \u001B[38;5;241m=\u001B[39m request\u001B[38;5;241m.\u001B[39mheaders\u001B[38;5;241m.\u001B[39mget(X_AMZN_TRACE_ID)\n",
      "File \u001B[1;32m~\\IT Products\\SiriusFinAssist\\.venv\\Lib\\site-packages\\requests\\adapters.py:667\u001B[0m, in \u001B[0;36mHTTPAdapter.send\u001B[1;34m(self, request, stream, timeout, verify, cert, proxies)\u001B[0m\n\u001B[0;32m    664\u001B[0m     timeout \u001B[38;5;241m=\u001B[39m TimeoutSauce(connect\u001B[38;5;241m=\u001B[39mtimeout, read\u001B[38;5;241m=\u001B[39mtimeout)\n\u001B[0;32m    666\u001B[0m \u001B[38;5;28;01mtry\u001B[39;00m:\n\u001B[1;32m--> 667\u001B[0m     resp \u001B[38;5;241m=\u001B[39m \u001B[43mconn\u001B[49m\u001B[38;5;241;43m.\u001B[39;49m\u001B[43murlopen\u001B[49m\u001B[43m(\u001B[49m\n\u001B[0;32m    668\u001B[0m \u001B[43m        \u001B[49m\u001B[43mmethod\u001B[49m\u001B[38;5;241;43m=\u001B[39;49m\u001B[43mrequest\u001B[49m\u001B[38;5;241;43m.\u001B[39;49m\u001B[43mmethod\u001B[49m\u001B[43m,\u001B[49m\n\u001B[0;32m    669\u001B[0m \u001B[43m        \u001B[49m\u001B[43murl\u001B[49m\u001B[38;5;241;43m=\u001B[39;49m\u001B[43murl\u001B[49m\u001B[43m,\u001B[49m\n\u001B[0;32m    670\u001B[0m \u001B[43m        \u001B[49m\u001B[43mbody\u001B[49m\u001B[38;5;241;43m=\u001B[39;49m\u001B[43mrequest\u001B[49m\u001B[38;5;241;43m.\u001B[39;49m\u001B[43mbody\u001B[49m\u001B[43m,\u001B[49m\n\u001B[0;32m    671\u001B[0m \u001B[43m        \u001B[49m\u001B[43mheaders\u001B[49m\u001B[38;5;241;43m=\u001B[39;49m\u001B[43mrequest\u001B[49m\u001B[38;5;241;43m.\u001B[39;49m\u001B[43mheaders\u001B[49m\u001B[43m,\u001B[49m\n\u001B[0;32m    672\u001B[0m \u001B[43m        \u001B[49m\u001B[43mredirect\u001B[49m\u001B[38;5;241;43m=\u001B[39;49m\u001B[38;5;28;43;01mFalse\u001B[39;49;00m\u001B[43m,\u001B[49m\n\u001B[0;32m    673\u001B[0m \u001B[43m        \u001B[49m\u001B[43massert_same_host\u001B[49m\u001B[38;5;241;43m=\u001B[39;49m\u001B[38;5;28;43;01mFalse\u001B[39;49;00m\u001B[43m,\u001B[49m\n\u001B[0;32m    674\u001B[0m \u001B[43m        \u001B[49m\u001B[43mpreload_content\u001B[49m\u001B[38;5;241;43m=\u001B[39;49m\u001B[38;5;28;43;01mFalse\u001B[39;49;00m\u001B[43m,\u001B[49m\n\u001B[0;32m    675\u001B[0m \u001B[43m        \u001B[49m\u001B[43mdecode_content\u001B[49m\u001B[38;5;241;43m=\u001B[39;49m\u001B[38;5;28;43;01mFalse\u001B[39;49;00m\u001B[43m,\u001B[49m\n\u001B[0;32m    676\u001B[0m \u001B[43m        \u001B[49m\u001B[43mretries\u001B[49m\u001B[38;5;241;43m=\u001B[39;49m\u001B[38;5;28;43mself\u001B[39;49m\u001B[38;5;241;43m.\u001B[39;49m\u001B[43mmax_retries\u001B[49m\u001B[43m,\u001B[49m\n\u001B[0;32m    677\u001B[0m \u001B[43m        \u001B[49m\u001B[43mtimeout\u001B[49m\u001B[38;5;241;43m=\u001B[39;49m\u001B[43mtimeout\u001B[49m\u001B[43m,\u001B[49m\n\u001B[0;32m    678\u001B[0m \u001B[43m        \u001B[49m\u001B[43mchunked\u001B[49m\u001B[38;5;241;43m=\u001B[39;49m\u001B[43mchunked\u001B[49m\u001B[43m,\u001B[49m\n\u001B[0;32m    679\u001B[0m \u001B[43m    \u001B[49m\u001B[43m)\u001B[49m\n\u001B[0;32m    681\u001B[0m \u001B[38;5;28;01mexcept\u001B[39;00m (ProtocolError, \u001B[38;5;167;01mOSError\u001B[39;00m) \u001B[38;5;28;01mas\u001B[39;00m err:\n\u001B[0;32m    682\u001B[0m     \u001B[38;5;28;01mraise\u001B[39;00m \u001B[38;5;167;01mConnectionError\u001B[39;00m(err, request\u001B[38;5;241m=\u001B[39mrequest)\n",
      "File \u001B[1;32m~\\IT Products\\SiriusFinAssist\\.venv\\Lib\\site-packages\\urllib3\\connectionpool.py:789\u001B[0m, in \u001B[0;36mHTTPConnectionPool.urlopen\u001B[1;34m(self, method, url, body, headers, retries, redirect, assert_same_host, timeout, pool_timeout, release_conn, chunked, body_pos, preload_content, decode_content, **response_kw)\u001B[0m\n\u001B[0;32m    786\u001B[0m response_conn \u001B[38;5;241m=\u001B[39m conn \u001B[38;5;28;01mif\u001B[39;00m \u001B[38;5;129;01mnot\u001B[39;00m release_conn \u001B[38;5;28;01melse\u001B[39;00m \u001B[38;5;28;01mNone\u001B[39;00m\n\u001B[0;32m    788\u001B[0m \u001B[38;5;66;03m# Make the request on the HTTPConnection object\u001B[39;00m\n\u001B[1;32m--> 789\u001B[0m response \u001B[38;5;241m=\u001B[39m \u001B[38;5;28;43mself\u001B[39;49m\u001B[38;5;241;43m.\u001B[39;49m\u001B[43m_make_request\u001B[49m\u001B[43m(\u001B[49m\n\u001B[0;32m    790\u001B[0m \u001B[43m    \u001B[49m\u001B[43mconn\u001B[49m\u001B[43m,\u001B[49m\n\u001B[0;32m    791\u001B[0m \u001B[43m    \u001B[49m\u001B[43mmethod\u001B[49m\u001B[43m,\u001B[49m\n\u001B[0;32m    792\u001B[0m \u001B[43m    \u001B[49m\u001B[43murl\u001B[49m\u001B[43m,\u001B[49m\n\u001B[0;32m    793\u001B[0m \u001B[43m    \u001B[49m\u001B[43mtimeout\u001B[49m\u001B[38;5;241;43m=\u001B[39;49m\u001B[43mtimeout_obj\u001B[49m\u001B[43m,\u001B[49m\n\u001B[0;32m    794\u001B[0m \u001B[43m    \u001B[49m\u001B[43mbody\u001B[49m\u001B[38;5;241;43m=\u001B[39;49m\u001B[43mbody\u001B[49m\u001B[43m,\u001B[49m\n\u001B[0;32m    795\u001B[0m \u001B[43m    \u001B[49m\u001B[43mheaders\u001B[49m\u001B[38;5;241;43m=\u001B[39;49m\u001B[43mheaders\u001B[49m\u001B[43m,\u001B[49m\n\u001B[0;32m    796\u001B[0m \u001B[43m    \u001B[49m\u001B[43mchunked\u001B[49m\u001B[38;5;241;43m=\u001B[39;49m\u001B[43mchunked\u001B[49m\u001B[43m,\u001B[49m\n\u001B[0;32m    797\u001B[0m \u001B[43m    \u001B[49m\u001B[43mretries\u001B[49m\u001B[38;5;241;43m=\u001B[39;49m\u001B[43mretries\u001B[49m\u001B[43m,\u001B[49m\n\u001B[0;32m    798\u001B[0m \u001B[43m    \u001B[49m\u001B[43mresponse_conn\u001B[49m\u001B[38;5;241;43m=\u001B[39;49m\u001B[43mresponse_conn\u001B[49m\u001B[43m,\u001B[49m\n\u001B[0;32m    799\u001B[0m \u001B[43m    \u001B[49m\u001B[43mpreload_content\u001B[49m\u001B[38;5;241;43m=\u001B[39;49m\u001B[43mpreload_content\u001B[49m\u001B[43m,\u001B[49m\n\u001B[0;32m    800\u001B[0m \u001B[43m    \u001B[49m\u001B[43mdecode_content\u001B[49m\u001B[38;5;241;43m=\u001B[39;49m\u001B[43mdecode_content\u001B[49m\u001B[43m,\u001B[49m\n\u001B[0;32m    801\u001B[0m \u001B[43m    \u001B[49m\u001B[38;5;241;43m*\u001B[39;49m\u001B[38;5;241;43m*\u001B[39;49m\u001B[43mresponse_kw\u001B[49m\u001B[43m,\u001B[49m\n\u001B[0;32m    802\u001B[0m \u001B[43m\u001B[49m\u001B[43m)\u001B[49m\n\u001B[0;32m    804\u001B[0m \u001B[38;5;66;03m# Everything went great!\u001B[39;00m\n\u001B[0;32m    805\u001B[0m clean_exit \u001B[38;5;241m=\u001B[39m \u001B[38;5;28;01mTrue\u001B[39;00m\n",
      "File \u001B[1;32m~\\IT Products\\SiriusFinAssist\\.venv\\Lib\\site-packages\\urllib3\\connectionpool.py:466\u001B[0m, in \u001B[0;36mHTTPConnectionPool._make_request\u001B[1;34m(self, conn, method, url, body, headers, retries, timeout, chunked, response_conn, preload_content, decode_content, enforce_content_length)\u001B[0m\n\u001B[0;32m    463\u001B[0m \u001B[38;5;28;01mtry\u001B[39;00m:\n\u001B[0;32m    464\u001B[0m     \u001B[38;5;66;03m# Trigger any extra validation we need to do.\u001B[39;00m\n\u001B[0;32m    465\u001B[0m     \u001B[38;5;28;01mtry\u001B[39;00m:\n\u001B[1;32m--> 466\u001B[0m         \u001B[38;5;28;43mself\u001B[39;49m\u001B[38;5;241;43m.\u001B[39;49m\u001B[43m_validate_conn\u001B[49m\u001B[43m(\u001B[49m\u001B[43mconn\u001B[49m\u001B[43m)\u001B[49m\n\u001B[0;32m    467\u001B[0m     \u001B[38;5;28;01mexcept\u001B[39;00m (SocketTimeout, BaseSSLError) \u001B[38;5;28;01mas\u001B[39;00m e:\n\u001B[0;32m    468\u001B[0m         \u001B[38;5;28mself\u001B[39m\u001B[38;5;241m.\u001B[39m_raise_timeout(err\u001B[38;5;241m=\u001B[39me, url\u001B[38;5;241m=\u001B[39murl, timeout_value\u001B[38;5;241m=\u001B[39mconn\u001B[38;5;241m.\u001B[39mtimeout)\n",
      "File \u001B[1;32m~\\IT Products\\SiriusFinAssist\\.venv\\Lib\\site-packages\\urllib3\\connectionpool.py:1095\u001B[0m, in \u001B[0;36mHTTPSConnectionPool._validate_conn\u001B[1;34m(self, conn)\u001B[0m\n\u001B[0;32m   1093\u001B[0m \u001B[38;5;66;03m# Force connect early to allow us to validate the connection.\u001B[39;00m\n\u001B[0;32m   1094\u001B[0m \u001B[38;5;28;01mif\u001B[39;00m conn\u001B[38;5;241m.\u001B[39mis_closed:\n\u001B[1;32m-> 1095\u001B[0m     \u001B[43mconn\u001B[49m\u001B[38;5;241;43m.\u001B[39;49m\u001B[43mconnect\u001B[49m\u001B[43m(\u001B[49m\u001B[43m)\u001B[49m\n\u001B[0;32m   1097\u001B[0m \u001B[38;5;66;03m# TODO revise this, see https://github.com/urllib3/urllib3/issues/2791\u001B[39;00m\n\u001B[0;32m   1098\u001B[0m \u001B[38;5;28;01mif\u001B[39;00m \u001B[38;5;129;01mnot\u001B[39;00m conn\u001B[38;5;241m.\u001B[39mis_verified \u001B[38;5;129;01mand\u001B[39;00m \u001B[38;5;129;01mnot\u001B[39;00m conn\u001B[38;5;241m.\u001B[39mproxy_is_verified:\n",
      "File \u001B[1;32m~\\IT Products\\SiriusFinAssist\\.venv\\Lib\\site-packages\\urllib3\\connection.py:693\u001B[0m, in \u001B[0;36mHTTPSConnection.connect\u001B[1;34m(self)\u001B[0m\n\u001B[0;32m    691\u001B[0m \u001B[38;5;28;01mtry\u001B[39;00m:\n\u001B[0;32m    692\u001B[0m     sock: socket\u001B[38;5;241m.\u001B[39msocket \u001B[38;5;241m|\u001B[39m ssl\u001B[38;5;241m.\u001B[39mSSLSocket\n\u001B[1;32m--> 693\u001B[0m     \u001B[38;5;28mself\u001B[39m\u001B[38;5;241m.\u001B[39msock \u001B[38;5;241m=\u001B[39m sock \u001B[38;5;241m=\u001B[39m \u001B[38;5;28;43mself\u001B[39;49m\u001B[38;5;241;43m.\u001B[39;49m\u001B[43m_new_conn\u001B[49m\u001B[43m(\u001B[49m\u001B[43m)\u001B[49m\n\u001B[0;32m    694\u001B[0m     server_hostname: \u001B[38;5;28mstr\u001B[39m \u001B[38;5;241m=\u001B[39m \u001B[38;5;28mself\u001B[39m\u001B[38;5;241m.\u001B[39mhost\n\u001B[0;32m    695\u001B[0m     tls_in_tls \u001B[38;5;241m=\u001B[39m \u001B[38;5;28;01mFalse\u001B[39;00m\n",
      "File \u001B[1;32m~\\IT Products\\SiriusFinAssist\\.venv\\Lib\\site-packages\\urllib3\\connection.py:199\u001B[0m, in \u001B[0;36mHTTPConnection._new_conn\u001B[1;34m(self)\u001B[0m\n\u001B[0;32m    194\u001B[0m \u001B[38;5;250m\u001B[39m\u001B[38;5;124;03m\"\"\"Establish a socket connection and set nodelay settings on it.\u001B[39;00m\n\u001B[0;32m    195\u001B[0m \n\u001B[0;32m    196\u001B[0m \u001B[38;5;124;03m:return: New socket connection.\u001B[39;00m\n\u001B[0;32m    197\u001B[0m \u001B[38;5;124;03m\"\"\"\u001B[39;00m\n\u001B[0;32m    198\u001B[0m \u001B[38;5;28;01mtry\u001B[39;00m:\n\u001B[1;32m--> 199\u001B[0m     sock \u001B[38;5;241m=\u001B[39m \u001B[43mconnection\u001B[49m\u001B[38;5;241;43m.\u001B[39;49m\u001B[43mcreate_connection\u001B[49m\u001B[43m(\u001B[49m\n\u001B[0;32m    200\u001B[0m \u001B[43m        \u001B[49m\u001B[43m(\u001B[49m\u001B[38;5;28;43mself\u001B[39;49m\u001B[38;5;241;43m.\u001B[39;49m\u001B[43m_dns_host\u001B[49m\u001B[43m,\u001B[49m\u001B[43m \u001B[49m\u001B[38;5;28;43mself\u001B[39;49m\u001B[38;5;241;43m.\u001B[39;49m\u001B[43mport\u001B[49m\u001B[43m)\u001B[49m\u001B[43m,\u001B[49m\n\u001B[0;32m    201\u001B[0m \u001B[43m        \u001B[49m\u001B[38;5;28;43mself\u001B[39;49m\u001B[38;5;241;43m.\u001B[39;49m\u001B[43mtimeout\u001B[49m\u001B[43m,\u001B[49m\n\u001B[0;32m    202\u001B[0m \u001B[43m        \u001B[49m\u001B[43msource_address\u001B[49m\u001B[38;5;241;43m=\u001B[39;49m\u001B[38;5;28;43mself\u001B[39;49m\u001B[38;5;241;43m.\u001B[39;49m\u001B[43msource_address\u001B[49m\u001B[43m,\u001B[49m\n\u001B[0;32m    203\u001B[0m \u001B[43m        \u001B[49m\u001B[43msocket_options\u001B[49m\u001B[38;5;241;43m=\u001B[39;49m\u001B[38;5;28;43mself\u001B[39;49m\u001B[38;5;241;43m.\u001B[39;49m\u001B[43msocket_options\u001B[49m\u001B[43m,\u001B[49m\n\u001B[0;32m    204\u001B[0m \u001B[43m    \u001B[49m\u001B[43m)\u001B[49m\n\u001B[0;32m    205\u001B[0m \u001B[38;5;28;01mexcept\u001B[39;00m socket\u001B[38;5;241m.\u001B[39mgaierror \u001B[38;5;28;01mas\u001B[39;00m e:\n\u001B[0;32m    206\u001B[0m     \u001B[38;5;28;01mraise\u001B[39;00m NameResolutionError(\u001B[38;5;28mself\u001B[39m\u001B[38;5;241m.\u001B[39mhost, \u001B[38;5;28mself\u001B[39m, e) \u001B[38;5;28;01mfrom\u001B[39;00m \u001B[38;5;21;01me\u001B[39;00m\n",
      "File \u001B[1;32m~\\IT Products\\SiriusFinAssist\\.venv\\Lib\\site-packages\\urllib3\\util\\connection.py:81\u001B[0m, in \u001B[0;36mcreate_connection\u001B[1;34m(address, timeout, source_address, socket_options)\u001B[0m\n\u001B[0;32m     79\u001B[0m         err \u001B[38;5;241m=\u001B[39m _\n\u001B[0;32m     80\u001B[0m         \u001B[38;5;28;01mif\u001B[39;00m sock \u001B[38;5;129;01mis\u001B[39;00m \u001B[38;5;129;01mnot\u001B[39;00m \u001B[38;5;28;01mNone\u001B[39;00m:\n\u001B[1;32m---> 81\u001B[0m             \u001B[43msock\u001B[49m\u001B[38;5;241;43m.\u001B[39;49m\u001B[43mclose\u001B[49m\u001B[43m(\u001B[49m\u001B[43m)\u001B[49m\n\u001B[0;32m     83\u001B[0m \u001B[38;5;28;01mif\u001B[39;00m err \u001B[38;5;129;01mis\u001B[39;00m \u001B[38;5;129;01mnot\u001B[39;00m \u001B[38;5;28;01mNone\u001B[39;00m:\n\u001B[0;32m     84\u001B[0m     \u001B[38;5;28;01mtry\u001B[39;00m:\n",
      "File \u001B[1;32m~\\AppData\\Local\\Programs\\Python\\Python312\\Lib\\socket.py:500\u001B[0m, in \u001B[0;36msocket.close\u001B[1;34m(self)\u001B[0m\n\u001B[0;32m    496\u001B[0m \u001B[38;5;28;01mdef\u001B[39;00m \u001B[38;5;21m_real_close\u001B[39m(\u001B[38;5;28mself\u001B[39m, _ss\u001B[38;5;241m=\u001B[39m_socket\u001B[38;5;241m.\u001B[39msocket):\n\u001B[0;32m    497\u001B[0m     \u001B[38;5;66;03m# This function should not reference any globals. See issue #808164.\u001B[39;00m\n\u001B[0;32m    498\u001B[0m     _ss\u001B[38;5;241m.\u001B[39mclose(\u001B[38;5;28mself\u001B[39m)\n\u001B[1;32m--> 500\u001B[0m \u001B[38;5;28;01mdef\u001B[39;00m \u001B[38;5;21mclose\u001B[39m(\u001B[38;5;28mself\u001B[39m):\n\u001B[0;32m    501\u001B[0m     \u001B[38;5;66;03m# This function should not reference any globals. See issue #808164.\u001B[39;00m\n\u001B[0;32m    502\u001B[0m     \u001B[38;5;28mself\u001B[39m\u001B[38;5;241m.\u001B[39m_closed \u001B[38;5;241m=\u001B[39m \u001B[38;5;28;01mTrue\u001B[39;00m\n\u001B[0;32m    503\u001B[0m     \u001B[38;5;28;01mif\u001B[39;00m \u001B[38;5;28mself\u001B[39m\u001B[38;5;241m.\u001B[39m_io_refs \u001B[38;5;241m<\u001B[39m\u001B[38;5;241m=\u001B[39m \u001B[38;5;241m0\u001B[39m:\n",
      "\u001B[1;31mKeyboardInterrupt\u001B[0m: "
     ]
    }
   ],
   "source": [
    "bertscore.compute(predictions=predictions[:2], references=references[:2], lang=\"ru\")"
   ],
   "metadata": {
    "collapsed": false,
    "ExecuteTime": {
     "end_time": "2024-12-13T19:47:22.184617Z",
     "start_time": "2024-12-13T19:46:51.546520Z"
    }
   },
   "id": "9e08dd97a6082568",
   "execution_count": 22
  },
  {
   "cell_type": "markdown",
   "source": [
    "Рассчитаем Rogue-N: Prec и Rec по совпадению N-грамм в эталонном тексте и нашем.\n",
    "Rouge-L: Длина общей подпоследовательности из чисел"
   ],
   "metadata": {
    "collapsed": false
   },
   "id": "5f557bbccd60066f"
  },
  {
   "cell_type": "code",
   "outputs": [
    {
     "name": "stdout",
     "output_type": "stream",
     "text": [
      "{'rouge1': Score(precision=0.0, recall=0.0, fmeasure=0.0)}\n",
      "{'rouge1': Score(precision=0.0, recall=0.0, fmeasure=0.0)}\n",
      "{'rouge1': Score(precision=0.0, recall=0.0, fmeasure=0.0)}\n",
      "{'rouge1': Score(precision=0.0, recall=0.0, fmeasure=0.0)}\n",
      "{'rouge1': Score(precision=0.0, recall=0.0, fmeasure=0.0)}\n",
      "{'rouge1': Score(precision=0.0, recall=0.0, fmeasure=0.0)}\n",
      "{'rouge1': Score(precision=0.2, recall=0.3333333333333333, fmeasure=0.25)}\n",
      "{'rouge1': Score(precision=1.0, recall=0.3333333333333333, fmeasure=0.5)}\n",
      "{'rouge1': Score(precision=0.0, recall=0.0, fmeasure=0.0)}\n",
      "{'rouge1': Score(precision=0.3333333333333333, recall=0.2, fmeasure=0.25)}\n",
      "{'rouge1': Score(precision=0.0, recall=0.0, fmeasure=0.0)}\n",
      "{'rouge1': Score(precision=0.125, recall=0.3333333333333333, fmeasure=0.18181818181818182)}\n",
      "{'rouge1': Score(precision=0.0, recall=0.0, fmeasure=0.0)}\n",
      "{'rouge1': Score(precision=0.0, recall=0.0, fmeasure=0.0)}\n",
      "{'rouge1': Score(precision=0.0, recall=0.0, fmeasure=0.0)}\n",
      "{'rouge1': Score(precision=0.0, recall=0.0, fmeasure=0.0)}\n",
      "{'rouge1': Score(precision=0.0, recall=0.0, fmeasure=0.0)}\n",
      "{'rouge1': Score(precision=0.0, recall=0.0, fmeasure=0.0)}\n",
      "{'rouge1': Score(precision=0.0, recall=0.0, fmeasure=0.0)}\n",
      "{'rouge1': Score(precision=0.0, recall=0.0, fmeasure=0.0)}\n",
      "{'rouge1': Score(precision=0.3333333333333333, recall=0.14285714285714285, fmeasure=0.2)}\n",
      "{'rouge1': Score(precision=0.0, recall=0.0, fmeasure=0.0)}\n",
      "{'rouge1': Score(precision=0.0, recall=0.0, fmeasure=0.0)}\n",
      "{'rouge1': Score(precision=0.0, recall=0.0, fmeasure=0.0)}\n",
      "{'rouge1': Score(precision=0.0, recall=0.0, fmeasure=0.0)}\n",
      "{'rouge1': Score(precision=0.0, recall=0.0, fmeasure=0.0)}\n",
      "{'rouge1': Score(precision=0.0, recall=0.0, fmeasure=0.0)}\n",
      "{'rouge1': Score(precision=0.0, recall=0.0, fmeasure=0.0)}\n",
      "{'rouge1': Score(precision=0.0, recall=0.0, fmeasure=0.0)}\n",
      "{'rouge1': Score(precision=0.0, recall=0.0, fmeasure=0.0)}\n",
      "{'rouge1': Score(precision=0.0, recall=0.0, fmeasure=0.0)}\n",
      "{'rouge1': Score(precision=0.16666666666666666, recall=0.3333333333333333, fmeasure=0.2222222222222222)}\n",
      "{'rouge1': Score(precision=0.0, recall=0.0, fmeasure=0.0)}\n",
      "{'rouge1': Score(precision=0.0, recall=0.0, fmeasure=0.0)}\n",
      "{'rouge1': Score(precision=0.3333333333333333, recall=0.16666666666666666, fmeasure=0.2222222222222222)}\n",
      "{'rouge1': Score(precision=0.4, recall=0.5714285714285714, fmeasure=0.47058823529411764)}\n",
      "{'rouge1': Score(precision=0.0, recall=0.0, fmeasure=0.0)}\n",
      "{'rouge1': Score(precision=0.0, recall=0.0, fmeasure=0.0)}\n",
      "{'rouge1': Score(precision=0.0, recall=0.0, fmeasure=0.0)}\n",
      "{'rouge1': Score(precision=0.0, recall=0.0, fmeasure=0.0)}\n",
      "{'rouge1': Score(precision=0.0, recall=0.0, fmeasure=0.0)}\n",
      "{'rouge1': Score(precision=0.0, recall=0.0, fmeasure=0.0)}\n",
      "{'rouge1': Score(precision=0.0, recall=0.0, fmeasure=0.0)}\n",
      "{'rouge1': Score(precision=0.0, recall=0.0, fmeasure=0.0)}\n",
      "{'rouge1': Score(precision=0.0, recall=0.0, fmeasure=0.0)}\n",
      "{'rouge1': Score(precision=0.0, recall=0.0, fmeasure=0.0)}\n",
      "{'rouge1': Score(precision=0.6666666666666666, recall=1.0, fmeasure=0.8)}\n",
      "{'rouge1': Score(precision=0.0, recall=0.0, fmeasure=0.0)}\n",
      "{'rouge1': Score(precision=0.25, recall=0.3333333333333333, fmeasure=0.28571428571428575)}\n",
      "{'rouge1': Score(precision=0.0, recall=0.0, fmeasure=0.0)}\n",
      "{'rouge1': Score(precision=0.0, recall=0.0, fmeasure=0.0)}\n",
      "{'rouge1': Score(precision=0.0, recall=0.0, fmeasure=0.0)}\n",
      "{'rouge1': Score(precision=0.0, recall=0.0, fmeasure=0.0)}\n",
      "{'rouge1': Score(precision=0.0, recall=0.0, fmeasure=0.0)}\n",
      "{'rouge1': Score(precision=0.0, recall=0.0, fmeasure=0.0)}\n",
      "{'rouge1': Score(precision=0.0, recall=0.0, fmeasure=0.0)}\n",
      "{'rouge1': Score(precision=0.0, recall=0.0, fmeasure=0.0)}\n",
      "{'rouge1': Score(precision=0.0, recall=0.0, fmeasure=0.0)}\n",
      "{'rouge1': Score(precision=0.0, recall=0.0, fmeasure=0.0)}\n",
      "{'rouge1': Score(precision=0.0, recall=0.0, fmeasure=0.0)}\n",
      "{'rouge1': Score(precision=0.0, recall=0.0, fmeasure=0.0)}\n",
      "{'rouge1': Score(precision=0.0, recall=0.0, fmeasure=0.0)}\n",
      "{'rouge1': Score(precision=0.0, recall=0.0, fmeasure=0.0)}\n",
      "{'rouge1': Score(precision=0.0, recall=0.0, fmeasure=0.0)}\n",
      "{'rouge1': Score(precision=0.0, recall=0.0, fmeasure=0.0)}\n",
      "{'rouge1': Score(precision=0.0, recall=0.0, fmeasure=0.0)}\n",
      "{'rouge1': Score(precision=0.0, recall=0.0, fmeasure=0.0)}\n",
      "{'rouge1': Score(precision=0.0, recall=0.0, fmeasure=0.0)}\n",
      "{'rouge1': Score(precision=1.0, recall=0.5, fmeasure=0.6666666666666666)}\n",
      "{'rouge1': Score(precision=0.0, recall=0.0, fmeasure=0.0)}\n",
      "{'rouge1': Score(precision=0.0, recall=0.0, fmeasure=0.0)}\n",
      "{'rouge1': Score(precision=0.3333333333333333, recall=0.14285714285714285, fmeasure=0.2)}\n",
      "{'rouge1': Score(precision=0.0, recall=0.0, fmeasure=0.0)}\n",
      "{'rouge1': Score(precision=0.0, recall=0.0, fmeasure=0.0)}\n",
      "{'rouge1': Score(precision=0.0, recall=0.0, fmeasure=0.0)}\n",
      "{'rouge1': Score(precision=0.0, recall=0.0, fmeasure=0.0)}\n",
      "{'rouge1': Score(precision=1.0, recall=0.01639344262295082, fmeasure=0.03225806451612903)}\n",
      "{'rouge1': Score(precision=0.0, recall=0.0, fmeasure=0.0)}\n",
      "{'rouge1': Score(precision=0.0, recall=0.0, fmeasure=0.0)}\n",
      "{'rouge1': Score(precision=0.1, recall=0.3333333333333333, fmeasure=0.15384615384615383)}\n",
      "{'rouge1': Score(precision=0.0, recall=0.0, fmeasure=0.0)}\n",
      "{'rouge1': Score(precision=0.0, recall=0.0, fmeasure=0.0)}\n",
      "{'rouge1': Score(precision=0.0, recall=0.0, fmeasure=0.0)}\n",
      "{'rouge1': Score(precision=0.0, recall=0.0, fmeasure=0.0)}\n",
      "{'rouge1': Score(precision=0.14285714285714285, recall=1.0, fmeasure=0.25)}\n",
      "{'rouge1': Score(precision=0.0, recall=0.0, fmeasure=0.0)}\n",
      "{'rouge1': Score(precision=0.0, recall=0.0, fmeasure=0.0)}\n",
      "{'rouge1': Score(precision=0.0, recall=0.0, fmeasure=0.0)}\n",
      "{'rouge1': Score(precision=0.0, recall=0.0, fmeasure=0.0)}\n",
      "{'rouge1': Score(precision=0.2, recall=0.5, fmeasure=0.28571428571428575)}\n",
      "{'rouge1': Score(precision=0.0, recall=0.0, fmeasure=0.0)}\n",
      "{'rouge1': Score(precision=0.0, recall=0.0, fmeasure=0.0)}\n",
      "{'rouge1': Score(precision=0.0, recall=0.0, fmeasure=0.0)}\n",
      "{'rouge1': Score(precision=0.0, recall=0.0, fmeasure=0.0)}\n",
      "{'rouge1': Score(precision=0.0, recall=0.0, fmeasure=0.0)}\n",
      "{'rouge1': Score(precision=0.0, recall=0.0, fmeasure=0.0)}\n",
      "{'rouge1': Score(precision=0.0, recall=0.0, fmeasure=0.0)}\n",
      "{'rouge1': Score(precision=0.0, recall=0.0, fmeasure=0.0)}\n",
      "{'rouge1': Score(precision=0.2, recall=0.5, fmeasure=0.28571428571428575)}\n",
      "{'rouge1': Score(precision=0.0, recall=0.0, fmeasure=0.0)}\n",
      "{'rouge1': Score(precision=1.0, recall=0.6, fmeasure=0.7499999999999999)}\n",
      "{'rouge1': Score(precision=1.0, recall=0.5, fmeasure=0.6666666666666666)}\n",
      "{'rouge1': Score(precision=1.0, recall=0.5, fmeasure=0.6666666666666666)}\n",
      "{'rouge1': Score(precision=0.0, recall=0.0, fmeasure=0.0)}\n",
      "{'rouge1': Score(precision=0.0, recall=0.0, fmeasure=0.0)}\n",
      "{'rouge1': Score(precision=0.3333333333333333, recall=0.5, fmeasure=0.4)}\n",
      "{'rouge1': Score(precision=0.2222222222222222, recall=0.4, fmeasure=0.2857142857142857)}\n",
      "{'rouge1': Score(precision=0.0, recall=0.0, fmeasure=0.0)}\n",
      "{'rouge1': Score(precision=0.0, recall=0.0, fmeasure=0.0)}\n",
      "{'rouge1': Score(precision=0.0, recall=0.0, fmeasure=0.0)}\n",
      "{'rouge1': Score(precision=0.0, recall=0.0, fmeasure=0.0)}\n",
      "{'rouge1': Score(precision=0.3333333333333333, recall=0.25, fmeasure=0.28571428571428575)}\n",
      "{'rouge1': Score(precision=0.0, recall=0.0, fmeasure=0.0)}\n",
      "{'rouge1': Score(precision=0.25, recall=0.6666666666666666, fmeasure=0.36363636363636365)}\n",
      "{'rouge1': Score(precision=0.0, recall=0.0, fmeasure=0.0)}\n",
      "{'rouge1': Score(precision=0.0, recall=0.0, fmeasure=0.0)}\n",
      "{'rouge1': Score(precision=1.0, recall=0.5, fmeasure=0.6666666666666666)}\n",
      "{'rouge1': Score(precision=0.0, recall=0.0, fmeasure=0.0)}\n",
      "{'rouge1': Score(precision=0.0, recall=0.0, fmeasure=0.0)}\n",
      "{'rouge1': Score(precision=0.0, recall=0.0, fmeasure=0.0)}\n",
      "{'rouge1': Score(precision=0.0, recall=0.0, fmeasure=0.0)}\n",
      "{'rouge1': Score(precision=0.0, recall=0.0, fmeasure=0.0)}\n",
      "{'rouge1': Score(precision=0.0, recall=0.0, fmeasure=0.0)}\n",
      "{'rouge1': Score(precision=0.0, recall=0.0, fmeasure=0.0)}\n",
      "{'rouge1': Score(precision=0.0, recall=0.0, fmeasure=0.0)}\n",
      "{'rouge1': Score(precision=0.0, recall=0.0, fmeasure=0.0)}\n",
      "{'rouge1': Score(precision=0.0, recall=0.0, fmeasure=0.0)}\n",
      "{'rouge1': Score(precision=0.0, recall=0.0, fmeasure=0.0)}\n",
      "{'rouge1': Score(precision=0.0, recall=0.0, fmeasure=0.0)}\n",
      "{'rouge1': Score(precision=1.0, recall=0.5, fmeasure=0.6666666666666666)}\n",
      "{'rouge1': Score(precision=0.0, recall=0.0, fmeasure=0.0)}\n",
      "{'rouge1': Score(precision=0.0, recall=0.0, fmeasure=0.0)}\n",
      "{'rouge1': Score(precision=0.0, recall=0.0, fmeasure=0.0)}\n",
      "{'rouge1': Score(precision=0.0, recall=0.0, fmeasure=0.0)}\n",
      "{'rouge1': Score(precision=0.2, recall=0.5, fmeasure=0.28571428571428575)}\n",
      "{'rouge1': Score(precision=0.0, recall=0.0, fmeasure=0.0)}\n",
      "{'rouge1': Score(precision=0.0, recall=0.0, fmeasure=0.0)}\n",
      "{'rouge1': Score(precision=0.5, recall=0.6666666666666666, fmeasure=0.5714285714285715)}\n",
      "{'rouge1': Score(precision=0.0, recall=0.0, fmeasure=0.0)}\n",
      "{'rouge1': Score(precision=0.0, recall=0.0, fmeasure=0.0)}\n",
      "{'rouge1': Score(precision=1.0, recall=0.3333333333333333, fmeasure=0.5)}\n",
      "{'rouge1': Score(precision=1.0, recall=0.5, fmeasure=0.6666666666666666)}\n",
      "{'rouge1': Score(precision=0.0, recall=0.0, fmeasure=0.0)}\n",
      "{'rouge1': Score(precision=0.0, recall=0.0, fmeasure=0.0)}\n",
      "{'rouge1': Score(precision=0.0, recall=0.0, fmeasure=0.0)}\n",
      "{'rouge1': Score(precision=0.0, recall=0.0, fmeasure=0.0)}\n",
      "{'rouge1': Score(precision=0.0, recall=0.0, fmeasure=0.0)}\n",
      "{'rouge1': Score(precision=0.0, recall=0.0, fmeasure=0.0)}\n",
      "{'rouge1': Score(precision=0.0, recall=0.0, fmeasure=0.0)}\n",
      "{'rouge1': Score(precision=0.4, recall=1.0, fmeasure=0.5714285714285715)}\n",
      "{'rouge1': Score(precision=0.0, recall=0.0, fmeasure=0.0)}\n",
      "{'rouge1': Score(precision=0.0, recall=0.0, fmeasure=0.0)}\n",
      "{'rouge1': Score(precision=0.0, recall=0.0, fmeasure=0.0)}\n",
      "{'rouge1': Score(precision=1.0, recall=0.5, fmeasure=0.6666666666666666)}\n",
      "{'rouge1': Score(precision=0.0, recall=0.0, fmeasure=0.0)}\n",
      "{'rouge1': Score(precision=0.0, recall=0.0, fmeasure=0.0)}\n",
      "{'rouge1': Score(precision=0.0, recall=0.0, fmeasure=0.0)}\n",
      "{'rouge1': Score(precision=0.0, recall=0.0, fmeasure=0.0)}\n",
      "{'rouge1': Score(precision=0.0, recall=0.0, fmeasure=0.0)}\n",
      "{'rouge1': Score(precision=0.0, recall=0.0, fmeasure=0.0)}\n",
      "{'rouge1': Score(precision=0.0, recall=0.0, fmeasure=0.0)}\n",
      "{'rouge1': Score(precision=0.0, recall=0.0, fmeasure=0.0)}\n",
      "{'rouge1': Score(precision=0.0, recall=0.0, fmeasure=0.0)}\n",
      "{'rouge1': Score(precision=0.0, recall=0.0, fmeasure=0.0)}\n",
      "{'rouge1': Score(precision=0.0, recall=0.0, fmeasure=0.0)}\n",
      "{'rouge1': Score(precision=0.0, recall=0.0, fmeasure=0.0)}\n",
      "{'rouge1': Score(precision=1.0, recall=1.0, fmeasure=1.0)}\n",
      "{'rouge1': Score(precision=0.0, recall=0.0, fmeasure=0.0)}\n"
     ]
    }
   ],
   "source": [
    "from rouge_score import rouge_scorer\n",
    "\n",
    "scorer = rouge_scorer.RougeScorer(\n",
    "    ['rouge1', 'rouge2', 'rougeL'], \n",
    "    use_stemmer=True\n",
    ")\n",
    "for i in range(len(valid_data)):\n",
    "    print(scorer.score(target=references[i], prediction=predictions[i]))"
   ],
   "metadata": {
    "collapsed": false,
    "ExecuteTime": {
     "end_time": "2024-12-13T19:53:02.594469Z",
     "start_time": "2024-12-13T19:53:02.582347Z"
    }
   },
   "id": "bed0153c8686c088",
   "execution_count": 32
  },
  {
   "cell_type": "markdown",
   "source": [
    "BLEU - допускает несколько правильных вариантов ответа."
   ],
   "metadata": {
    "collapsed": false
   },
   "id": "8c9f2289841141bb"
  },
  {
   "cell_type": "code",
   "outputs": [
    {
     "data": {
      "text/plain": "{'bleu': 1.0,\n 'precisions': [1.0, 1.0, 1.0, 1.0],\n 'brevity_penalty': 1.0,\n 'length_ratio': 1.0,\n 'translation_length': 11,\n 'reference_length': 11}"
     },
     "execution_count": 43,
     "metadata": {},
     "output_type": "execute_result"
    }
   ],
   "source": [
    "bleu.compute(predictions=[references[0]], references=[references[0]])"
   ],
   "metadata": {
    "collapsed": false,
    "ExecuteTime": {
     "end_time": "2024-12-13T12:45:16.779696Z",
     "start_time": "2024-12-13T12:45:16.751444Z"
    }
   },
   "id": "b8f561708464c254",
   "execution_count": 43
  },
  {
   "cell_type": "code",
   "outputs": [],
   "source": [
    "def calc_classic_metrcis(data: pd.DataFrame):\n",
    "    data_with_metrics = data.copy()\n",
    "    \n",
    "    answers = data_with_metrics[\"answers\"]\n",
    "    gold_answers = data_with_metrics[\"gold_answers\"]\n",
    "    \n",
    "    print(\"calculating bert scores...\")\n",
    "    bert_scores = bertscore.compute(predictions=answers, references=gold_answers, lang=\"ru\")\n",
    "    data_with_metrics[\"bert_precision\"] = bert_scores[\"precision\"]\n",
    "    data_with_metrics[\"bert_recall\"] = bert_scores[\"recall\"]\n",
    "    data_with_metrics[\"bert_f1\"] = bert_scores[\"f1\"]\n",
    "    \n",
    "    print(\"calculating bleu scores...\")\n",
    "    bleu_scores = []\n",
    "    for i in range(len(data_with_metrics)):\n",
    "        item_bleu = bleu.compute(predictions=[answers[i]], references=[gold_answers[i]])[\"bleu\"]\n",
    "        bleu_scores.append(item_bleu)\n",
    "    data_with_metrics[\"bleu\"] = bleu_scores\n",
    "    \n",
    "    print(\"calculating rouge scores...\")\n",
    "    metric_names = [\"precision\", \"recall\", \"fmeasure\"]\n",
    "    rouge_scores = {\n",
    "        \"rouge1\": {metric_name: [] for metric_name in metric_names},\n",
    "        \"rouge2\": {metric_name: [] for metric_name in metric_names},\n",
    "        \"rougeL\": {metric_name: [] for metric_name in metric_names}\n",
    "    }\n",
    "    rouge = rouge_scorer.RougeScorer(\n",
    "        list(rouge_scores.keys()), \n",
    "        use_stemmer=True\n",
    "    )\n",
    "    \n",
    "    for i in range(len(data)):\n",
    "        for key, value in rouge.score(target=answers[i], prediction=gold_answers[i]).items():\n",
    "            for metric_name in metric_names:\n",
    "                rouge_scores[key][metric_name].append(getattr(value, metric_name))\n",
    "            \n",
    "    for key in rouge_scores:\n",
    "        data_with_metrics[key] = rouge_scores[key]\n",
    "        for metric_name in metric_names:\n",
    "            data_with_metrics[key + \"_\" + metric_name] = rouge_scores[key][metric_name]\n",
    "            \n",
    "    return data_with_metrics"
   ],
   "metadata": {
    "collapsed": false,
    "ExecuteTime": {
     "end_time": "2024-12-13T20:19:47.459403Z",
     "start_time": "2024-12-13T20:19:47.452868Z"
    }
   },
   "id": "4491aff2d5b409dd",
   "execution_count": 9
  },
  {
   "cell_type": "code",
   "outputs": [
    {
     "name": "stdout",
     "output_type": "stream",
     "text": [
      "calculating bert scores...\n",
      "calculating bleu scores...\n",
      "calculating rouge scores...\n"
     ]
    },
    {
     "data": {
      "text/plain": "       bert_precision  bert_recall    bert_f1       bleu  rouge1_precision  \\\ncount       10.000000    10.000000  10.000000  10.000000         10.000000   \nmean         0.594179     0.702531   0.643082   0.005761          0.086667   \nstd          0.046573     0.040098   0.039126   0.018219          0.144188   \nmin          0.496684     0.650658   0.573065   0.000000          0.000000   \n25%          0.574072     0.673238   0.629999   0.000000          0.000000   \n50%          0.602383     0.704912   0.641272   0.000000          0.000000   \n75%          0.623815     0.719524   0.665404   0.000000          0.150000   \nmax          0.656844     0.787742   0.716363   0.057613          0.333333   \n\n       rouge1_recall  rouge1_fmeasure  rouge2_precision  rouge2_recall  \\\ncount      10.000000        10.000000              10.0           10.0   \nmean        0.153333         0.100000               0.0            0.0   \nstd         0.319026         0.174801               0.0            0.0   \nmin         0.000000         0.000000               0.0            0.0   \n25%         0.000000         0.000000               0.0            0.0   \n50%         0.000000         0.000000               0.0            0.0   \n75%         0.150000         0.187500               0.0            0.0   \nmax         1.000000         0.500000               0.0            0.0   \n\n       rouge2_fmeasure  rougeL_precision  rougeL_recall  rougeL_fmeasure  \ncount             10.0         10.000000      10.000000        10.000000  \nmean               0.0          0.086667       0.153333         0.100000  \nstd                0.0          0.144188       0.319026         0.174801  \nmin                0.0          0.000000       0.000000         0.000000  \n25%                0.0          0.000000       0.000000         0.000000  \n50%                0.0          0.000000       0.000000         0.000000  \n75%                0.0          0.150000       0.150000         0.187500  \nmax                0.0          0.333333       1.000000         0.500000  ",
      "text/html": "<div>\n<style scoped>\n    .dataframe tbody tr th:only-of-type {\n        vertical-align: middle;\n    }\n\n    .dataframe tbody tr th {\n        vertical-align: top;\n    }\n\n    .dataframe thead th {\n        text-align: right;\n    }\n</style>\n<table border=\"1\" class=\"dataframe\">\n  <thead>\n    <tr style=\"text-align: right;\">\n      <th></th>\n      <th>bert_precision</th>\n      <th>bert_recall</th>\n      <th>bert_f1</th>\n      <th>bleu</th>\n      <th>rouge1_precision</th>\n      <th>rouge1_recall</th>\n      <th>rouge1_fmeasure</th>\n      <th>rouge2_precision</th>\n      <th>rouge2_recall</th>\n      <th>rouge2_fmeasure</th>\n      <th>rougeL_precision</th>\n      <th>rougeL_recall</th>\n      <th>rougeL_fmeasure</th>\n    </tr>\n  </thead>\n  <tbody>\n    <tr>\n      <th>count</th>\n      <td>10.000000</td>\n      <td>10.000000</td>\n      <td>10.000000</td>\n      <td>10.000000</td>\n      <td>10.000000</td>\n      <td>10.000000</td>\n      <td>10.000000</td>\n      <td>10.0</td>\n      <td>10.0</td>\n      <td>10.0</td>\n      <td>10.000000</td>\n      <td>10.000000</td>\n      <td>10.000000</td>\n    </tr>\n    <tr>\n      <th>mean</th>\n      <td>0.594179</td>\n      <td>0.702531</td>\n      <td>0.643082</td>\n      <td>0.005761</td>\n      <td>0.086667</td>\n      <td>0.153333</td>\n      <td>0.100000</td>\n      <td>0.0</td>\n      <td>0.0</td>\n      <td>0.0</td>\n      <td>0.086667</td>\n      <td>0.153333</td>\n      <td>0.100000</td>\n    </tr>\n    <tr>\n      <th>std</th>\n      <td>0.046573</td>\n      <td>0.040098</td>\n      <td>0.039126</td>\n      <td>0.018219</td>\n      <td>0.144188</td>\n      <td>0.319026</td>\n      <td>0.174801</td>\n      <td>0.0</td>\n      <td>0.0</td>\n      <td>0.0</td>\n      <td>0.144188</td>\n      <td>0.319026</td>\n      <td>0.174801</td>\n    </tr>\n    <tr>\n      <th>min</th>\n      <td>0.496684</td>\n      <td>0.650658</td>\n      <td>0.573065</td>\n      <td>0.000000</td>\n      <td>0.000000</td>\n      <td>0.000000</td>\n      <td>0.000000</td>\n      <td>0.0</td>\n      <td>0.0</td>\n      <td>0.0</td>\n      <td>0.000000</td>\n      <td>0.000000</td>\n      <td>0.000000</td>\n    </tr>\n    <tr>\n      <th>25%</th>\n      <td>0.574072</td>\n      <td>0.673238</td>\n      <td>0.629999</td>\n      <td>0.000000</td>\n      <td>0.000000</td>\n      <td>0.000000</td>\n      <td>0.000000</td>\n      <td>0.0</td>\n      <td>0.0</td>\n      <td>0.0</td>\n      <td>0.000000</td>\n      <td>0.000000</td>\n      <td>0.000000</td>\n    </tr>\n    <tr>\n      <th>50%</th>\n      <td>0.602383</td>\n      <td>0.704912</td>\n      <td>0.641272</td>\n      <td>0.000000</td>\n      <td>0.000000</td>\n      <td>0.000000</td>\n      <td>0.000000</td>\n      <td>0.0</td>\n      <td>0.0</td>\n      <td>0.0</td>\n      <td>0.000000</td>\n      <td>0.000000</td>\n      <td>0.000000</td>\n    </tr>\n    <tr>\n      <th>75%</th>\n      <td>0.623815</td>\n      <td>0.719524</td>\n      <td>0.665404</td>\n      <td>0.000000</td>\n      <td>0.150000</td>\n      <td>0.150000</td>\n      <td>0.187500</td>\n      <td>0.0</td>\n      <td>0.0</td>\n      <td>0.0</td>\n      <td>0.150000</td>\n      <td>0.150000</td>\n      <td>0.187500</td>\n    </tr>\n    <tr>\n      <th>max</th>\n      <td>0.656844</td>\n      <td>0.787742</td>\n      <td>0.716363</td>\n      <td>0.057613</td>\n      <td>0.333333</td>\n      <td>1.000000</td>\n      <td>0.500000</td>\n      <td>0.0</td>\n      <td>0.0</td>\n      <td>0.0</td>\n      <td>0.333333</td>\n      <td>1.000000</td>\n      <td>0.500000</td>\n    </tr>\n  </tbody>\n</table>\n</div>"
     },
     "execution_count": 10,
     "metadata": {},
     "output_type": "execute_result"
    }
   ],
   "source": [
    "calc_classic_metrcis(valid_data[:10]).describe()"
   ],
   "metadata": {
    "collapsed": false,
    "ExecuteTime": {
     "end_time": "2024-12-13T20:19:59.677272Z",
     "start_time": "2024-12-13T20:19:47.460407Z"
    }
   },
   "id": "7750ebb92903fa76",
   "execution_count": 10
  },
  {
   "cell_type": "markdown",
   "source": [
    "#### Оценка достоверности\n",
    "\n",
    "1. Можно выделить сущности\n",
    "2. Можно BLEU, ROGUE по округленным чиселками или по округленным чиселкам с ключевыми словами + юзерская"
   ],
   "metadata": {
    "collapsed": false
   },
   "id": "e58a808bdb409eb8"
  },
  {
   "cell_type": "markdown",
   "source": [
    "Посчитаем обычный numeric"
   ],
   "metadata": {
    "collapsed": false
   },
   "id": "be053ab85e88f27c"
  },
  {
   "cell_type": "code",
   "outputs": [
    {
     "data": {
      "text/plain": "config.json:   0%|          | 0.00/2.35k [00:00<?, ?B/s]",
      "application/vnd.jupyter.widget-view+json": {
       "version_major": 2,
       "version_minor": 0,
       "model_id": "7da4b4c1d759412b8ab8648fe12b6897"
      }
     },
     "metadata": {},
     "output_type": "display_data"
    },
    {
     "data": {
      "text/plain": "model.safetensors:   0%|          | 0.00/709M [00:00<?, ?B/s]",
      "application/vnd.jupyter.widget-view+json": {
       "version_major": 2,
       "version_minor": 0,
       "model_id": "7e2d610ba0b1498999feb6456beac7ba"
      }
     },
     "metadata": {},
     "output_type": "display_data"
    },
    {
     "data": {
      "text/plain": "tokenizer_config.json:   0%|          | 0.00/1.19k [00:00<?, ?B/s]",
      "application/vnd.jupyter.widget-view+json": {
       "version_major": 2,
       "version_minor": 0,
       "model_id": "b223f369b3c94b289360ed7afc520e25"
      }
     },
     "metadata": {},
     "output_type": "display_data"
    },
    {
     "data": {
      "text/plain": "vocab.txt:   0%|          | 0.00/996k [00:00<?, ?B/s]",
      "application/vnd.jupyter.widget-view+json": {
       "version_major": 2,
       "version_minor": 0,
       "model_id": "440dc32875984e92ad84c965ff76ac9f"
      }
     },
     "metadata": {},
     "output_type": "display_data"
    },
    {
     "data": {
      "text/plain": "tokenizer.json:   0%|          | 0.00/2.92M [00:00<?, ?B/s]",
      "application/vnd.jupyter.widget-view+json": {
       "version_major": 2,
       "version_minor": 0,
       "model_id": "1e61ac81daaf4405be325d10187f72c8"
      }
     },
     "metadata": {},
     "output_type": "display_data"
    },
    {
     "data": {
      "text/plain": "special_tokens_map.json:   0%|          | 0.00/125 [00:00<?, ?B/s]",
      "application/vnd.jupyter.widget-view+json": {
       "version_major": 2,
       "version_minor": 0,
       "model_id": "6c68dc94e87d4c1ba6a5ea6daf499ea9"
      }
     },
     "metadata": {},
     "output_type": "display_data"
    },
    {
     "name": "stderr",
     "output_type": "stream",
     "text": [
      "Device set to use cpu\n"
     ]
    },
    {
     "name": "stdout",
     "output_type": "stream",
     "text": [
      "Word: Сергей, Entity: U-FIRST_NAME, Score: 0.9982\n",
      "Word: Иванович, Entity: U-MIDDLE_NAME, Score: 0.9976\n",
      "Word: Москвы, Entity: U-CITY, Score: 0.9982\n"
     ]
    }
   ],
   "source": [
    "from deeppavlov import build_model, configs\n",
    "\n",
    "# Загружаем модель для NER\n",
    "model = build_model(configs.ner.ner_ontonotes_ru, download=True)\n",
    "\n",
    "# Пример текста на русском языке\n",
    "text = [\"Согласно последним данным, компания Яндекс приобрела стартап в Москве за 1 миллион долларов.\"]\n",
    "\n",
    "# Обрабатываем текст\n",
    "predictions = model(text)\n",
    "\n",
    "# Выводим результат\n",
    "for sentence in predictions:\n",
    "    for word, tag in zip(sentence[0], sentence[1]):\n",
    "        print(f\"{word}: {tag}\")\n"
   ],
   "metadata": {
    "collapsed": false,
    "ExecuteTime": {
     "end_time": "2024-12-13T20:33:53.923975Z",
     "start_time": "2024-12-13T20:31:23.891823Z"
    }
   },
   "id": "dbafcd56bb3a975c",
   "execution_count": 20
  },
  {
   "cell_type": "code",
   "outputs": [
    {
     "name": "stdout",
     "output_type": "stream",
     "text": [
      "[]\n"
     ]
    }
   ],
   "source": [
    "text = \"12-12-2024 ты потратил 20 000 рублей\"\n",
    "results = ner_pipe(text)\n",
    "print(results)\n",
    "\n",
    "for result in results:\n",
    "    print(f\"Word: {result['word']}, Entity: {result['entity']}, Score: {result['score']:.4f}\")"
   ],
   "metadata": {
    "collapsed": false,
    "ExecuteTime": {
     "end_time": "2024-12-13T20:37:28.859847Z",
     "start_time": "2024-12-13T20:37:28.768473Z"
    }
   },
   "id": "4a367c64ba4c921c",
   "execution_count": 23
  },
  {
   "cell_type": "code",
   "outputs": [
    {
     "ename": "OSError",
     "evalue": "[E050] Can't find model 'ru_ent_web_md'. It doesn't seem to be a Python package or a valid path to a data directory.",
     "output_type": "error",
     "traceback": [
      "\u001B[1;31m---------------------------------------------------------------------------\u001B[0m",
      "\u001B[1;31mOSError\u001B[0m                                   Traceback (most recent call last)",
      "Cell \u001B[1;32mIn[12], line 3\u001B[0m\n\u001B[0;32m      1\u001B[0m \u001B[38;5;28;01mimport\u001B[39;00m \u001B[38;5;21;01mspacy\u001B[39;00m\n\u001B[1;32m----> 3\u001B[0m nlp \u001B[38;5;241m=\u001B[39m \u001B[43mspacy\u001B[49m\u001B[38;5;241;43m.\u001B[39;49m\u001B[43mload\u001B[49m\u001B[43m(\u001B[49m\u001B[38;5;124;43m\"\u001B[39;49m\u001B[38;5;124;43mru_ent_web_md\u001B[39;49m\u001B[38;5;124;43m\"\u001B[39;49m\u001B[43m)\u001B[49m\n\u001B[0;32m      4\u001B[0m doc \u001B[38;5;241m=\u001B[39m nlp(\u001B[38;5;124m\"\u001B[39m\u001B[38;5;124mI paid $50 for the book on 2023-10-01.\u001B[39m\u001B[38;5;124m\"\u001B[39m)\n\u001B[0;32m      5\u001B[0m \u001B[38;5;28;01mfor\u001B[39;00m ent \u001B[38;5;129;01min\u001B[39;00m doc\u001B[38;5;241m.\u001B[39ments:\n",
      "File \u001B[1;32m~\\IT Products\\SiriusFinAssist\\.venv\\Lib\\site-packages\\spacy\\__init__.py:51\u001B[0m, in \u001B[0;36mload\u001B[1;34m(name, vocab, disable, enable, exclude, config)\u001B[0m\n\u001B[0;32m     27\u001B[0m \u001B[38;5;28;01mdef\u001B[39;00m \u001B[38;5;21mload\u001B[39m(\n\u001B[0;32m     28\u001B[0m     name: Union[\u001B[38;5;28mstr\u001B[39m, Path],\n\u001B[0;32m     29\u001B[0m     \u001B[38;5;241m*\u001B[39m,\n\u001B[1;32m   (...)\u001B[0m\n\u001B[0;32m     34\u001B[0m     config: Union[Dict[\u001B[38;5;28mstr\u001B[39m, Any], Config] \u001B[38;5;241m=\u001B[39m util\u001B[38;5;241m.\u001B[39mSimpleFrozenDict(),\n\u001B[0;32m     35\u001B[0m ) \u001B[38;5;241m-\u001B[39m\u001B[38;5;241m>\u001B[39m Language:\n\u001B[0;32m     36\u001B[0m \u001B[38;5;250m    \u001B[39m\u001B[38;5;124;03m\"\"\"Load a spaCy model from an installed package or a local path.\u001B[39;00m\n\u001B[0;32m     37\u001B[0m \n\u001B[0;32m     38\u001B[0m \u001B[38;5;124;03m    name (str): Package name or model path.\u001B[39;00m\n\u001B[1;32m   (...)\u001B[0m\n\u001B[0;32m     49\u001B[0m \u001B[38;5;124;03m    RETURNS (Language): The loaded nlp object.\u001B[39;00m\n\u001B[0;32m     50\u001B[0m \u001B[38;5;124;03m    \"\"\"\u001B[39;00m\n\u001B[1;32m---> 51\u001B[0m     \u001B[38;5;28;01mreturn\u001B[39;00m \u001B[43mutil\u001B[49m\u001B[38;5;241;43m.\u001B[39;49m\u001B[43mload_model\u001B[49m\u001B[43m(\u001B[49m\n\u001B[0;32m     52\u001B[0m \u001B[43m        \u001B[49m\u001B[43mname\u001B[49m\u001B[43m,\u001B[49m\n\u001B[0;32m     53\u001B[0m \u001B[43m        \u001B[49m\u001B[43mvocab\u001B[49m\u001B[38;5;241;43m=\u001B[39;49m\u001B[43mvocab\u001B[49m\u001B[43m,\u001B[49m\n\u001B[0;32m     54\u001B[0m \u001B[43m        \u001B[49m\u001B[43mdisable\u001B[49m\u001B[38;5;241;43m=\u001B[39;49m\u001B[43mdisable\u001B[49m\u001B[43m,\u001B[49m\n\u001B[0;32m     55\u001B[0m \u001B[43m        \u001B[49m\u001B[43menable\u001B[49m\u001B[38;5;241;43m=\u001B[39;49m\u001B[43menable\u001B[49m\u001B[43m,\u001B[49m\n\u001B[0;32m     56\u001B[0m \u001B[43m        \u001B[49m\u001B[43mexclude\u001B[49m\u001B[38;5;241;43m=\u001B[39;49m\u001B[43mexclude\u001B[49m\u001B[43m,\u001B[49m\n\u001B[0;32m     57\u001B[0m \u001B[43m        \u001B[49m\u001B[43mconfig\u001B[49m\u001B[38;5;241;43m=\u001B[39;49m\u001B[43mconfig\u001B[49m\u001B[43m,\u001B[49m\n\u001B[0;32m     58\u001B[0m \u001B[43m    \u001B[49m\u001B[43m)\u001B[49m\n",
      "File \u001B[1;32m~\\IT Products\\SiriusFinAssist\\.venv\\Lib\\site-packages\\spacy\\util.py:472\u001B[0m, in \u001B[0;36mload_model\u001B[1;34m(name, vocab, disable, enable, exclude, config)\u001B[0m\n\u001B[0;32m    470\u001B[0m \u001B[38;5;28;01mif\u001B[39;00m name \u001B[38;5;129;01min\u001B[39;00m OLD_MODEL_SHORTCUTS:\n\u001B[0;32m    471\u001B[0m     \u001B[38;5;28;01mraise\u001B[39;00m \u001B[38;5;167;01mIOError\u001B[39;00m(Errors\u001B[38;5;241m.\u001B[39mE941\u001B[38;5;241m.\u001B[39mformat(name\u001B[38;5;241m=\u001B[39mname, full\u001B[38;5;241m=\u001B[39mOLD_MODEL_SHORTCUTS[name]))  \u001B[38;5;66;03m# type: ignore[index]\u001B[39;00m\n\u001B[1;32m--> 472\u001B[0m \u001B[38;5;28;01mraise\u001B[39;00m \u001B[38;5;167;01mIOError\u001B[39;00m(Errors\u001B[38;5;241m.\u001B[39mE050\u001B[38;5;241m.\u001B[39mformat(name\u001B[38;5;241m=\u001B[39mname))\n",
      "\u001B[1;31mOSError\u001B[0m: [E050] Can't find model 'ru_ent_web_md'. It doesn't seem to be a Python package or a valid path to a data directory."
     ]
    }
   ],
   "source": [
    "import spacy\n",
    "\n",
    "nlp = spacy.load(\"ru_ent_web_md\")\n",
    "doc = nlp(\"я заплатил $50 за книгу 2023-10-01.\")\n",
    "for ent in doc.ents:\n",
    "   print(ent.text, ent.label_)"
   ],
   "metadata": {
    "collapsed": false,
    "ExecuteTime": {
     "end_time": "2024-12-13T20:25:29.889809Z",
     "start_time": "2024-12-13T20:25:28.456277Z"
    }
   },
   "id": "19c39fb9227aa87c",
   "execution_count": 12
  },
  {
   "cell_type": "code",
   "outputs": [
    {
     "ename": "KeyError",
     "evalue": "'rogue1'",
     "output_type": "error",
     "traceback": [
      "\u001B[1;31m---------------------------------------------------------------------------\u001B[0m",
      "\u001B[1;31mKeyError\u001B[0m                                  Traceback (most recent call last)",
      "Cell \u001B[1;32mIn[34], line 18\u001B[0m\n\u001B[0;32m     12\u001B[0m     rogue \u001B[38;5;241m=\u001B[39m rouge_scorer\u001B[38;5;241m.\u001B[39mRougeScorer(\n\u001B[0;32m     13\u001B[0m         [\u001B[38;5;124m'\u001B[39m\u001B[38;5;124mrouge1\u001B[39m\u001B[38;5;124m'\u001B[39m], \n\u001B[0;32m     14\u001B[0m         use_stemmer\u001B[38;5;241m=\u001B[39m\u001B[38;5;28;01mFalse\u001B[39;00m\n\u001B[0;32m     15\u001B[0m     )\n\u001B[0;32m     16\u001B[0m     \u001B[38;5;28;01mreturn\u001B[39;00m rogue\u001B[38;5;241m.\u001B[39mscore(reference_numbers, prediction_numbers)[\u001B[38;5;124m\"\u001B[39m\u001B[38;5;124mrogue1\u001B[39m\u001B[38;5;124m\"\u001B[39m]\n\u001B[1;32m---> 18\u001B[0m \u001B[43mscore_numbers_accuracy\u001B[49m\u001B[43m(\u001B[49m\u001B[43mvalid_data\u001B[49m\u001B[43m[\u001B[49m\u001B[38;5;124;43m\"\u001B[39;49m\u001B[38;5;124;43mgold_answers\u001B[39;49m\u001B[38;5;124;43m\"\u001B[39;49m\u001B[43m]\u001B[49m\u001B[43m[\u001B[49m\u001B[38;5;241;43m0\u001B[39;49m\u001B[43m]\u001B[49m\u001B[43m,\u001B[49m\u001B[43m \u001B[49m\u001B[43mvalid_data\u001B[49m\u001B[43m[\u001B[49m\u001B[38;5;124;43m\"\u001B[39;49m\u001B[38;5;124;43manswers\u001B[39;49m\u001B[38;5;124;43m\"\u001B[39;49m\u001B[43m]\u001B[49m\u001B[43m[\u001B[49m\u001B[38;5;241;43m0\u001B[39;49m\u001B[43m]\u001B[49m\u001B[43m)\u001B[49m\n",
      "Cell \u001B[1;32mIn[34], line 16\u001B[0m, in \u001B[0;36mscore_numbers_accuracy\u001B[1;34m(prediction, reference)\u001B[0m\n\u001B[0;32m     10\u001B[0m reference_numbers \u001B[38;5;241m=\u001B[39m \u001B[38;5;124m\"\u001B[39m\u001B[38;5;124m \u001B[39m\u001B[38;5;124m\"\u001B[39m\u001B[38;5;241m.\u001B[39mjoin([\u001B[38;5;28mstr\u001B[39m(\u001B[38;5;28mint\u001B[39m(\u001B[38;5;28mfloat\u001B[39m(num))) \u001B[38;5;28;01mfor\u001B[39;00m num \u001B[38;5;129;01min\u001B[39;00m reference\u001B[38;5;241m.\u001B[39msplit() \u001B[38;5;28;01mif\u001B[39;00m is_float(num)])\n\u001B[0;32m     12\u001B[0m rogue \u001B[38;5;241m=\u001B[39m rouge_scorer\u001B[38;5;241m.\u001B[39mRougeScorer(\n\u001B[0;32m     13\u001B[0m     [\u001B[38;5;124m'\u001B[39m\u001B[38;5;124mrouge1\u001B[39m\u001B[38;5;124m'\u001B[39m], \n\u001B[0;32m     14\u001B[0m     use_stemmer\u001B[38;5;241m=\u001B[39m\u001B[38;5;28;01mFalse\u001B[39;00m\n\u001B[0;32m     15\u001B[0m )\n\u001B[1;32m---> 16\u001B[0m \u001B[38;5;28;01mreturn\u001B[39;00m \u001B[43mrogue\u001B[49m\u001B[38;5;241;43m.\u001B[39;49m\u001B[43mscore\u001B[49m\u001B[43m(\u001B[49m\u001B[43mreference_numbers\u001B[49m\u001B[43m,\u001B[49m\u001B[43m \u001B[49m\u001B[43mprediction_numbers\u001B[49m\u001B[43m)\u001B[49m\u001B[43m[\u001B[49m\u001B[38;5;124;43m\"\u001B[39;49m\u001B[38;5;124;43mrogue1\u001B[39;49m\u001B[38;5;124;43m\"\u001B[39;49m\u001B[43m]\u001B[49m\n",
      "\u001B[1;31mKeyError\u001B[0m: 'rogue1'"
     ]
    }
   ],
   "source": [
    "def is_float(num: str):\n",
    "    try:\n",
    "        float(num)\n",
    "        return True\n",
    "    except ValueError as exc:\n",
    "        return False\n",
    "\n",
    "def score_numbers_accuracy(prediction, reference):\n",
    "    prediction_numbers = \" \".join([str(int(float(num))) for num in prediction.split() if is_float(num)])\n",
    "    reference_numbers = \" \".join([str(int(float(num))) for num in reference.split() if is_float(num)])\n",
    "    \n",
    "    rogue = rouge_scorer.RougeScorer(\n",
    "        ['rouge1'], \n",
    "        use_stemmer=False\n",
    "    )\n",
    "    return rogue.score(reference_numbers, prediction_numbers)[\"rouge1\"]\n",
    "\n",
    "score_numbers_accuracy(valid_data[\"gold_answers\"][0], valid_data[\"answers\"][0])"
   ],
   "metadata": {
    "collapsed": false,
    "ExecuteTime": {
     "end_time": "2024-12-13T19:54:49.359717Z",
     "start_time": "2024-12-13T19:54:49.336140Z"
    }
   },
   "id": "98faa3492e35c428",
   "execution_count": 34
  },
  {
   "cell_type": "markdown",
   "source": [
    "LLM:\n",
    "Варианты: \n",
    "1. Судья оценивает ответ по своим критериям, но видит эталонные.\n",
    "2. Судья по критериям оценивает схожесть ответа с эталонным (включая Accuracy)\n",
    "3. Online-судья, который оценивает все, кроме достоверности. Оценка достоверности должна быть на юзере и кореллировать с автоматическими\n",
    "\n",
    "Разметчики должны выставить нам оценки по его криетриям, чтобы мы замерили корреляцию\n"
   ],
   "metadata": {
    "collapsed": false
   },
   "id": "59e30277463489a5"
  },
  {
   "cell_type": "code",
   "outputs": [],
   "source": [
    "judge_prompt = \"\"\"\n",
    "Вы будете оценивать ответ финансового ассистента на вопрос пользователя, основываясь на следующих критериях. Для каждого критерия укажите свою оценку от 0 до 5 и предоставьте обоснование вашей оценки.\n",
    "\n",
    "### Входные данные:\n",
    "1. Вопрос пользователя: {question}\n",
    "2. Ответ ассистента: {answer}\n",
    "3. Верная информация: {gold_answer}\n",
    "\n",
    "### Критерии оценки:\n",
    "\n",
    "1. Правдивость:\n",
    "   - Оцените, насколько ответ ассистента соответствует действительности и не содержит вымышленных или неточных данных. Например, если ассистент указывает сумму расходов, она должна быть в пределах реального контекста. Используйте сравнение с верной информацией, переданной во входных данных.\n",
    "\n",
    "2. Помощь, полезность:\n",
    "   - Оцените, насколько ответ ассистента полезен для пользователя и может помочь в решении его задачи. Например, все советы должны быть практичными и легко реализуемыми.\n",
    "\n",
    "3. Калибровка:\n",
    "   - Оцените, как ассистент демонстрирует неуверенность в тех случаях, когда правильный ответ неизвестен. Если ассистент содержит рекомендации по дополнительным ресурсам или действиям в условиях неопределенности, это положительно скажется на оценке.\n",
    "\n",
    "4. Релевантность:\n",
    "   - Оцените, насколько ответ соответствует заданному вопросу и его контексту. Все советы должны быть релевантными и отражать фактическую ситуацию пользователя.\n",
    "\n",
    "5. Полнота:\n",
    "    - Оцените, насколько всесторонне ответ охватывает вопрос. Если вопрос не подразумевает развернутого ответа, а ответ является лаконичным, оценка полноты должна быть высокой\n",
    "\"\"\""
   ],
   "metadata": {
    "collapsed": false,
    "ExecuteTime": {
     "end_time": "2024-12-13T14:13:52.070538Z",
     "start_time": "2024-12-13T14:13:52.066193Z"
    }
   },
   "id": "4d294028d5c211e7",
   "execution_count": 71
  },
  {
   "cell_type": "code",
   "outputs": [],
   "source": [
    "from dotenv import load_dotenv\n",
    "load_dotenv()\n",
    "\n",
    "from  pydantic import BaseModel\n",
    "from typing import Annotated\n",
    "from langchain_openai import ChatOpenAI\n",
    "from langchain.prompts import ChatPromptTemplate\n",
    "\n",
    "class CriterionSchema(BaseModel):\n",
    "    mark: Annotated[int, \"Оценка ответа судьей - единственное число\"]\n",
    "    reasoning: Annotated[str, \"Обоснование, по которому выставлена именно такая оценка\"]\n",
    "    \n",
    "class JudgeSchema(BaseModel):\n",
    "    accuracy: Annotated[CriterionSchema, \"Точная оценка правдивости\"]\n",
    "    usefulness: Annotated[CriterionSchema, \"Точная оценка полезности\"]\n",
    "    calibration: Annotated[CriterionSchema, \"Точная оценка калибровки\"]\n",
    "    relevance: Annotated[CriterionSchema, \"Точная оценка релевантности\"]\n",
    "    recall: Annotated[CriterionSchema, \"Точная оценка полноты\"]\n",
    "    \n",
    "llm = ChatPromptTemplate.from_template(judge_prompt) | ChatOpenAI(model=\"gpt-4o-mini\").with_structured_output(JudgeSchema)"
   ],
   "metadata": {
    "collapsed": false,
    "ExecuteTime": {
     "end_time": "2024-12-13T14:22:30.756749Z",
     "start_time": "2024-12-13T14:22:30.372746Z"
    }
   },
   "id": "bcf5c256cce30127",
   "execution_count": 78
  },
  {
   "cell_type": "code",
   "outputs": [
    {
     "name": "stdout",
     "output_type": "stream",
     "text": [
      "accuracy=CriterionSchema(mark=2, reasoning='Ответ ассистента не содержит точной информации о дате платежа, что является ключевым аспектом вопроса пользователя. Ассистент признает, что у него нет точной информации, что снижает точность ответа.') usefulness=CriterionSchema(mark=4, reasoning='Ответ содержит полезные рекомендации о том, как узнать информацию о платеже, что может помочь пользователю в решении его задачи.') calibration=CriterionSchema(mark=5, reasoning='Ассистент адекватно демонстрирует неуверенность, указывая на отсутствие точной информации и предлагая альтернативные способы получения необходимых данных.') relevance=CriterionSchema(mark=4, reasoning='Ответ в целом соответствует вопросу, предлагая советы, которые могут помочь пользователю, хотя и не дает конкретного ответа на заданный вопрос.') recall=CriterionSchema(mark=1, reasoning='Ассистент не сумел предоставить ответ на вопрос о конкретной дате платежа, что является ключевым моментом.')\n",
      "accuracy=CriterionSchema(mark=2, reasoning='Ответ ассистента не соответствует действительности, так как он не предоставляет информацию о последней покупке, которая произошла 25 марта.') usefulness=CriterionSchema(mark=3, reasoning='Ответ частично полезен, так как он предлагает проверить чеки или банковские выписки, но не предоставляет конкретной информации о последней покупке.') calibration=CriterionSchema(mark=4, reasoning='Ассистент демонстрирует неуверенность, но предоставляет разумные рекомендации по проверке других источников.') relevance=CriterionSchema(mark=3, reasoning='Ответ в целом релевантен, но не отвечает на основной вопрос о дате последней покупки.') recall=CriterionSchema(mark=2, reasoning='Ответ не позволяет пользователю восстановить информацию о последней покупке, так как не предоставляет конкретной даты.')\n"
     ]
    }
   ],
   "source": [
    "# for i in range(2):\n",
    "#     question = valid_data[\"questions\"][i]\n",
    "#     answer = valid_data[\"answers\"][i]\n",
    "#     gold_answer = valid_data[\"gold_answers\"][i]\n",
    "# \n",
    "#     print(llm.invoke({\n",
    "#         \"question\": question,\n",
    "#         \"answer\": answer,\n",
    "#         \"gold_answer\": gold_answer\n",
    "#     }))"
   ],
   "metadata": {
    "collapsed": false
   },
   "id": "c3cb49e175fc9ac5",
   "execution_count": 79
  },
  {
   "cell_type": "markdown",
   "source": [
    "1. NER метрика\n",
    "2. Судья - все, кроме точности Accuracy\n",
    "3. Визализации и новы йрпогон"
   ],
   "metadata": {
    "collapsed": false
   },
   "id": "9c2906b89aeaa3eb"
  },
  {
   "cell_type": "code",
   "outputs": [
    {
     "data": {
      "text/plain": "tokenizer_config.json:   0%|          | 0.00/24.0 [00:00<?, ?B/s]",
      "application/vnd.jupyter.widget-view+json": {
       "version_major": 2,
       "version_minor": 0,
       "model_id": "c4269f2da4094d669b784ca27460aca4"
      }
     },
     "metadata": {},
     "output_type": "display_data"
    },
    {
     "data": {
      "text/plain": "vocab.txt:   0%|          | 0.00/1.65M [00:00<?, ?B/s]",
      "application/vnd.jupyter.widget-view+json": {
       "version_major": 2,
       "version_minor": 0,
       "model_id": "36a4447fa8d9414f98216d4620e2e60c"
      }
     },
     "metadata": {},
     "output_type": "display_data"
    },
    {
     "data": {
      "text/plain": "special_tokens_map.json:   0%|          | 0.00/112 [00:00<?, ?B/s]",
      "application/vnd.jupyter.widget-view+json": {
       "version_major": 2,
       "version_minor": 0,
       "model_id": "8c86687414bd4b5b97904652c7a36318"
      }
     },
     "metadata": {},
     "output_type": "display_data"
    },
    {
     "name": "stderr",
     "output_type": "stream",
     "text": [
      "Some weights of BertForTokenClassification were not initialized from the model checkpoint at DeepPavlov/rubert-base-cased and are newly initialized: ['classifier.bias', 'classifier.weight']\n",
      "You should probably TRAIN this model on a down-stream task to be able to use it for predictions and inference.\n",
      "Device set to use cpu\n"
     ]
    }
   ],
   "source": [
    "from dotenv import load_dotenv\n",
    "load_dotenv()\n",
    "\n",
    "from transformers import AutoTokenizer, AutoModelForTokenClassification\n",
    "from transformers import pipeline\n",
    "import torch\n",
    "import os\n",
    "\n",
    "# Загрузите модель DeepPavlov для NER из Hugging Face\n",
    "model_name = \"DeepPavlov/rubert-base-cased\"\n",
    "\n",
    "tokenizer = AutoTokenizer.from_pretrained(model_name)\n",
    "model = AutoModelForTokenClassification.from_pretrained(model_name)\n",
    "\n",
    "# Создание пайплайна для NER\n",
    "ner_pipeline = pipeline(\"ner\", model=model, tokenizer=tokenizer)"
   ],
   "metadata": {
    "collapsed": false,
    "ExecuteTime": {
     "end_time": "2024-12-14T08:10:27.219683Z",
     "start_time": "2024-12-14T08:10:22.260887Z"
    }
   },
   "id": "a83f57ffe5c2a611",
   "execution_count": 11
  },
  {
   "cell_type": "code",
   "outputs": [
    {
     "name": "stdout",
     "output_type": "stream",
     "text": [
      "('CARDINAL', 'DATE', 'EVENT', 'FAC', 'GPE', 'LANGUAGE', 'LAW', 'LOC', 'MONEY', 'NORP', 'ORDINAL', 'ORG', 'PERCENT', 'PERSON', 'PRODUCT', 'QUANTITY', 'TIME', 'WORK_OF_ART')\n"
     ]
    }
   ],
   "source": [
    "import spacy\n",
    "\n",
    "ner = spacy.load(\"en_core_web_lg\")  # или \"en_core_web_lg\" или \"en_core_web_trf\"\n",
    "print(ner.get_pipe(\"ner\").labels)\n",
    "\n",
    "text = \"Apple is looking at buying U.K. startup for $1 billion at 23/03/2024\"\n",
    "doc = ner(text)\n",
    "\n",
    "# Выводим найденные сущности\n"
   ],
   "metadata": {
    "collapsed": false,
    "ExecuteTime": {
     "end_time": "2024-12-14T08:35:18.880518Z",
     "start_time": "2024-12-14T08:35:14.699259Z"
    }
   },
   "id": "939b9b5ef4420032",
   "execution_count": 28
  },
  {
   "cell_type": "code",
   "outputs": [
    {
     "name": "stdout",
     "output_type": "stream",
     "text": [
      "Apple ORG\n",
      "U.K. GPE\n",
      "$1 billion MONEY\n",
      "23/03/2024 DATE\n"
     ]
    }
   ],
   "source": [
    "for ent in doc.ents:\n",
    "    print(ent.text, ent.label_)"
   ],
   "metadata": {
    "collapsed": false,
    "ExecuteTime": {
     "end_time": "2024-12-14T08:35:25.537789Z",
     "start_time": "2024-12-14T08:35:25.530728Z"
    }
   },
   "id": "a10fc62f94e1a8ae",
   "execution_count": 30
  },
  {
   "cell_type": "code",
   "outputs": [
    {
     "name": "stdout",
     "output_type": "stream",
     "text": [
      "{'DATE': [], 'EVENT': [], 'MONEY': ['9420 rubles'], 'TIME': []} {'DATE': ['2024', '2024'], 'EVENT': [], 'MONEY': [], 'TIME': []}\n",
      "0.0\n",
      "0.0\n",
      "0.0\n"
     ]
    }
   ],
   "source": [
    "from deep_translator import GoogleTranslator\n",
    "from rouge_score import rouge_scorer\n",
    "\n",
    "def ner_accuracy(gold_answer: str, answer: str):\n",
    "    translator = GoogleTranslator(source=\"ru\", target=\"en\")\n",
    "    \n",
    "    gold_answer = translator.translate(gold_answer)\n",
    "    answer = translator.translate(answer)\n",
    "    \n",
    "    target_ents = [\"DATE\", \"EVENT\", \"MONEY\", \"TIME\"]\n",
    "    \n",
    "    gold_answer_by_ents = {ent_name: [] for ent_name in target_ents}\n",
    "    answer_by_ents = {ent_name: [] for ent_name in target_ents}\n",
    "    \n",
    "    for ent in ner(gold_answer).ents:\n",
    "        if ent.label_ in target_ents:\n",
    "            gold_answer_by_ents[ent.label_].append(ent.text)\n",
    "    \n",
    "    for ent in ner(answer).ents:\n",
    "        if ent.label_ in target_ents:\n",
    "            answer_by_ents[ent.label_].append(ent.text)\n",
    "                \n",
    "    rouge = rouge_scorer.RougeScorer([\"rouge1\"], use_stemmer=False)\n",
    "    \n",
    "    gold_answer_by_ents = {key: \" \".join(list(set(value))) for key, value in gold_answer_by_ents.items()}\n",
    "    answer_by_ents = {key: \" \".join(list(set(value))) for key, value in answer_by_ents.items()}\n",
    "    \n",
    "    precision = 0\n",
    "    recall = 0\n",
    "    f1 = 0\n",
    "    for ent in target_ents:   \n",
    "        res = rouge.score(target=gold_answer_by_ents[ent], prediction=answer_by_ents[ent])[\"rouge1\"]\n",
    "        \n",
    "        precision += res.precision\n",
    "        recall += res.recall\n",
    "        f1 += res.fmeasure\n",
    "        \n",
    "    print(precision / len(target_ents))\n",
    "    print(recall / len(target_ents))\n",
    "    print(f1 / len(target_ents))\n",
    "    \n",
    "valid_data = pd.read_csv(\"valid_set.csv\")\n",
    "ner_accuracy(valid_data[\"gold_answers\"][0], valid_data[\"answers\"][0])           "
   ],
   "metadata": {
    "collapsed": false,
    "ExecuteTime": {
     "end_time": "2024-12-14T08:56:00.306662Z",
     "start_time": "2024-12-14T08:55:59.480956Z"
    }
   },
   "id": "f31bf4dc31ed5c1d",
   "execution_count": 46
  },
  {
   "cell_type": "code",
   "outputs": [
    {
     "name": "stdout",
     "output_type": "stream",
     "text": [
      "{'DATE': [], 'EVENT': [], 'MONEY': ['9420 rubles'], 'TIME': []} {'DATE': ['2024', '2024'], 'EVENT': [], 'MONEY': [], 'TIME': []}\n",
      "0.0\n",
      "0.0\n",
      "0.0\n",
      "{'DATE': ['2024'], 'EVENT': [], 'MONEY': ['2664 rubles'], 'TIME': []} {'DATE': ['2024'], 'EVENT': [], 'MONEY': ['2664 rubles'], 'TIME': []}\n",
      "0.5\n",
      "0.5\n",
      "0.5\n",
      "{'DATE': [], 'EVENT': [], 'MONEY': [], 'TIME': []} {'DATE': ['December 8, 2024'], 'EVENT': [], 'MONEY': [], 'TIME': []}\n",
      "0.0\n",
      "0.0\n",
      "0.0\n",
      "{'DATE': [], 'EVENT': [], 'MONEY': [], 'TIME': []} {'DATE': ['2024-12-10'], 'EVENT': [], 'MONEY': ['12345'], 'TIME': []}\n",
      "0.0\n",
      "0.0\n",
      "0.0\n",
      "{'DATE': [], 'EVENT': [], 'MONEY': ['290 rubles'], 'TIME': []} {'DATE': ['June 3, 2024'], 'EVENT': [], 'MONEY': ['290 rubles'], 'TIME': []}\n",
      "0.25\n",
      "0.25\n",
      "0.25\n",
      "{'DATE': [], 'EVENT': [], 'MONEY': ['10,000 rubles'], 'TIME': []} {'DATE': ['December 8, 2024'], 'EVENT': [], 'MONEY': [], 'TIME': []}\n",
      "0.0\n",
      "0.0\n",
      "0.0\n",
      "{'DATE': ['October 29'], 'EVENT': [], 'MONEY': [], 'TIME': []} {'DATE': ['December 4, 2024', '11:23:29'], 'EVENT': [], 'MONEY': [], 'TIME': []}\n",
      "0.041666666666666664\n",
      "0.125\n",
      "0.0625\n",
      "{'DATE': ['June 12, 2024'], 'EVENT': [], 'MONEY': [], 'TIME': []} {'DATE': ['July 12, 2024'], 'EVENT': [], 'MONEY': [], 'TIME': []}\n",
      "0.16666666666666666\n",
      "0.16666666666666666\n",
      "0.16666666666666666\n",
      "{'DATE': ['September'], 'EVENT': [], 'MONEY': ['264985 rubles'], 'TIME': []} {'DATE': ['September', 'this month'], 'EVENT': [], 'MONEY': [], 'TIME': []}\n",
      "0.08333333333333333\n",
      "0.25\n",
      "0.125\n",
      "{'DATE': ['December 8, 2024'], 'EVENT': [], 'MONEY': ['10,000 rubles'], 'TIME': []} {'DATE': ['December 8, 2024'], 'EVENT': [], 'MONEY': [], 'TIME': []}\n",
      "0.25\n",
      "0.25\n",
      "0.25\n"
     ]
    },
    {
     "ename": "KeyboardInterrupt",
     "evalue": "",
     "output_type": "error",
     "traceback": [
      "\u001B[1;31m---------------------------------------------------------------------------\u001B[0m",
      "\u001B[1;31mKeyboardInterrupt\u001B[0m                         Traceback (most recent call last)",
      "Cell \u001B[1;32mIn[48], line 9\u001B[0m\n\u001B[0;32m      6\u001B[0m     data_with_metric[\u001B[38;5;124m\"\u001B[39m\u001B[38;5;124mner_acc\u001B[39m\u001B[38;5;124m\"\u001B[39m] \u001B[38;5;241m=\u001B[39m ner_acc\n\u001B[0;32m      7\u001B[0m     \u001B[38;5;28;01mreturn\u001B[39;00m data_with_metric\n\u001B[1;32m----> 9\u001B[0m \u001B[43mcalc_ner_accuracy\u001B[49m\u001B[43m(\u001B[49m\u001B[43mvalid_data\u001B[49m\u001B[43m)\u001B[49m\n",
      "Cell \u001B[1;32mIn[48], line 4\u001B[0m, in \u001B[0;36mcalc_ner_accuracy\u001B[1;34m(data)\u001B[0m\n\u001B[0;32m      2\u001B[0m ner_acc \u001B[38;5;241m=\u001B[39m []\n\u001B[0;32m      3\u001B[0m \u001B[38;5;28;01mfor\u001B[39;00m i \u001B[38;5;129;01min\u001B[39;00m \u001B[38;5;28mrange\u001B[39m(\u001B[38;5;28mlen\u001B[39m(data)):\n\u001B[1;32m----> 4\u001B[0m     ner_acc\u001B[38;5;241m.\u001B[39mappend(\u001B[43mner_accuracy\u001B[49m\u001B[43m(\u001B[49m\u001B[43mdata\u001B[49m\u001B[43m[\u001B[49m\u001B[38;5;124;43m\"\u001B[39;49m\u001B[38;5;124;43mgold_answers\u001B[39;49m\u001B[38;5;124;43m\"\u001B[39;49m\u001B[43m]\u001B[49m\u001B[43m[\u001B[49m\u001B[43mi\u001B[49m\u001B[43m]\u001B[49m\u001B[43m,\u001B[49m\u001B[43m \u001B[49m\u001B[43mdata\u001B[49m\u001B[43m[\u001B[49m\u001B[38;5;124;43m\"\u001B[39;49m\u001B[38;5;124;43manswers\u001B[39;49m\u001B[38;5;124;43m\"\u001B[39;49m\u001B[43m]\u001B[49m\u001B[43m[\u001B[49m\u001B[43mi\u001B[49m\u001B[43m]\u001B[49m\u001B[43m)\u001B[49m)\n\u001B[0;32m      5\u001B[0m data_with_metric \u001B[38;5;241m=\u001B[39m data\u001B[38;5;241m.\u001B[39mcopy()\n\u001B[0;32m      6\u001B[0m data_with_metric[\u001B[38;5;124m\"\u001B[39m\u001B[38;5;124mner_acc\u001B[39m\u001B[38;5;124m\"\u001B[39m] \u001B[38;5;241m=\u001B[39m ner_acc\n",
      "Cell \u001B[1;32mIn[46], line 8\u001B[0m, in \u001B[0;36mner_accuracy\u001B[1;34m(gold_answer, answer)\u001B[0m\n\u001B[0;32m      5\u001B[0m translator \u001B[38;5;241m=\u001B[39m GoogleTranslator(source\u001B[38;5;241m=\u001B[39m\u001B[38;5;124m\"\u001B[39m\u001B[38;5;124mru\u001B[39m\u001B[38;5;124m\"\u001B[39m, target\u001B[38;5;241m=\u001B[39m\u001B[38;5;124m\"\u001B[39m\u001B[38;5;124men\u001B[39m\u001B[38;5;124m\"\u001B[39m)\n\u001B[0;32m      7\u001B[0m gold_answer \u001B[38;5;241m=\u001B[39m translator\u001B[38;5;241m.\u001B[39mtranslate(gold_answer)\n\u001B[1;32m----> 8\u001B[0m answer \u001B[38;5;241m=\u001B[39m \u001B[43mtranslator\u001B[49m\u001B[38;5;241;43m.\u001B[39;49m\u001B[43mtranslate\u001B[49m\u001B[43m(\u001B[49m\u001B[43manswer\u001B[49m\u001B[43m)\u001B[49m\n\u001B[0;32m     10\u001B[0m target_ents \u001B[38;5;241m=\u001B[39m [\u001B[38;5;124m\"\u001B[39m\u001B[38;5;124mDATE\u001B[39m\u001B[38;5;124m\"\u001B[39m, \u001B[38;5;124m\"\u001B[39m\u001B[38;5;124mEVENT\u001B[39m\u001B[38;5;124m\"\u001B[39m, \u001B[38;5;124m\"\u001B[39m\u001B[38;5;124mMONEY\u001B[39m\u001B[38;5;124m\"\u001B[39m, \u001B[38;5;124m\"\u001B[39m\u001B[38;5;124mTIME\u001B[39m\u001B[38;5;124m\"\u001B[39m]\n\u001B[0;32m     12\u001B[0m gold_answer_by_ents \u001B[38;5;241m=\u001B[39m {ent_name: [] \u001B[38;5;28;01mfor\u001B[39;00m ent_name \u001B[38;5;129;01min\u001B[39;00m target_ents}\n",
      "File \u001B[1;32m~\\IT Products\\SiriusFinAssist\\.venv\\Lib\\site-packages\\deep_translator\\google.py:67\u001B[0m, in \u001B[0;36mGoogleTranslator.translate\u001B[1;34m(self, text, **kwargs)\u001B[0m\n\u001B[0;32m     64\u001B[0m \u001B[38;5;28;01mif\u001B[39;00m \u001B[38;5;28mself\u001B[39m\u001B[38;5;241m.\u001B[39mpayload_key:\n\u001B[0;32m     65\u001B[0m     \u001B[38;5;28mself\u001B[39m\u001B[38;5;241m.\u001B[39m_url_params[\u001B[38;5;28mself\u001B[39m\u001B[38;5;241m.\u001B[39mpayload_key] \u001B[38;5;241m=\u001B[39m text\n\u001B[1;32m---> 67\u001B[0m response \u001B[38;5;241m=\u001B[39m \u001B[43mrequests\u001B[49m\u001B[38;5;241;43m.\u001B[39;49m\u001B[43mget\u001B[49m\u001B[43m(\u001B[49m\n\u001B[0;32m     68\u001B[0m \u001B[43m    \u001B[49m\u001B[38;5;28;43mself\u001B[39;49m\u001B[38;5;241;43m.\u001B[39;49m\u001B[43m_base_url\u001B[49m\u001B[43m,\u001B[49m\u001B[43m \u001B[49m\u001B[43mparams\u001B[49m\u001B[38;5;241;43m=\u001B[39;49m\u001B[38;5;28;43mself\u001B[39;49m\u001B[38;5;241;43m.\u001B[39;49m\u001B[43m_url_params\u001B[49m\u001B[43m,\u001B[49m\u001B[43m \u001B[49m\u001B[43mproxies\u001B[49m\u001B[38;5;241;43m=\u001B[39;49m\u001B[38;5;28;43mself\u001B[39;49m\u001B[38;5;241;43m.\u001B[39;49m\u001B[43mproxies\u001B[49m\n\u001B[0;32m     69\u001B[0m \u001B[43m\u001B[49m\u001B[43m)\u001B[49m\n\u001B[0;32m     70\u001B[0m \u001B[38;5;28;01mif\u001B[39;00m response\u001B[38;5;241m.\u001B[39mstatus_code \u001B[38;5;241m==\u001B[39m \u001B[38;5;241m429\u001B[39m:\n\u001B[0;32m     71\u001B[0m     \u001B[38;5;28;01mraise\u001B[39;00m TooManyRequests()\n",
      "File \u001B[1;32m~\\IT Products\\SiriusFinAssist\\.venv\\Lib\\site-packages\\requests\\api.py:73\u001B[0m, in \u001B[0;36mget\u001B[1;34m(url, params, **kwargs)\u001B[0m\n\u001B[0;32m     62\u001B[0m \u001B[38;5;28;01mdef\u001B[39;00m \u001B[38;5;21mget\u001B[39m(url, params\u001B[38;5;241m=\u001B[39m\u001B[38;5;28;01mNone\u001B[39;00m, \u001B[38;5;241m*\u001B[39m\u001B[38;5;241m*\u001B[39mkwargs):\n\u001B[0;32m     63\u001B[0m \u001B[38;5;250m    \u001B[39m\u001B[38;5;124mr\u001B[39m\u001B[38;5;124;03m\"\"\"Sends a GET request.\u001B[39;00m\n\u001B[0;32m     64\u001B[0m \n\u001B[0;32m     65\u001B[0m \u001B[38;5;124;03m    :param url: URL for the new :class:`Request` object.\u001B[39;00m\n\u001B[1;32m   (...)\u001B[0m\n\u001B[0;32m     70\u001B[0m \u001B[38;5;124;03m    :rtype: requests.Response\u001B[39;00m\n\u001B[0;32m     71\u001B[0m \u001B[38;5;124;03m    \"\"\"\u001B[39;00m\n\u001B[1;32m---> 73\u001B[0m     \u001B[38;5;28;01mreturn\u001B[39;00m \u001B[43mrequest\u001B[49m\u001B[43m(\u001B[49m\u001B[38;5;124;43m\"\u001B[39;49m\u001B[38;5;124;43mget\u001B[39;49m\u001B[38;5;124;43m\"\u001B[39;49m\u001B[43m,\u001B[49m\u001B[43m \u001B[49m\u001B[43murl\u001B[49m\u001B[43m,\u001B[49m\u001B[43m \u001B[49m\u001B[43mparams\u001B[49m\u001B[38;5;241;43m=\u001B[39;49m\u001B[43mparams\u001B[49m\u001B[43m,\u001B[49m\u001B[43m \u001B[49m\u001B[38;5;241;43m*\u001B[39;49m\u001B[38;5;241;43m*\u001B[39;49m\u001B[43mkwargs\u001B[49m\u001B[43m)\u001B[49m\n",
      "File \u001B[1;32m~\\IT Products\\SiriusFinAssist\\.venv\\Lib\\site-packages\\requests\\api.py:59\u001B[0m, in \u001B[0;36mrequest\u001B[1;34m(method, url, **kwargs)\u001B[0m\n\u001B[0;32m     55\u001B[0m \u001B[38;5;66;03m# By using the 'with' statement we are sure the session is closed, thus we\u001B[39;00m\n\u001B[0;32m     56\u001B[0m \u001B[38;5;66;03m# avoid leaving sockets open which can trigger a ResourceWarning in some\u001B[39;00m\n\u001B[0;32m     57\u001B[0m \u001B[38;5;66;03m# cases, and look like a memory leak in others.\u001B[39;00m\n\u001B[0;32m     58\u001B[0m \u001B[38;5;28;01mwith\u001B[39;00m sessions\u001B[38;5;241m.\u001B[39mSession() \u001B[38;5;28;01mas\u001B[39;00m session:\n\u001B[1;32m---> 59\u001B[0m     \u001B[38;5;28;01mreturn\u001B[39;00m \u001B[43msession\u001B[49m\u001B[38;5;241;43m.\u001B[39;49m\u001B[43mrequest\u001B[49m\u001B[43m(\u001B[49m\u001B[43mmethod\u001B[49m\u001B[38;5;241;43m=\u001B[39;49m\u001B[43mmethod\u001B[49m\u001B[43m,\u001B[49m\u001B[43m \u001B[49m\u001B[43murl\u001B[49m\u001B[38;5;241;43m=\u001B[39;49m\u001B[43murl\u001B[49m\u001B[43m,\u001B[49m\u001B[43m \u001B[49m\u001B[38;5;241;43m*\u001B[39;49m\u001B[38;5;241;43m*\u001B[39;49m\u001B[43mkwargs\u001B[49m\u001B[43m)\u001B[49m\n",
      "File \u001B[1;32m~\\IT Products\\SiriusFinAssist\\.venv\\Lib\\site-packages\\requests\\sessions.py:589\u001B[0m, in \u001B[0;36mSession.request\u001B[1;34m(self, method, url, params, data, headers, cookies, files, auth, timeout, allow_redirects, proxies, hooks, stream, verify, cert, json)\u001B[0m\n\u001B[0;32m    584\u001B[0m send_kwargs \u001B[38;5;241m=\u001B[39m {\n\u001B[0;32m    585\u001B[0m     \u001B[38;5;124m\"\u001B[39m\u001B[38;5;124mtimeout\u001B[39m\u001B[38;5;124m\"\u001B[39m: timeout,\n\u001B[0;32m    586\u001B[0m     \u001B[38;5;124m\"\u001B[39m\u001B[38;5;124mallow_redirects\u001B[39m\u001B[38;5;124m\"\u001B[39m: allow_redirects,\n\u001B[0;32m    587\u001B[0m }\n\u001B[0;32m    588\u001B[0m send_kwargs\u001B[38;5;241m.\u001B[39mupdate(settings)\n\u001B[1;32m--> 589\u001B[0m resp \u001B[38;5;241m=\u001B[39m \u001B[38;5;28;43mself\u001B[39;49m\u001B[38;5;241;43m.\u001B[39;49m\u001B[43msend\u001B[49m\u001B[43m(\u001B[49m\u001B[43mprep\u001B[49m\u001B[43m,\u001B[49m\u001B[43m \u001B[49m\u001B[38;5;241;43m*\u001B[39;49m\u001B[38;5;241;43m*\u001B[39;49m\u001B[43msend_kwargs\u001B[49m\u001B[43m)\u001B[49m\n\u001B[0;32m    591\u001B[0m \u001B[38;5;28;01mreturn\u001B[39;00m resp\n",
      "File \u001B[1;32m~\\IT Products\\SiriusFinAssist\\.venv\\Lib\\site-packages\\requests\\sessions.py:746\u001B[0m, in \u001B[0;36mSession.send\u001B[1;34m(self, request, **kwargs)\u001B[0m\n\u001B[0;32m    743\u001B[0m         \u001B[38;5;28;01mpass\u001B[39;00m\n\u001B[0;32m    745\u001B[0m \u001B[38;5;28;01mif\u001B[39;00m \u001B[38;5;129;01mnot\u001B[39;00m stream:\n\u001B[1;32m--> 746\u001B[0m     \u001B[43mr\u001B[49m\u001B[38;5;241;43m.\u001B[39;49m\u001B[43mcontent\u001B[49m\n\u001B[0;32m    748\u001B[0m \u001B[38;5;28;01mreturn\u001B[39;00m r\n",
      "File \u001B[1;32m~\\IT Products\\SiriusFinAssist\\.venv\\Lib\\site-packages\\requests\\models.py:902\u001B[0m, in \u001B[0;36mResponse.content\u001B[1;34m(self)\u001B[0m\n\u001B[0;32m    900\u001B[0m         \u001B[38;5;28mself\u001B[39m\u001B[38;5;241m.\u001B[39m_content \u001B[38;5;241m=\u001B[39m \u001B[38;5;28;01mNone\u001B[39;00m\n\u001B[0;32m    901\u001B[0m     \u001B[38;5;28;01melse\u001B[39;00m:\n\u001B[1;32m--> 902\u001B[0m         \u001B[38;5;28mself\u001B[39m\u001B[38;5;241m.\u001B[39m_content \u001B[38;5;241m=\u001B[39m \u001B[38;5;124;43mb\u001B[39;49m\u001B[38;5;124;43m\"\u001B[39;49m\u001B[38;5;124;43m\"\u001B[39;49m\u001B[38;5;241;43m.\u001B[39;49m\u001B[43mjoin\u001B[49m\u001B[43m(\u001B[49m\u001B[38;5;28;43mself\u001B[39;49m\u001B[38;5;241;43m.\u001B[39;49m\u001B[43miter_content\u001B[49m\u001B[43m(\u001B[49m\u001B[43mCONTENT_CHUNK_SIZE\u001B[49m\u001B[43m)\u001B[49m\u001B[43m)\u001B[49m \u001B[38;5;129;01mor\u001B[39;00m \u001B[38;5;124mb\u001B[39m\u001B[38;5;124m\"\u001B[39m\u001B[38;5;124m\"\u001B[39m\n\u001B[0;32m    904\u001B[0m \u001B[38;5;28mself\u001B[39m\u001B[38;5;241m.\u001B[39m_content_consumed \u001B[38;5;241m=\u001B[39m \u001B[38;5;28;01mTrue\u001B[39;00m\n\u001B[0;32m    905\u001B[0m \u001B[38;5;66;03m# don't need to release the connection; that's been handled by urllib3\u001B[39;00m\n\u001B[0;32m    906\u001B[0m \u001B[38;5;66;03m# since we exhausted the data.\u001B[39;00m\n",
      "File \u001B[1;32m~\\IT Products\\SiriusFinAssist\\.venv\\Lib\\site-packages\\requests\\models.py:820\u001B[0m, in \u001B[0;36mResponse.iter_content.<locals>.generate\u001B[1;34m()\u001B[0m\n\u001B[0;32m    818\u001B[0m \u001B[38;5;28;01mif\u001B[39;00m \u001B[38;5;28mhasattr\u001B[39m(\u001B[38;5;28mself\u001B[39m\u001B[38;5;241m.\u001B[39mraw, \u001B[38;5;124m\"\u001B[39m\u001B[38;5;124mstream\u001B[39m\u001B[38;5;124m\"\u001B[39m):\n\u001B[0;32m    819\u001B[0m     \u001B[38;5;28;01mtry\u001B[39;00m:\n\u001B[1;32m--> 820\u001B[0m         \u001B[38;5;28;01myield from\u001B[39;00m \u001B[38;5;28mself\u001B[39m\u001B[38;5;241m.\u001B[39mraw\u001B[38;5;241m.\u001B[39mstream(chunk_size, decode_content\u001B[38;5;241m=\u001B[39m\u001B[38;5;28;01mTrue\u001B[39;00m)\n\u001B[0;32m    821\u001B[0m     \u001B[38;5;28;01mexcept\u001B[39;00m ProtocolError \u001B[38;5;28;01mas\u001B[39;00m e:\n\u001B[0;32m    822\u001B[0m         \u001B[38;5;28;01mraise\u001B[39;00m ChunkedEncodingError(e)\n",
      "File \u001B[1;32m~\\IT Products\\SiriusFinAssist\\.venv\\Lib\\site-packages\\urllib3\\response.py:1057\u001B[0m, in \u001B[0;36mHTTPResponse.stream\u001B[1;34m(self, amt, decode_content)\u001B[0m\n\u001B[0;32m   1041\u001B[0m \u001B[38;5;250m\u001B[39m\u001B[38;5;124;03m\"\"\"\u001B[39;00m\n\u001B[0;32m   1042\u001B[0m \u001B[38;5;124;03mA generator wrapper for the read() method. A call will block until\u001B[39;00m\n\u001B[0;32m   1043\u001B[0m \u001B[38;5;124;03m``amt`` bytes have been read from the connection or until the\u001B[39;00m\n\u001B[1;32m   (...)\u001B[0m\n\u001B[0;32m   1054\u001B[0m \u001B[38;5;124;03m    'content-encoding' header.\u001B[39;00m\n\u001B[0;32m   1055\u001B[0m \u001B[38;5;124;03m\"\"\"\u001B[39;00m\n\u001B[0;32m   1056\u001B[0m \u001B[38;5;28;01mif\u001B[39;00m \u001B[38;5;28mself\u001B[39m\u001B[38;5;241m.\u001B[39mchunked \u001B[38;5;129;01mand\u001B[39;00m \u001B[38;5;28mself\u001B[39m\u001B[38;5;241m.\u001B[39msupports_chunked_reads():\n\u001B[1;32m-> 1057\u001B[0m     \u001B[38;5;28;01myield from\u001B[39;00m \u001B[38;5;28mself\u001B[39m\u001B[38;5;241m.\u001B[39mread_chunked(amt, decode_content\u001B[38;5;241m=\u001B[39mdecode_content)\n\u001B[0;32m   1058\u001B[0m \u001B[38;5;28;01melse\u001B[39;00m:\n\u001B[0;32m   1059\u001B[0m     \u001B[38;5;28;01mwhile\u001B[39;00m \u001B[38;5;129;01mnot\u001B[39;00m is_fp_closed(\u001B[38;5;28mself\u001B[39m\u001B[38;5;241m.\u001B[39m_fp) \u001B[38;5;129;01mor\u001B[39;00m \u001B[38;5;28mlen\u001B[39m(\u001B[38;5;28mself\u001B[39m\u001B[38;5;241m.\u001B[39m_decoded_buffer) \u001B[38;5;241m>\u001B[39m \u001B[38;5;241m0\u001B[39m:\n",
      "File \u001B[1;32m~\\IT Products\\SiriusFinAssist\\.venv\\Lib\\site-packages\\urllib3\\response.py:1206\u001B[0m, in \u001B[0;36mHTTPResponse.read_chunked\u001B[1;34m(self, amt, decode_content)\u001B[0m\n\u001B[0;32m   1203\u001B[0m     amt \u001B[38;5;241m=\u001B[39m \u001B[38;5;28;01mNone\u001B[39;00m\n\u001B[0;32m   1205\u001B[0m \u001B[38;5;28;01mwhile\u001B[39;00m \u001B[38;5;28;01mTrue\u001B[39;00m:\n\u001B[1;32m-> 1206\u001B[0m     \u001B[38;5;28;43mself\u001B[39;49m\u001B[38;5;241;43m.\u001B[39;49m\u001B[43m_update_chunk_length\u001B[49m\u001B[43m(\u001B[49m\u001B[43m)\u001B[49m\n\u001B[0;32m   1207\u001B[0m     \u001B[38;5;28;01mif\u001B[39;00m \u001B[38;5;28mself\u001B[39m\u001B[38;5;241m.\u001B[39mchunk_left \u001B[38;5;241m==\u001B[39m \u001B[38;5;241m0\u001B[39m:\n\u001B[0;32m   1208\u001B[0m         \u001B[38;5;28;01mbreak\u001B[39;00m\n",
      "File \u001B[1;32m~\\IT Products\\SiriusFinAssist\\.venv\\Lib\\site-packages\\urllib3\\response.py:1125\u001B[0m, in \u001B[0;36mHTTPResponse._update_chunk_length\u001B[1;34m(self)\u001B[0m\n\u001B[0;32m   1123\u001B[0m \u001B[38;5;28;01mif\u001B[39;00m \u001B[38;5;28mself\u001B[39m\u001B[38;5;241m.\u001B[39mchunk_left \u001B[38;5;129;01mis\u001B[39;00m \u001B[38;5;129;01mnot\u001B[39;00m \u001B[38;5;28;01mNone\u001B[39;00m:\n\u001B[0;32m   1124\u001B[0m     \u001B[38;5;28;01mreturn\u001B[39;00m \u001B[38;5;28;01mNone\u001B[39;00m\n\u001B[1;32m-> 1125\u001B[0m line \u001B[38;5;241m=\u001B[39m \u001B[38;5;28;43mself\u001B[39;49m\u001B[38;5;241;43m.\u001B[39;49m\u001B[43m_fp\u001B[49m\u001B[38;5;241;43m.\u001B[39;49m\u001B[43mfp\u001B[49m\u001B[38;5;241;43m.\u001B[39;49m\u001B[43mreadline\u001B[49m\u001B[43m(\u001B[49m\u001B[43m)\u001B[49m  \u001B[38;5;66;03m# type: ignore[union-attr]\u001B[39;00m\n\u001B[0;32m   1126\u001B[0m line \u001B[38;5;241m=\u001B[39m line\u001B[38;5;241m.\u001B[39msplit(\u001B[38;5;124mb\u001B[39m\u001B[38;5;124m\"\u001B[39m\u001B[38;5;124m;\u001B[39m\u001B[38;5;124m\"\u001B[39m, \u001B[38;5;241m1\u001B[39m)[\u001B[38;5;241m0\u001B[39m]\n\u001B[0;32m   1127\u001B[0m \u001B[38;5;28;01mtry\u001B[39;00m:\n",
      "File \u001B[1;32m~\\AppData\\Local\\Programs\\Python\\Python312\\Lib\\socket.py:707\u001B[0m, in \u001B[0;36mSocketIO.readinto\u001B[1;34m(self, b)\u001B[0m\n\u001B[0;32m    705\u001B[0m \u001B[38;5;28;01mwhile\u001B[39;00m \u001B[38;5;28;01mTrue\u001B[39;00m:\n\u001B[0;32m    706\u001B[0m     \u001B[38;5;28;01mtry\u001B[39;00m:\n\u001B[1;32m--> 707\u001B[0m         \u001B[38;5;28;01mreturn\u001B[39;00m \u001B[38;5;28;43mself\u001B[39;49m\u001B[38;5;241;43m.\u001B[39;49m\u001B[43m_sock\u001B[49m\u001B[38;5;241;43m.\u001B[39;49m\u001B[43mrecv_into\u001B[49m\u001B[43m(\u001B[49m\u001B[43mb\u001B[49m\u001B[43m)\u001B[49m\n\u001B[0;32m    708\u001B[0m     \u001B[38;5;28;01mexcept\u001B[39;00m timeout:\n\u001B[0;32m    709\u001B[0m         \u001B[38;5;28mself\u001B[39m\u001B[38;5;241m.\u001B[39m_timeout_occurred \u001B[38;5;241m=\u001B[39m \u001B[38;5;28;01mTrue\u001B[39;00m\n",
      "File \u001B[1;32m~\\AppData\\Local\\Programs\\Python\\Python312\\Lib\\ssl.py:1249\u001B[0m, in \u001B[0;36mSSLSocket.recv_into\u001B[1;34m(self, buffer, nbytes, flags)\u001B[0m\n\u001B[0;32m   1245\u001B[0m     \u001B[38;5;28;01mif\u001B[39;00m flags \u001B[38;5;241m!=\u001B[39m \u001B[38;5;241m0\u001B[39m:\n\u001B[0;32m   1246\u001B[0m         \u001B[38;5;28;01mraise\u001B[39;00m \u001B[38;5;167;01mValueError\u001B[39;00m(\n\u001B[0;32m   1247\u001B[0m           \u001B[38;5;124m\"\u001B[39m\u001B[38;5;124mnon-zero flags not allowed in calls to recv_into() on \u001B[39m\u001B[38;5;132;01m%s\u001B[39;00m\u001B[38;5;124m\"\u001B[39m \u001B[38;5;241m%\u001B[39m\n\u001B[0;32m   1248\u001B[0m           \u001B[38;5;28mself\u001B[39m\u001B[38;5;241m.\u001B[39m\u001B[38;5;18m__class__\u001B[39m)\n\u001B[1;32m-> 1249\u001B[0m     \u001B[38;5;28;01mreturn\u001B[39;00m \u001B[38;5;28;43mself\u001B[39;49m\u001B[38;5;241;43m.\u001B[39;49m\u001B[43mread\u001B[49m\u001B[43m(\u001B[49m\u001B[43mnbytes\u001B[49m\u001B[43m,\u001B[49m\u001B[43m \u001B[49m\u001B[43mbuffer\u001B[49m\u001B[43m)\u001B[49m\n\u001B[0;32m   1250\u001B[0m \u001B[38;5;28;01melse\u001B[39;00m:\n\u001B[0;32m   1251\u001B[0m     \u001B[38;5;28;01mreturn\u001B[39;00m \u001B[38;5;28msuper\u001B[39m()\u001B[38;5;241m.\u001B[39mrecv_into(buffer, nbytes, flags)\n",
      "File \u001B[1;32m~\\AppData\\Local\\Programs\\Python\\Python312\\Lib\\ssl.py:1105\u001B[0m, in \u001B[0;36mSSLSocket.read\u001B[1;34m(self, len, buffer)\u001B[0m\n\u001B[0;32m   1103\u001B[0m \u001B[38;5;28;01mtry\u001B[39;00m:\n\u001B[0;32m   1104\u001B[0m     \u001B[38;5;28;01mif\u001B[39;00m buffer \u001B[38;5;129;01mis\u001B[39;00m \u001B[38;5;129;01mnot\u001B[39;00m \u001B[38;5;28;01mNone\u001B[39;00m:\n\u001B[1;32m-> 1105\u001B[0m         \u001B[38;5;28;01mreturn\u001B[39;00m \u001B[38;5;28;43mself\u001B[39;49m\u001B[38;5;241;43m.\u001B[39;49m\u001B[43m_sslobj\u001B[49m\u001B[38;5;241;43m.\u001B[39;49m\u001B[43mread\u001B[49m\u001B[43m(\u001B[49m\u001B[38;5;28;43mlen\u001B[39;49m\u001B[43m,\u001B[49m\u001B[43m \u001B[49m\u001B[43mbuffer\u001B[49m\u001B[43m)\u001B[49m\n\u001B[0;32m   1106\u001B[0m     \u001B[38;5;28;01melse\u001B[39;00m:\n\u001B[0;32m   1107\u001B[0m         \u001B[38;5;28;01mreturn\u001B[39;00m \u001B[38;5;28mself\u001B[39m\u001B[38;5;241m.\u001B[39m_sslobj\u001B[38;5;241m.\u001B[39mread(\u001B[38;5;28mlen\u001B[39m)\n",
      "\u001B[1;31mKeyboardInterrupt\u001B[0m: "
     ]
    }
   ],
   "source": [
    "def calc_ner_accuracy(data: pd.DataFrame):\n",
    "    ner_acc = []\n",
    "    for i in range(len(data)):\n",
    "        ner_acc.append(ner_accuracy(data[\"gold_answers\"][i], data[\"answers\"][i]))\n",
    "    data_with_metric = data.copy()\n",
    "    data_with_metric[\"ner_acc\"] = ner_acc\n",
    "    return data_with_metric\n",
    "\n",
    "calc_ner_accuracy(valid_data)"
   ],
   "metadata": {
    "collapsed": false,
    "ExecuteTime": {
     "end_time": "2024-12-14T09:03:19.233250Z",
     "start_time": "2024-12-14T09:02:57.142157Z"
    }
   },
   "id": "6defc3443a5f6437",
   "execution_count": 48
  },
  {
   "cell_type": "code",
   "outputs": [
    {
     "data": {
      "text/plain": "('LOC', 'ORG', 'PER')"
     },
     "execution_count": 15,
     "metadata": {},
     "output_type": "execute_result"
    }
   ],
   "source": [
    "nlp.get_pipe(\"ner\").labels"
   ],
   "metadata": {
    "collapsed": false,
    "ExecuteTime": {
     "end_time": "2024-12-14T08:23:33.480763Z",
     "start_time": "2024-12-14T08:23:33.474082Z"
    }
   },
   "id": "26bf83d0d0d4600d",
   "execution_count": 15
  },
  {
   "cell_type": "code",
   "outputs": [],
   "source": [],
   "metadata": {
    "collapsed": false
   },
   "id": "f86f2c67b1deeab1"
  }
 ],
 "metadata": {
  "kernelspec": {
   "display_name": "Python 3",
   "language": "python",
   "name": "python3"
  },
  "language_info": {
   "codemirror_mode": {
    "name": "ipython",
    "version": 2
   },
   "file_extension": ".py",
   "mimetype": "text/x-python",
   "name": "python",
   "nbconvert_exporter": "python",
   "pygments_lexer": "ipython2",
   "version": "2.7.6"
  }
 },
 "nbformat": 4,
 "nbformat_minor": 5
}
